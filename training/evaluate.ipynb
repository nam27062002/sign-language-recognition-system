﻿{
 "cells": [
  {
   "metadata": {
    "ExecuteTime": {
     "end_time": "2025-03-25T12:30:14.420711Z",
     "start_time": "2025-03-25T12:30:14.410651Z"
    }
   },
   "cell_type": "code",
   "source": [
    "import time\n",
    "import pandas as pd\n",
    "import matplotlib.pyplot as plt\n",
    "from sklearn.metrics import accuracy_score, classification_report\n",
    "from model_pytorch import SignLanguageRecognizer as PyTorchRecognizer, CNNModel\n",
    "from model_tensorflow import model as TensorFlowRecognizer\n",
    "from setting.setting import LABELS\n",
    "from model_pytorch import ModelType"
   ],
   "id": "f0d3595d4b1c650c",
   "outputs": [],
   "execution_count": 6
  },
  {
   "metadata": {
    "ExecuteTime": {
     "end_time": "2025-03-25T12:30:18.798861Z",
     "start_time": "2025-03-25T12:30:18.771326Z"
    }
   },
   "cell_type": "code",
   "source": [
    "models_info = [\n",
    "    {\"framework\": \"PyTorch\", \"type\": ModelType.MOBILENETV2, \"path\": \"../models/MobileNetV2/mobilenetv2_best_model_v1.pth\"},\n",
    "    {\"framework\": \"PyTorch\", \"type\": ModelType.VGG16, \"path\": \"../models/VGG16/vgg16_best_model_v1.pth\"},\n",
    "    {\"framework\": \"PyTorch\", \"type\": ModelType.CNN, \"path\": \"../models/CNN/cnn_best_model_v1.pth\"},\n",
    "    {\"framework\": \"TensorFlow\", \"type\": ModelType.MOBILENETV2, \"path\": \"../models/MobileNetV2/mobilenetv2_best_model_v1.keras\"},\n",
    "    {\"framework\": \"TensorFlow\", \"type\": ModelType.VGG16, \"path\": \"../models/VGG16/vgg16_best_model_v1.keras\"},\n",
    "    {\"framework\": \"TensorFlow\", \"type\": ModelType.CNN, \"path\": \"../models/CNN/cnn_best_model_v1.keras\"},\n",
    "]\n",
    "eval_data = []\n",
    "for label in LABELS:\n",
    "    for i in range(1, 500):\n",
    "        image_path = f'../dataset/raw/Test_Alphabet/{label}/{label}_{i}.png'\n",
    "        eval_data.append({\"image_path\": image_path, \"label\": label})"
   ],
   "id": "1f38a9fbfb6bb302",
   "outputs": [],
   "execution_count": 7
  },
  {
   "metadata": {
    "ExecuteTime": {
     "end_time": "2025-03-25T12:30:20.791467Z",
     "start_time": "2025-03-25T12:30:20.777992Z"
    }
   },
   "cell_type": "code",
   "source": [
    "def init_recognizer(framework, model_type, model_path):\n",
    "    if framework == \"PyTorch\":\n",
    "        return PyTorchRecognizer(model_type, model_path)\n",
    "    elif framework == \"TensorFlow\":\n",
    "        return TensorFlowRecognizer(model_path)\n",
    "    else:\n",
    "        raise ValueError(\"Framework không hợp lệ\")"
   ],
   "id": "acadeb8d31c8fc69",
   "outputs": [],
   "execution_count": 8
  },
  {
   "metadata": {
    "jupyter": {
     "is_executing": true
    },
    "ExecuteTime": {
     "start_time": "2025-03-25T12:30:22.419307Z"
    }
   },
   "cell_type": "code",
   "source": [
    "results = []\n",
    "detailed_results = []\n",
    "\n",
    "for model_info in models_info:\n",
    "    framework = model_info[\"framework\"]\n",
    "    model_type = model_info[\"type\"]\n",
    "    model_path = model_info[\"path\"]\n",
    "    recognizer = init_recognizer(framework, model_type, model_path)\n",
    "\n",
    "    predictions = []\n",
    "    true_labels = []\n",
    "    processing_times = []\n",
    "\n",
    "    for data in eval_data:\n",
    "        image_path = data[\"image_path\"]\n",
    "        true_label = data[\"label\"]\n",
    "\n",
    "        start_time = time.time()\n",
    "        result = recognizer.predict(image_path)\n",
    "        end_time = time.time()\n",
    "\n",
    "        if result is not None:\n",
    "            predictions.append(result)\n",
    "            true_labels.append(true_label)\n",
    "            processing_times.append(end_time - start_time)\n",
    "            detailed_results.append({\n",
    "                \"model\": f\"{framework}_{model_type.name}\",\n",
    "                \"image_path\": image_path,\n",
    "                \"true_label\": true_label,\n",
    "                \"predicted_label\": result,\n",
    "                \"processing_time\": end_time - start_time\n",
    "            })\n",
    "\n",
    "    if predictions:\n",
    "        accuracy = accuracy_score(true_labels, predictions)\n",
    "        report = classification_report(true_labels, predictions, output_dict=True)\n",
    "        avg_time = sum(processing_times) / len(processing_times)\n",
    "\n",
    "        results.append({\n",
    "            \"model\": f\"{framework}_{model_type.name}\",\n",
    "            \"accuracy\": accuracy,\n",
    "            \"precision\": report[\"weighted avg\"][\"precision\"],\n",
    "            \"recall\": report[\"weighted avg\"][\"recall\"],\n",
    "            \"f1-score\": report[\"weighted avg\"][\"f1-score\"],\n",
    "            \"avg_time_per_image\": avg_time\n",
    "        })"
   ],
   "id": "105599b1d8edc281",
   "outputs": [
    {
     "name": "stderr",
     "output_type": "stream",
     "text": [
      "C:\\Users\\ntrantrong\\AppData\\Local\\Programs\\Python\\Python39\\lib\\site-packages\\torchvision\\models\\_utils.py:208: UserWarning: The parameter 'pretrained' is deprecated since 0.13 and may be removed in the future, please use 'weights' instead.\n",
      "  warnings.warn(\n",
      "C:\\Users\\ntrantrong\\AppData\\Local\\Programs\\Python\\Python39\\lib\\site-packages\\torchvision\\models\\_utils.py:223: UserWarning: Arguments other than a weight enum or `None` for 'weights' are deprecated since 0.13 and may be removed in the future. The current behavior is equivalent to passing `weights=None`.\n",
      "  warnings.warn(msg)\n"
     ]
    }
   ],
   "execution_count": null
  },
  {
   "metadata": {},
   "cell_type": "code",
   "outputs": [],
   "execution_count": null,
   "source": [
    "df = pd.DataFrame(results)\n",
    "print(\"Kết quả đánh giá các model:\")\n",
    "print(df)\n",
    "\n",
    "df.to_csv(\"model_evaluation_results.csv\", index=False)\n",
    "print(\"Đã lưu kết quả đánh giá vào file 'model_evaluation_results.csv'\")"
   ],
   "id": "6550cf75985d9056"
  },
  {
   "metadata": {},
   "cell_type": "code",
   "outputs": [],
   "execution_count": null,
   "source": [
    "df_detailed = pd.DataFrame(detailed_results)\n",
    "df_detailed.to_csv(\"detailed_predictions.csv\", index=False)\n",
    "print(\"Đã lưu chi tiết từng giá trị vào file 'detailed_predictions.csv'\")"
   ],
   "id": "18453c97d9f65b05"
  },
  {
   "metadata": {},
   "cell_type": "code",
   "outputs": [],
   "execution_count": null,
   "source": [
    "plt.figure(figsize=(10, 6))\n",
    "for i, row in df.iterrows():\n",
    "    plt.scatter(row[\"avg_time_per_image\"], row[\"accuracy\"], label=row[\"model\"], s=100)\n",
    "    plt.text(row[\"avg_time_per_image\"] + 0.001, row[\"accuracy\"], row[\"model\"], fontsize=9)\n",
    "\n",
    "plt.title(\"So sánh thời gian xử lý và độ chính xác của các model\")\n",
    "plt.xlabel(\"Thời gian xử lý trung bình (giây)\")\n",
    "plt.ylabel(\"Độ chính xác (Accuracy)\")\n",
    "plt.grid(True)\n",
    "plt.legend()\n",
    "plt.tight_layout()\n",
    "\n",
    "plt.savefig(\"model_comparison.png\", dpi=300)\n",
    "print(\"Đã lưu biểu đồ so sánh vào file 'model_comparison.png'\")\n",
    "\n",
    "plt.show()"
   ],
   "id": "90f641b8d5fc2294"
  }
 ],
 "metadata": {
  "kernelspec": {
   "display_name": "Python 3",
   "language": "python",
   "name": "python3"
  },
  "language_info": {
   "codemirror_mode": {
    "name": "ipython",
    "version": 2
   },
   "file_extension": ".py",
   "mimetype": "text/x-python",
   "name": "python",
   "nbconvert_exporter": "python",
   "pygments_lexer": "ipython2",
   "version": "2.7.6"
  }
 },
 "nbformat": 4,
 "nbformat_minor": 5
}
