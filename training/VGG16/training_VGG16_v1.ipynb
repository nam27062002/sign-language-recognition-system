{
 "cells": [
  {
   "cell_type": "code",
   "id": "initial_id",
   "metadata": {
    "collapsed": true,
    "ExecuteTime": {
     "end_time": "2025-03-12T18:28:26.481123Z",
     "start_time": "2025-03-12T18:28:26.469645Z"
    }
   },
   "source": [
    "import os\n",
    "import tensorflow as tf\n",
    "from tensorflow.keras.models import Sequential\n",
    "from tensorflow.keras.layers import Flatten, Dense, Dropout\n",
    "from tensorflow.keras.optimizers import Adam\n",
    "from tensorflow.keras.callbacks import EarlyStopping, ModelCheckpoint\n",
    "from tensorflow.keras.applications import VGG16\n",
    "from setting.setting import *"
   ],
   "outputs": [],
   "execution_count": 3
  },
  {
   "metadata": {
    "ExecuteTime": {
     "end_time": "2025-03-12T18:28:26.509512Z",
     "start_time": "2025-03-12T18:28:26.498570Z"
    }
   },
   "cell_type": "code",
   "source": [
    "data_dir = \"../../dataset/processed/v1/training\"\n",
    "val_data_dir = \"../../dataset/processed/v1/validation\"\n",
    "model_dir = \"../../models/VGG16\"\n",
    "best_model_filename = 'vgg16_best_model_v1.keras'\n",
    "os.makedirs(model_dir, exist_ok=True)"
   ],
   "id": "bf9f554cd59bf37f",
   "outputs": [],
   "execution_count": 4
  },
  {
   "metadata": {
    "ExecuteTime": {
     "end_time": "2025-03-12T18:28:40.814200Z",
     "start_time": "2025-03-12T18:28:26.566314Z"
    }
   },
   "cell_type": "code",
   "source": [
    "# Tải và chuẩn hóa dữ liệu huấn luyện\n",
    "train_ds = tf.keras.preprocessing.image_dataset_from_directory(\n",
    "    data_dir,\n",
    "    image_size=(IMG_HEIGHT, IMG_WIDTH),\n",
    "    batch_size=BATCH_SIZE,\n",
    "    label_mode='categorical',  # Nhãn dạng one-hot cho 26 lớp\n",
    ").map(lambda x, y: (x / 255.0, y))  # Chuẩn hóa pixel về [0, 1]\n",
    "\n",
    "# Tải và chuẩn hóa dữ liệu validation\n",
    "val_ds = tf.keras.preprocessing.image_dataset_from_directory(\n",
    "    val_data_dir,\n",
    "    image_size=(IMG_HEIGHT, IMG_WIDTH),\n",
    "    batch_size=BATCH_SIZE,\n",
    "    label_mode='categorical',\n",
    ").map(lambda x, y: (x / 255.0, y))"
   ],
   "id": "1457a352ce0c5697",
   "outputs": [
    {
     "name": "stdout",
     "output_type": "stream",
     "text": [
      "Found 21945 files belonging to 26 classes.\n",
      "Found 2465 files belonging to 26 classes.\n"
     ]
    }
   ],
   "execution_count": 5
  },
  {
   "metadata": {
    "ExecuteTime": {
     "end_time": "2025-03-12T18:28:40.927343Z",
     "start_time": "2025-03-12T18:28:40.830137Z"
    }
   },
   "cell_type": "code",
   "source": [
    "data_augmentation = tf.keras.Sequential([\n",
    "    tf.keras.layers.RandomFlip(\"horizontal\"),  # Lật ngang ngẫu nhiên\n",
    "    tf.keras.layers.RandomZoom(0.1),  # Zoom ngẫu nhiên với biên độ 10%\n",
    "    tf.keras.layers.RandomRotation(0.1),  # Xoay ngẫu nhiên với góc tối đa 10%\n",
    "])"
   ],
   "id": "bbd7022911b2a7ad",
   "outputs": [],
   "execution_count": 6
  },
  {
   "metadata": {
    "ExecuteTime": {
     "end_time": "2025-03-12T18:28:42.859362Z",
     "start_time": "2025-03-12T18:28:41.030439Z"
    }
   },
   "cell_type": "code",
   "source": [
    "# Áp dụng augmentation cho tập huấn luyện\n",
    "train_ds = train_ds.map(lambda x, y: (data_augmentation(x, training=True), y), num_parallel_calls=tf.data.AUTOTUNE)\n",
    "\n",
    "# Tăng tốc xử lý dữ liệu bằng prefetch\n",
    "train_ds = train_ds.prefetch(tf.data.AUTOTUNE)\n",
    "val_ds = val_ds.prefetch(tf.data.AUTOTUNE)"
   ],
   "id": "cba610e6d23f3b0",
   "outputs": [],
   "execution_count": 7
  },
  {
   "metadata": {
    "ExecuteTime": {
     "end_time": "2025-03-12T18:28:55.036561Z",
     "start_time": "2025-03-12T18:28:43.029022Z"
    }
   },
   "cell_type": "code",
   "source": [
    "# Tải VGG16 làm base model\n",
    "base_model = VGG16(weights='imagenet', include_top=False, input_shape=(IMG_HEIGHT, IMG_WIDTH, 3))\n",
    "\n",
    "# Đóng băng các lớp của VGG16\n",
    "for layer in base_model.layers:\n",
    "    layer.trainable = False\n",
    "\n",
    "# Xây dựng mô hình hoàn chỉnh\n",
    "model = Sequential([\n",
    "    base_model,  # Sử dụng VGG16 làm nền tảng\n",
    "    Flatten(),  # Chuyển tensor thành vector\n",
    "    Dense(256, activation='relu'),  # Lớp fully connected với 256 units\n",
    "    Dropout(0.5),  # Giảm overfitting\n",
    "    Dense(26, activation='softmax')  # Lớp đầu ra cho 26 ký tự ASL\n",
    "])"
   ],
   "id": "4de6a0f40b112ad",
   "outputs": [],
   "execution_count": 8
  },
  {
   "metadata": {
    "ExecuteTime": {
     "end_time": "2025-03-12T18:28:55.232546Z",
     "start_time": "2025-03-12T18:28:55.053934Z"
    }
   },
   "cell_type": "code",
   "source": [
    "model.compile(\n",
    "    optimizer=Adam(learning_rate=0.0001),  # Learning rate thấp để hội tụ ổn định\n",
    "    loss='categorical_crossentropy',  # Loss function cho phân loại đa lớp\n",
    "    metrics=['accuracy']  # Đánh giá bằng độ chính xác\n",
    ")"
   ],
   "id": "57d6c9880da718b0",
   "outputs": [],
   "execution_count": 9
  },
  {
   "metadata": {
    "ExecuteTime": {
     "end_time": "2025-03-12T18:28:55.366281Z",
     "start_time": "2025-03-12T18:28:55.360782Z"
    }
   },
   "cell_type": "code",
   "source": [
    "# EarlyStopping để dừng sớm nếu không cải thiện\n",
    "early_stopping = EarlyStopping(\n",
    "    monitor='val_loss',  # Theo dõi validation loss\n",
    "    patience=5,  # Dừng sau 5 epochs nếu không cải thiện\n",
    "    mode='min',\n",
    "    verbose=1\n",
    ")\n",
    "\n",
    "# ModelCheckpoint để lưu mô hình tốt nhất\n",
    "checkpoint = ModelCheckpoint(\n",
    "    os.path.join(model_dir, best_model_filename),  # Đường dẫn lưu file\n",
    "    monitor='val_accuracy',  # Theo dõi validation accuracy\n",
    "    save_best_only=True,  # Chỉ lưu mô hình tốt nhất\n",
    "    mode='max',\n",
    "    verbose=1\n",
    ")"
   ],
   "id": "584ebb6b08b76e6d",
   "outputs": [],
   "execution_count": 10
  },
  {
   "metadata": {
    "jupyter": {
     "is_executing": true
    },
    "ExecuteTime": {
     "start_time": "2025-03-12T18:28:55.406860Z"
    }
   },
   "cell_type": "code",
   "source": [
    "final_total_epochs = 100  # Số epochs tối đa\n",
    "history = model.fit(\n",
    "    train_ds,\n",
    "    validation_data=val_ds,\n",
    "    epochs=final_total_epochs,\n",
    "    callbacks=[early_stopping, checkpoint],  # Áp dụng callbacks\n",
    "    verbose=1  # Hiển thị tiến trình huấn luyện\n",
    ")"
   ],
   "id": "fbcbb04f4a82ec1a",
   "outputs": [
    {
     "name": "stdout",
     "output_type": "stream",
     "text": [
      "Epoch 1/100\n"
     ]
    }
   ],
   "execution_count": null
  },
  {
   "metadata": {},
   "cell_type": "code",
   "source": "print(f\"Mô hình tốt nhất đã được lưu tại: {os.path.join(model_dir, best_model_filename)}\")",
   "id": "33aa2b3031c9fbf5",
   "outputs": [],
   "execution_count": null
  },
  {
   "metadata": {},
   "cell_type": "code",
   "source": [
    "import matplotlib.pyplot as plt\n",
    "\n",
    "plt.figure(figsize=(12, 4))\n",
    "plt.subplot(1, 2, 1)\n",
    "plt.plot(history.history['accuracy'], label='Train Accuracy')\n",
    "plt.plot(history.history['val_accuracy'], label='Validation Accuracy')\n",
    "plt.title('Model Accuracy')\n",
    "plt.xlabel('Epoch')\n",
    "plt.ylabel('Accuracy')\n",
    "plt.legend()\n",
    "\n",
    "plt.subplot(1, 2, 2)\n",
    "plt.plot(history.history['loss'], label='Train Loss')\n",
    "plt.plot(history.history['val_loss'], label='Validation Loss')\n",
    "plt.title('Model Loss')\n",
    "plt.xlabel('Epoch')\n",
    "plt.ylabel('Loss')\n",
    "plt.legend()\n",
    "\n",
    "plt.show()"
   ],
   "id": "159d41df9af0ee5a",
   "outputs": [],
   "execution_count": null
  },
  {
   "metadata": {},
   "cell_type": "code",
   "source": [
    "import random\n",
    "import numpy as np\n",
    "import string\n",
    "\n",
    "val_images, val_labels = next(iter(val_ds))\n",
    "random_index = random.randint(0, BATCH_SIZE - 1)\n",
    "img = val_images[random_index]\n",
    "true_label = val_labels[random_index]\n",
    "\n",
    "pred = model.predict(tf.expand_dims(img, axis=0))\n",
    "pred_label = string.ascii_uppercase[np.argmax(pred)]\n",
    "true_label_str = string.ascii_uppercase[np.argmax(true_label)]\n",
    "\n",
    "plt.imshow(img)\n",
    "plt.title(f\"True: {true_label_str}, Pred: {pred_label}\")\n",
    "plt.axis('off')\n",
    "plt.show()"
   ],
   "id": "9ffde0a129e73f22",
   "outputs": [],
   "execution_count": null
  }
 ],
 "metadata": {
  "kernelspec": {
   "display_name": "Python 3",
   "language": "python",
   "name": "python3"
  },
  "language_info": {
   "codemirror_mode": {
    "name": "ipython",
    "version": 2
   },
   "file_extension": ".py",
   "mimetype": "text/x-python",
   "name": "python",
   "nbconvert_exporter": "python",
   "pygments_lexer": "ipython2",
   "version": "2.7.6"
  }
 },
 "nbformat": 4,
 "nbformat_minor": 5
}
