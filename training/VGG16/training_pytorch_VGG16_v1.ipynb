{
 "cells": [
  {
   "cell_type": "code",
   "id": "initial_id",
   "metadata": {
    "collapsed": true,
    "ExecuteTime": {
     "end_time": "2025-03-23T02:18:31.912916Z",
     "start_time": "2025-03-23T02:18:31.898953Z"
    }
   },
   "source": [
    "import os\n",
    "import torch\n",
    "import torch.nn as nn\n",
    "import torch.optim as optim\n",
    "from torchvision import datasets, transforms, models\n",
    "from torch.utils.data import DataLoader\n",
    "from setting.setting import *\n",
    "import matplotlib.pyplot as plt"
   ],
   "outputs": [],
   "execution_count": 8
  },
  {
   "metadata": {
    "ExecuteTime": {
     "end_time": "2025-03-23T02:18:31.928873Z",
     "start_time": "2025-03-23T02:18:31.918900Z"
    }
   },
   "cell_type": "code",
   "source": [
    "data_dir = \"../../dataset/processed/v1/training\"\n",
    "val_data_dir = \"../../dataset/processed/v1/validation\"\n",
    "model_dir = \"../../models/VGG16\"\n",
    "best_model_filename = 'vgg16_best_model_v1.pth'\n",
    "os.makedirs(model_dir, exist_ok=True)\n",
    "device = torch.device('cuda' if torch.cuda.is_available() else 'cpu')"
   ],
   "id": "bf9f554cd59bf37f",
   "outputs": [],
   "execution_count": 9
  },
  {
   "metadata": {
    "ExecuteTime": {
     "end_time": "2025-03-23T02:18:32.833610Z",
     "start_time": "2025-03-23T02:18:32.728713Z"
    }
   },
   "cell_type": "code",
   "source": [
    "data_transforms = {\n",
    "    'train': transforms.Compose([\n",
    "        transforms.RandomHorizontalFlip(),\n",
    "        transforms.RandomRotation(10),\n",
    "        transforms.RandomResizedCrop((IMG_HEIGHT, IMG_WIDTH), scale=(0.9, 1.0)),\n",
    "        transforms.ToTensor(),\n",
    "        transforms.Normalize([0.485, 0.456, 0.406], [0.229, 0.224, 0.225])\n",
    "    ]),\n",
    "    'val': transforms.Compose([\n",
    "        transforms.Resize((IMG_HEIGHT, IMG_WIDTH)),\n",
    "        transforms.ToTensor(),\n",
    "        transforms.Normalize([0.485, 0.456, 0.406], [0.229, 0.224, 0.225])\n",
    "    ]),\n",
    "}\n",
    "\n",
    "train_dataset = datasets.ImageFolder(root=data_dir, transform=data_transforms['train'])\n",
    "val_dataset = datasets.ImageFolder(root=val_data_dir, transform=data_transforms['val'])\n",
    "\n",
    "train_loader = DataLoader(train_dataset, batch_size=BATCH_SIZE, shuffle=True, num_workers=4)\n",
    "val_loader = DataLoader(val_dataset, batch_size=BATCH_SIZE, shuffle=False, num_workers=4)"
   ],
   "id": "1457a352ce0c5697",
   "outputs": [],
   "execution_count": 10
  },
  {
   "metadata": {
    "ExecuteTime": {
     "end_time": "2025-03-23T02:18:35.257666Z",
     "start_time": "2025-03-23T02:18:32.897439Z"
    }
   },
   "cell_type": "code",
   "source": [
    "base_model = models.vgg16(pretrained=True)\n",
    "for param in base_model.parameters():\n",
    "    param.requires_grad = False\n",
    "num_features = base_model.classifier[6].in_features\n",
    "base_model.classifier[6] = nn.Linear(num_features, 26)\n",
    "model = base_model.to(device)"
   ],
   "id": "bbd7022911b2a7ad",
   "outputs": [],
   "execution_count": 11
  },
  {
   "metadata": {
    "ExecuteTime": {
     "end_time": "2025-03-23T02:18:35.395905Z",
     "start_time": "2025-03-23T02:18:35.381941Z"
    }
   },
   "cell_type": "code",
   "source": [
    "criterion = nn.CrossEntropyLoss()\n",
    "optimizer = optim.Adam(model.classifier.parameters(), lr=0.0001)"
   ],
   "id": "cba610e6d23f3b0",
   "outputs": [],
   "execution_count": 12
  },
  {
   "metadata": {
    "ExecuteTime": {
     "end_time": "2025-03-23T02:18:35.518908Z",
     "start_time": "2025-03-23T02:18:35.504945Z"
    }
   },
   "cell_type": "code",
   "source": [
    "def evaluate(model, data_loader, criterion, device):\n",
    "    model.eval()\n",
    "    total_loss = 0.0\n",
    "    correct = 0\n",
    "    total = 0\n",
    "    with torch.no_grad():\n",
    "        for inputs, labels in data_loader:\n",
    "            inputs, labels = inputs.to(device), labels.to(device)\n",
    "            outputs = model(inputs)\n",
    "            loss = criterion(outputs, labels)\n",
    "            total_loss += loss.item()\n",
    "            _, predicted = torch.max(outputs.data, 1)\n",
    "            total += labels.size(0)\n",
    "            correct += (predicted == labels).sum().item()\n",
    "    avg_loss = total_loss / len(data_loader)\n",
    "    accuracy = correct / total\n",
    "    return avg_loss, accuracy"
   ],
   "id": "4de6a0f40b112ad",
   "outputs": [],
   "execution_count": 13
  },
  {
   "metadata": {
    "ExecuteTime": {
     "end_time": "2025-03-23T12:43:25.545941Z",
     "start_time": "2025-03-23T02:18:35.646080Z"
    }
   },
   "cell_type": "code",
   "source": [
    "best_val_acc = 0.0\n",
    "best_val_loss = float('inf')\n",
    "patience = 20\n",
    "final_total_epochs = 1000\n",
    "history = {'loss': [], 'accuracy': [], 'val_loss': [], 'val_accuracy': []}\n",
    "\n",
    "for epoch in range(final_total_epochs):\n",
    "    model.train()\n",
    "    running_loss = 0.0\n",
    "    correct = 0\n",
    "    total = 0\n",
    "    for inputs, labels in train_loader:\n",
    "        inputs, labels = inputs.to(device), labels.to(device)\n",
    "        optimizer.zero_grad()\n",
    "        outputs = model(inputs)\n",
    "        loss = criterion(outputs, labels)\n",
    "        loss.backward()\n",
    "        optimizer.step()\n",
    "        running_loss += loss.item()\n",
    "        _, predicted = torch.max(outputs.data, 1)\n",
    "        total += labels.size(0)\n",
    "        correct += (predicted == labels).sum().item()\n",
    "\n",
    "    train_loss = running_loss / len(train_loader)\n",
    "    train_acc = correct / total\n",
    "    val_loss, val_acc = evaluate(model, val_loader, criterion, device)\n",
    "\n",
    "    history['loss'].append(train_loss)\n",
    "    history['accuracy'].append(train_acc)\n",
    "    history['val_loss'].append(val_loss)\n",
    "    history['val_accuracy'].append(val_acc)\n",
    "\n",
    "    print(f'Epoch {epoch+1}/{final_total_epochs}, Loss: {train_loss:.4f}, Accuracy: {train_acc:.4f}, '\n",
    "          f'Val Loss: {val_loss:.4f}, Val Acc: {val_acc:.4f}')\n",
    "\n",
    "    if val_acc > best_val_acc:\n",
    "        best_val_acc = val_acc\n",
    "        torch.save(model.state_dict(), os.path.join(model_dir, best_model_filename))\n",
    "        print('Model saved')\n",
    "\n",
    "    if val_loss < best_val_loss:\n",
    "        best_val_loss = val_loss\n",
    "        loss_no_improve = 0\n",
    "    else:\n",
    "        loss_no_improve += 1\n",
    "\n",
    "    if loss_no_improve >= patience:\n",
    "        print('Early stopping triggered')\n",
    "        break"
   ],
   "id": "57d6c9880da718b0",
   "outputs": [
    {
     "name": "stdout",
     "output_type": "stream",
     "text": [
      "Epoch 1/100, Loss: 2.1007, Accuracy: 0.4889, Val Loss: 1.2895, Val Acc: 0.8000\n",
      "Model saved\n",
      "Epoch 2/100, Loss: 1.1748, Accuracy: 0.7461, Val Loss: 0.8422, Val Acc: 0.8467\n",
      "Model saved\n",
      "Epoch 3/100, Loss: 0.9027, Accuracy: 0.7900, Val Loss: 0.6488, Val Acc: 0.8897\n",
      "Model saved\n",
      "Epoch 4/100, Loss: 0.7615, Accuracy: 0.8162, Val Loss: 0.5483, Val Acc: 0.8937\n",
      "Model saved\n",
      "Epoch 5/100, Loss: 0.6842, Accuracy: 0.8275, Val Loss: 0.4706, Val Acc: 0.9132\n",
      "Model saved\n",
      "Epoch 6/100, Loss: 0.6296, Accuracy: 0.8390, Val Loss: 0.4265, Val Acc: 0.9148\n",
      "Model saved\n",
      "Epoch 7/100, Loss: 0.5825, Accuracy: 0.8486, Val Loss: 0.3850, Val Acc: 0.9233\n",
      "Model saved\n",
      "Epoch 8/100, Loss: 0.5576, Accuracy: 0.8507, Val Loss: 0.3605, Val Acc: 0.9258\n",
      "Model saved\n",
      "Epoch 9/100, Loss: 0.5291, Accuracy: 0.8568, Val Loss: 0.3380, Val Acc: 0.9310\n",
      "Model saved\n",
      "Epoch 10/100, Loss: 0.5091, Accuracy: 0.8608, Val Loss: 0.3155, Val Acc: 0.9339\n",
      "Model saved\n",
      "Epoch 11/100, Loss: 0.4945, Accuracy: 0.8622, Val Loss: 0.3035, Val Acc: 0.9343\n",
      "Model saved\n",
      "Epoch 12/100, Loss: 0.4725, Accuracy: 0.8718, Val Loss: 0.2783, Val Acc: 0.9408\n",
      "Model saved\n",
      "Epoch 13/100, Loss: 0.4583, Accuracy: 0.8735, Val Loss: 0.2744, Val Acc: 0.9396\n",
      "Epoch 14/100, Loss: 0.4521, Accuracy: 0.8752, Val Loss: 0.2599, Val Acc: 0.9420\n",
      "Model saved\n",
      "Epoch 15/100, Loss: 0.4366, Accuracy: 0.8772, Val Loss: 0.2491, Val Acc: 0.9465\n",
      "Model saved\n",
      "Epoch 16/100, Loss: 0.4282, Accuracy: 0.8769, Val Loss: 0.2453, Val Acc: 0.9469\n",
      "Model saved\n",
      "Epoch 17/100, Loss: 0.4215, Accuracy: 0.8807, Val Loss: 0.2379, Val Acc: 0.9444\n",
      "Epoch 18/100, Loss: 0.4117, Accuracy: 0.8814, Val Loss: 0.2293, Val Acc: 0.9485\n",
      "Model saved\n",
      "Epoch 19/100, Loss: 0.4053, Accuracy: 0.8828, Val Loss: 0.2227, Val Acc: 0.9497\n",
      "Model saved\n",
      "Epoch 20/100, Loss: 0.3963, Accuracy: 0.8879, Val Loss: 0.2208, Val Acc: 0.9489\n",
      "Epoch 21/100, Loss: 0.3960, Accuracy: 0.8876, Val Loss: 0.2135, Val Acc: 0.9529\n",
      "Model saved\n",
      "Epoch 22/100, Loss: 0.3873, Accuracy: 0.8885, Val Loss: 0.2066, Val Acc: 0.9525\n",
      "Epoch 23/100, Loss: 0.3913, Accuracy: 0.8843, Val Loss: 0.1992, Val Acc: 0.9554\n",
      "Model saved\n",
      "Epoch 24/100, Loss: 0.3820, Accuracy: 0.8900, Val Loss: 0.1961, Val Acc: 0.9566\n",
      "Model saved\n",
      "Epoch 25/100, Loss: 0.3802, Accuracy: 0.8886, Val Loss: 0.1904, Val Acc: 0.9554\n",
      "Epoch 26/100, Loss: 0.3749, Accuracy: 0.8893, Val Loss: 0.1866, Val Acc: 0.9578\n",
      "Model saved\n",
      "Epoch 27/100, Loss: 0.3716, Accuracy: 0.8895, Val Loss: 0.1881, Val Acc: 0.9574\n",
      "Epoch 28/100, Loss: 0.3699, Accuracy: 0.8931, Val Loss: 0.1843, Val Acc: 0.9578\n",
      "Epoch 29/100, Loss: 0.3637, Accuracy: 0.8934, Val Loss: 0.1806, Val Acc: 0.9586\n",
      "Model saved\n",
      "Epoch 30/100, Loss: 0.3610, Accuracy: 0.8930, Val Loss: 0.1783, Val Acc: 0.9578\n",
      "Epoch 31/100, Loss: 0.3634, Accuracy: 0.8936, Val Loss: 0.1769, Val Acc: 0.9602\n",
      "Model saved\n",
      "Epoch 32/100, Loss: 0.3586, Accuracy: 0.8934, Val Loss: 0.1719, Val Acc: 0.9594\n",
      "Epoch 33/100, Loss: 0.3544, Accuracy: 0.8946, Val Loss: 0.1714, Val Acc: 0.9590\n",
      "Epoch 34/100, Loss: 0.3486, Accuracy: 0.8963, Val Loss: 0.1725, Val Acc: 0.9606\n",
      "Model saved\n",
      "Epoch 35/100, Loss: 0.3421, Accuracy: 0.8983, Val Loss: 0.1668, Val Acc: 0.9619\n",
      "Model saved\n",
      "Epoch 36/100, Loss: 0.3447, Accuracy: 0.8963, Val Loss: 0.1613, Val Acc: 0.9639\n",
      "Model saved\n",
      "Epoch 37/100, Loss: 0.3416, Accuracy: 0.8980, Val Loss: 0.1584, Val Acc: 0.9606\n",
      "Epoch 38/100, Loss: 0.3393, Accuracy: 0.8982, Val Loss: 0.1605, Val Acc: 0.9631\n",
      "Epoch 39/100, Loss: 0.3393, Accuracy: 0.8983, Val Loss: 0.1627, Val Acc: 0.9615\n",
      "Epoch 40/100, Loss: 0.3350, Accuracy: 0.9010, Val Loss: 0.1591, Val Acc: 0.9619\n",
      "Epoch 41/100, Loss: 0.3374, Accuracy: 0.8977, Val Loss: 0.1539, Val Acc: 0.9659\n",
      "Model saved\n",
      "Epoch 42/100, Loss: 0.3333, Accuracy: 0.8995, Val Loss: 0.1549, Val Acc: 0.9627\n",
      "Epoch 43/100, Loss: 0.3294, Accuracy: 0.9004, Val Loss: 0.1535, Val Acc: 0.9651\n",
      "Epoch 44/100, Loss: 0.3326, Accuracy: 0.8975, Val Loss: 0.1535, Val Acc: 0.9631\n",
      "Epoch 45/100, Loss: 0.3309, Accuracy: 0.8995, Val Loss: 0.1495, Val Acc: 0.9659\n",
      "Epoch 46/100, Loss: 0.3341, Accuracy: 0.8992, Val Loss: 0.1504, Val Acc: 0.9655\n",
      "Epoch 47/100, Loss: 0.3294, Accuracy: 0.8996, Val Loss: 0.1440, Val Acc: 0.9651\n",
      "Epoch 48/100, Loss: 0.3245, Accuracy: 0.9017, Val Loss: 0.1443, Val Acc: 0.9659\n",
      "Epoch 49/100, Loss: 0.3246, Accuracy: 0.9023, Val Loss: 0.1445, Val Acc: 0.9643\n",
      "Epoch 50/100, Loss: 0.3246, Accuracy: 0.9026, Val Loss: 0.1429, Val Acc: 0.9659\n",
      "Epoch 51/100, Loss: 0.3231, Accuracy: 0.9051, Val Loss: 0.1438, Val Acc: 0.9651\n",
      "Epoch 52/100, Loss: 0.3242, Accuracy: 0.9035, Val Loss: 0.1385, Val Acc: 0.9680\n",
      "Model saved\n",
      "Epoch 53/100, Loss: 0.3249, Accuracy: 0.9009, Val Loss: 0.1414, Val Acc: 0.9667\n",
      "Epoch 54/100, Loss: 0.3175, Accuracy: 0.9038, Val Loss: 0.1384, Val Acc: 0.9680\n",
      "Epoch 55/100, Loss: 0.3183, Accuracy: 0.9034, Val Loss: 0.1352, Val Acc: 0.9700\n",
      "Model saved\n",
      "Epoch 56/100, Loss: 0.3124, Accuracy: 0.9036, Val Loss: 0.1350, Val Acc: 0.9663\n",
      "Epoch 57/100, Loss: 0.3195, Accuracy: 0.9051, Val Loss: 0.1364, Val Acc: 0.9684\n",
      "Epoch 58/100, Loss: 0.3237, Accuracy: 0.9028, Val Loss: 0.1340, Val Acc: 0.9704\n",
      "Model saved\n",
      "Epoch 59/100, Loss: 0.3163, Accuracy: 0.9045, Val Loss: 0.1349, Val Acc: 0.9692\n",
      "Epoch 60/100, Loss: 0.3181, Accuracy: 0.9006, Val Loss: 0.1337, Val Acc: 0.9684\n",
      "Epoch 61/100, Loss: 0.3090, Accuracy: 0.9051, Val Loss: 0.1301, Val Acc: 0.9712\n",
      "Model saved\n",
      "Epoch 62/100, Loss: 0.3125, Accuracy: 0.9032, Val Loss: 0.1314, Val Acc: 0.9675\n",
      "Epoch 63/100, Loss: 0.3146, Accuracy: 0.9044, Val Loss: 0.1318, Val Acc: 0.9700\n",
      "Epoch 64/100, Loss: 0.3106, Accuracy: 0.9072, Val Loss: 0.1282, Val Acc: 0.9708\n",
      "Epoch 65/100, Loss: 0.3073, Accuracy: 0.9046, Val Loss: 0.1283, Val Acc: 0.9700\n",
      "Epoch 66/100, Loss: 0.3051, Accuracy: 0.9068, Val Loss: 0.1278, Val Acc: 0.9692\n",
      "Epoch 67/100, Loss: 0.3027, Accuracy: 0.9046, Val Loss: 0.1307, Val Acc: 0.9692\n",
      "Epoch 68/100, Loss: 0.3048, Accuracy: 0.9071, Val Loss: 0.1290, Val Acc: 0.9680\n",
      "Epoch 69/100, Loss: 0.3061, Accuracy: 0.9061, Val Loss: 0.1267, Val Acc: 0.9688\n",
      "Epoch 70/100, Loss: 0.3095, Accuracy: 0.9059, Val Loss: 0.1256, Val Acc: 0.9712\n",
      "Epoch 71/100, Loss: 0.3048, Accuracy: 0.9064, Val Loss: 0.1282, Val Acc: 0.9708\n",
      "Epoch 72/100, Loss: 0.3075, Accuracy: 0.9037, Val Loss: 0.1245, Val Acc: 0.9700\n",
      "Epoch 73/100, Loss: 0.3008, Accuracy: 0.9069, Val Loss: 0.1234, Val Acc: 0.9720\n",
      "Model saved\n",
      "Epoch 74/100, Loss: 0.3050, Accuracy: 0.9051, Val Loss: 0.1240, Val Acc: 0.9692\n",
      "Epoch 75/100, Loss: 0.3014, Accuracy: 0.9061, Val Loss: 0.1227, Val Acc: 0.9708\n",
      "Epoch 76/100, Loss: 0.2970, Accuracy: 0.9078, Val Loss: 0.1232, Val Acc: 0.9720\n",
      "Epoch 77/100, Loss: 0.2983, Accuracy: 0.9088, Val Loss: 0.1225, Val Acc: 0.9732\n",
      "Model saved\n",
      "Epoch 78/100, Loss: 0.2963, Accuracy: 0.9085, Val Loss: 0.1225, Val Acc: 0.9716\n",
      "Epoch 79/100, Loss: 0.3006, Accuracy: 0.9084, Val Loss: 0.1235, Val Acc: 0.9696\n",
      "Epoch 80/100, Loss: 0.3019, Accuracy: 0.9062, Val Loss: 0.1196, Val Acc: 0.9720\n",
      "Epoch 81/100, Loss: 0.3034, Accuracy: 0.9063, Val Loss: 0.1189, Val Acc: 0.9704\n",
      "Epoch 82/100, Loss: 0.2973, Accuracy: 0.9090, Val Loss: 0.1222, Val Acc: 0.9692\n",
      "Epoch 83/100, Loss: 0.2913, Accuracy: 0.9125, Val Loss: 0.1210, Val Acc: 0.9704\n",
      "Epoch 84/100, Loss: 0.2981, Accuracy: 0.9090, Val Loss: 0.1208, Val Acc: 0.9704\n",
      "Epoch 85/100, Loss: 0.2986, Accuracy: 0.9065, Val Loss: 0.1223, Val Acc: 0.9704\n",
      "Epoch 86/100, Loss: 0.2970, Accuracy: 0.9077, Val Loss: 0.1190, Val Acc: 0.9720\n",
      "Early stopping triggered\n"
     ]
    }
   ],
   "execution_count": 14
  },
  {
   "metadata": {
    "ExecuteTime": {
     "end_time": "2025-03-23T12:43:25.731769Z",
     "start_time": "2025-03-23T12:43:25.718889Z"
    }
   },
   "cell_type": "code",
   "source": "print(f\"Mô hình tốt nhất đã được lưu tại: {os.path.join(model_dir, best_model_filename)}\")",
   "id": "584ebb6b08b76e6d",
   "outputs": [
    {
     "name": "stdout",
     "output_type": "stream",
     "text": [
      "Mô hình tốt nhất đã được lưu tại: ../../models/VGG16\\vgg16_best_model_v1.pth\n"
     ]
    }
   ],
   "execution_count": 15
  },
  {
   "metadata": {
    "ExecuteTime": {
     "end_time": "2025-03-23T12:43:26.194286Z",
     "start_time": "2025-03-23T12:43:25.799587Z"
    }
   },
   "cell_type": "code",
   "source": [
    "plt.figure(figsize=(12, 4))\n",
    "plt.subplot(1, 2, 1)\n",
    "plt.plot(history['accuracy'], label='Train Accuracy')\n",
    "plt.plot(history['val_accuracy'], label='Validation Accuracy')\n",
    "plt.title('Model Accuracy')\n",
    "plt.xlabel('Epoch')\n",
    "plt.ylabel('Accuracy')\n",
    "plt.legend()\n",
    "\n",
    "plt.subplot(1, 2, 2)\n",
    "plt.plot(history['loss'], label='Train Loss')\n",
    "plt.plot(history['val_loss'], label='Validation Loss')\n",
    "plt.title('Model Loss')\n",
    "plt.xlabel('Epoch')\n",
    "plt.ylabel('Loss')\n",
    "plt.legend()\n",
    "\n",
    "plt.show()"
   ],
   "id": "fbcbb04f4a82ec1a",
   "outputs": [
    {
     "data": {
      "text/plain": [
       "<Figure size 1200x400 with 2 Axes>"
      ],
      "image/png": "[encoded data removed]"
     },
     "metadata": {},
     "output_type": "display_data"
    }
   ],
   "execution_count": 16
  },
  {
   "metadata": {
    "ExecuteTime": {
     "end_time": "2025-03-23T12:43:26.271526Z",
     "start_time": "2025-03-23T12:43:26.257846Z"
    }
   },
   "cell_type": "code",
   "source": "print(f\"Mô hình tốt nhất đã được lưu tại: {os.path.join(model_dir, best_model_filename)}\")",
   "id": "33aa2b3031c9fbf5",
   "outputs": [
    {
     "name": "stdout",
     "output_type": "stream",
     "text": [
      "Mô hình tốt nhất đã được lưu tại: ../../models/VGG16\\vgg16_best_model_v1.pth\n"
     ]
    }
   ],
   "execution_count": 17
  }
 ],
 "metadata": {
  "kernelspec": {
   "display_name": "Python 3",
   "language": "python",
   "name": "python3"
  },
  "language_info": {
   "codemirror_mode": {
    "name": "ipython",
    "version": 2
   },
   "file_extension": ".py",
   "mimetype": "text/x-python",
   "name": "python",
   "nbconvert_exporter": "python",
   "pygments_lexer": "ipython2",
   "version": "2.7.6"
  }
 },
 "nbformat": 4,
 "nbformat_minor": 5
}
