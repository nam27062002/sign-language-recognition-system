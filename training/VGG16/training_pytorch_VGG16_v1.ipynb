{
 "cells": [
  {
   "cell_type": "code",
   "id": "initial_id",
   "metadata": {
    "collapsed": true,
    "ExecuteTime": {
     "end_time": "2025-03-24T16:17:17.488648Z",
     "start_time": "2025-03-24T16:17:10.839628Z"
    }
   },
   "source": [
    "import os\n",
    "import torch\n",
    "import torch.nn as nn\n",
    "import torch.optim as optim\n",
    "from torchvision import datasets, transforms, models\n",
    "from torch.utils.data import DataLoader\n",
    "from setting.setting import *\n",
    "import matplotlib.pyplot as plt"
   ],
   "outputs": [],
   "execution_count": 1
  },
  {
   "metadata": {
    "ExecuteTime": {
     "end_time": "2025-03-24T16:17:17.534794Z",
     "start_time": "2025-03-24T16:17:17.494632Z"
    }
   },
   "cell_type": "code",
   "source": [
    "data_dir = \"../../dataset/processed/v1/training\"\n",
    "val_data_dir = \"../../dataset/processed/v1/validation\"\n",
    "model_dir = \"../../models/VGG16\"\n",
    "best_model_filename = 'vgg16_best_model_v1.pth'\n",
    "os.makedirs(model_dir, exist_ok=True)\n",
    "device = torch.device('cuda' if torch.cuda.is_available() else 'cpu')"
   ],
   "id": "bf9f554cd59bf37f",
   "outputs": [],
   "execution_count": 2
  },
  {
   "metadata": {
    "ExecuteTime": {
     "end_time": "2025-03-24T16:17:18.657623Z",
     "start_time": "2025-03-24T16:17:18.552531Z"
    }
   },
   "cell_type": "code",
   "source": [
    "data_transforms = {\n",
    "    'train': transforms.Compose([\n",
    "        transforms.RandomHorizontalFlip(),\n",
    "        transforms.RandomRotation(10),\n",
    "        transforms.RandomResizedCrop((IMG_HEIGHT, IMG_WIDTH), scale=(0.9, 1.0)),\n",
    "        transforms.ToTensor(),\n",
    "        transforms.Normalize([0.485, 0.456, 0.406], [0.229, 0.224, 0.225])\n",
    "    ]),\n",
    "    'val': transforms.Compose([\n",
    "        transforms.Resize((IMG_HEIGHT, IMG_WIDTH)),\n",
    "        transforms.ToTensor(),\n",
    "        transforms.Normalize([0.485, 0.456, 0.406], [0.229, 0.224, 0.225])\n",
    "    ]),\n",
    "}\n",
    "\n",
    "train_dataset = datasets.ImageFolder(root=data_dir, transform=data_transforms['train'])\n",
    "val_dataset = datasets.ImageFolder(root=val_data_dir, transform=data_transforms['val'])\n",
    "\n",
    "train_loader = DataLoader(train_dataset, batch_size=BATCH_SIZE, shuffle=True, num_workers=4)\n",
    "val_loader = DataLoader(val_dataset, batch_size=BATCH_SIZE, shuffle=False, num_workers=4)"
   ],
   "id": "1457a352ce0c5697",
   "outputs": [],
   "execution_count": 3
  },
  {
   "metadata": {
    "ExecuteTime": {
     "end_time": "2025-03-24T16:17:21.214774Z",
     "start_time": "2025-03-24T16:17:18.676578Z"
    }
   },
   "cell_type": "code",
   "source": [
    "base_model = models.vgg16(pretrained=True)\n",
    "for param in base_model.parameters():\n",
    "    param.requires_grad = False\n",
    "num_features = base_model.classifier[6].in_features\n",
    "base_model.classifier[6] = nn.Linear(num_features, 26)\n",
    "model = base_model.to(device)"
   ],
   "id": "bbd7022911b2a7ad",
   "outputs": [
    {
     "name": "stderr",
     "output_type": "stream",
     "text": [
      "C:\\Users\\ntrantrong\\AppData\\Local\\Programs\\Python\\Python39\\lib\\site-packages\\torchvision\\models\\_utils.py:208: UserWarning: The parameter 'pretrained' is deprecated since 0.13 and may be removed in the future, please use 'weights' instead.\n",
      "  warnings.warn(\n",
      "C:\\Users\\ntrantrong\\AppData\\Local\\Programs\\Python\\Python39\\lib\\site-packages\\torchvision\\models\\_utils.py:223: UserWarning: Arguments other than a weight enum or `None` for 'weights' are deprecated since 0.13 and may be removed in the future. The current behavior is equivalent to passing `weights=VGG16_Weights.IMAGENET1K_V1`. You can also use `weights=VGG16_Weights.DEFAULT` to get the most up-to-date weights.\n",
      "  warnings.warn(msg)\n"
     ]
    }
   ],
   "execution_count": 4
  },
  {
   "metadata": {
    "ExecuteTime": {
     "end_time": "2025-03-24T16:17:21.260328Z",
     "start_time": "2025-03-24T16:17:21.246743Z"
    }
   },
   "cell_type": "code",
   "source": [
    "criterion = nn.CrossEntropyLoss()\n",
    "optimizer = optim.Adam(model.classifier.parameters(), lr=0.0001)"
   ],
   "id": "cba610e6d23f3b0",
   "outputs": [],
   "execution_count": 5
  },
  {
   "metadata": {
    "ExecuteTime": {
     "end_time": "2025-03-24T16:17:21.291220Z",
     "start_time": "2025-03-24T16:17:21.277272Z"
    }
   },
   "cell_type": "code",
   "source": [
    "def evaluate(model, data_loader, criterion, device):\n",
    "    model.eval()\n",
    "    total_loss = 0.0\n",
    "    correct = 0\n",
    "    total = 0\n",
    "    with torch.no_grad():\n",
    "        for inputs, labels in data_loader:\n",
    "            inputs, labels = inputs.to(device), labels.to(device)\n",
    "            outputs = model(inputs)\n",
    "            loss = criterion(outputs, labels)\n",
    "            total_loss += loss.item()\n",
    "            _, predicted = torch.max(outputs.data, 1)\n",
    "            total += labels.size(0)\n",
    "            correct += (predicted == labels).sum().item()\n",
    "    avg_loss = total_loss / len(data_loader)\n",
    "    accuracy = correct / total\n",
    "    return avg_loss, accuracy"
   ],
   "id": "4de6a0f40b112ad",
   "outputs": [],
   "execution_count": 6
  },
  {
   "metadata": {
    "ExecuteTime": {
     "end_time": "2025-03-25T10:30:19.386370Z",
     "start_time": "2025-03-24T16:17:21.324642Z"
    }
   },
   "cell_type": "code",
   "source": [
    "best_val_acc = 0.0\n",
    "best_val_loss = float('inf')\n",
    "patience = 20\n",
    "final_total_epochs = 1000\n",
    "history = {'loss': [], 'accuracy': [], 'val_loss': [], 'val_accuracy': []}\n",
    "\n",
    "for epoch in range(final_total_epochs):\n",
    "    model.train()\n",
    "    running_loss = 0.0\n",
    "    correct = 0\n",
    "    total = 0\n",
    "    for inputs, labels in train_loader:\n",
    "        inputs, labels = inputs.to(device), labels.to(device)\n",
    "        optimizer.zero_grad()\n",
    "        outputs = model(inputs)\n",
    "        loss = criterion(outputs, labels)\n",
    "        loss.backward()\n",
    "        optimizer.step()\n",
    "        running_loss += loss.item()\n",
    "        _, predicted = torch.max(outputs.data, 1)\n",
    "        total += labels.size(0)\n",
    "        correct += (predicted == labels).sum().item()\n",
    "\n",
    "    train_loss = running_loss / len(train_loader)\n",
    "    train_acc = correct / total\n",
    "    val_loss, val_acc = evaluate(model, val_loader, criterion, device)\n",
    "\n",
    "    history['loss'].append(train_loss)\n",
    "    history['accuracy'].append(train_acc)\n",
    "    history['val_loss'].append(val_loss)\n",
    "    history['val_accuracy'].append(val_acc)\n",
    "\n",
    "    print(f'Epoch {epoch+1}/{final_total_epochs}, Loss: {train_loss:.4f}, Accuracy: {train_acc:.4f}, '\n",
    "          f'Val Loss: {val_loss:.4f}, Val Acc: {val_acc:.4f}')\n",
    "\n",
    "    if val_acc > best_val_acc:\n",
    "        best_val_acc = val_acc\n",
    "        torch.save(model.state_dict(), os.path.join(model_dir, best_model_filename))\n",
    "        print('Model saved')\n",
    "\n",
    "    if val_loss < best_val_loss:\n",
    "        best_val_loss = val_loss\n",
    "        loss_no_improve = 0\n",
    "    else:\n",
    "        loss_no_improve += 1\n",
    "\n",
    "    if loss_no_improve >= patience:\n",
    "        print('Early stopping triggered')\n",
    "        break"
   ],
   "id": "57d6c9880da718b0",
   "outputs": [
    {
     "name": "stdout",
     "output_type": "stream",
     "text": [
      "Epoch 1/1000, Loss: 1.8178, Accuracy: 0.5657, Val Loss: 1.0014, Val Acc: 0.8422\n",
      "Model saved\n",
      "Epoch 2/1000, Loss: 0.9678, Accuracy: 0.7766, Val Loss: 0.6559, Val Acc: 0.8795\n",
      "Model saved\n",
      "Epoch 3/1000, Loss: 0.7508, Accuracy: 0.8134, Val Loss: 0.5128, Val Acc: 0.9010\n",
      "Model saved\n",
      "Epoch 4/1000, Loss: 0.6472, Accuracy: 0.8355, Val Loss: 0.4314, Val Acc: 0.9148\n",
      "Model saved\n",
      "Epoch 5/1000, Loss: 0.5866, Accuracy: 0.8428, Val Loss: 0.3781, Val Acc: 0.9209\n",
      "Model saved\n",
      "Epoch 6/1000, Loss: 0.5457, Accuracy: 0.8498, Val Loss: 0.3393, Val Acc: 0.9331\n",
      "Model saved\n",
      "Epoch 7/1000, Loss: 0.5099, Accuracy: 0.8635, Val Loss: 0.3085, Val Acc: 0.9355\n",
      "Model saved\n",
      "Epoch 8/1000, Loss: 0.4837, Accuracy: 0.8655, Val Loss: 0.2846, Val Acc: 0.9396\n",
      "Model saved\n",
      "Epoch 9/1000, Loss: 0.4649, Accuracy: 0.8715, Val Loss: 0.2714, Val Acc: 0.9416\n",
      "Model saved\n",
      "Epoch 10/1000, Loss: 0.4522, Accuracy: 0.8704, Val Loss: 0.2584, Val Acc: 0.9420\n",
      "Model saved\n",
      "Epoch 11/1000, Loss: 0.4335, Accuracy: 0.8765, Val Loss: 0.2404, Val Acc: 0.9460\n",
      "Model saved\n",
      "Epoch 12/1000, Loss: 0.4265, Accuracy: 0.8765, Val Loss: 0.2295, Val Acc: 0.9485\n",
      "Model saved\n",
      "Epoch 13/1000, Loss: 0.4197, Accuracy: 0.8782, Val Loss: 0.2326, Val Acc: 0.9469\n",
      "Epoch 14/1000, Loss: 0.4042, Accuracy: 0.8844, Val Loss: 0.2204, Val Acc: 0.9456\n",
      "Epoch 15/1000, Loss: 0.3948, Accuracy: 0.8852, Val Loss: 0.2063, Val Acc: 0.9542\n",
      "Model saved\n",
      "Epoch 16/1000, Loss: 0.3877, Accuracy: 0.8879, Val Loss: 0.2019, Val Acc: 0.9546\n",
      "Model saved\n",
      "Epoch 17/1000, Loss: 0.3840, Accuracy: 0.8878, Val Loss: 0.1940, Val Acc: 0.9542\n",
      "Epoch 18/1000, Loss: 0.3845, Accuracy: 0.8880, Val Loss: 0.1903, Val Acc: 0.9554\n",
      "Model saved\n",
      "Epoch 19/1000, Loss: 0.3742, Accuracy: 0.8902, Val Loss: 0.1910, Val Acc: 0.9542\n",
      "Epoch 20/1000, Loss: 0.3644, Accuracy: 0.8926, Val Loss: 0.1834, Val Acc: 0.9594\n",
      "Model saved\n",
      "Epoch 21/1000, Loss: 0.3670, Accuracy: 0.8881, Val Loss: 0.1827, Val Acc: 0.9582\n",
      "Epoch 22/1000, Loss: 0.3565, Accuracy: 0.8947, Val Loss: 0.1753, Val Acc: 0.9606\n",
      "Model saved\n",
      "Epoch 23/1000, Loss: 0.3577, Accuracy: 0.8936, Val Loss: 0.1726, Val Acc: 0.9566\n",
      "Epoch 24/1000, Loss: 0.3512, Accuracy: 0.8942, Val Loss: 0.1663, Val Acc: 0.9590\n",
      "Epoch 25/1000, Loss: 0.3516, Accuracy: 0.8939, Val Loss: 0.1642, Val Acc: 0.9598\n",
      "Epoch 26/1000, Loss: 0.3492, Accuracy: 0.8945, Val Loss: 0.1582, Val Acc: 0.9619\n",
      "Model saved\n",
      "Epoch 27/1000, Loss: 0.3480, Accuracy: 0.8935, Val Loss: 0.1561, Val Acc: 0.9631\n",
      "Model saved\n",
      "Epoch 28/1000, Loss: 0.3430, Accuracy: 0.8986, Val Loss: 0.1592, Val Acc: 0.9619\n",
      "Epoch 29/1000, Loss: 0.3295, Accuracy: 0.9012, Val Loss: 0.1540, Val Acc: 0.9631\n",
      "Epoch 30/1000, Loss: 0.3348, Accuracy: 0.8990, Val Loss: 0.1485, Val Acc: 0.9627\n",
      "Epoch 31/1000, Loss: 0.3452, Accuracy: 0.8939, Val Loss: 0.1480, Val Acc: 0.9639\n",
      "Model saved\n",
      "Epoch 32/1000, Loss: 0.3310, Accuracy: 0.9018, Val Loss: 0.1451, Val Acc: 0.9639\n",
      "Epoch 33/1000, Loss: 0.3316, Accuracy: 0.8988, Val Loss: 0.1457, Val Acc: 0.9651\n",
      "Model saved\n",
      "Epoch 34/1000, Loss: 0.3270, Accuracy: 0.8999, Val Loss: 0.1460, Val Acc: 0.9623\n",
      "Epoch 35/1000, Loss: 0.3287, Accuracy: 0.8993, Val Loss: 0.1409, Val Acc: 0.9643\n",
      "Epoch 36/1000, Loss: 0.3276, Accuracy: 0.9027, Val Loss: 0.1400, Val Acc: 0.9675\n",
      "Model saved\n",
      "Epoch 37/1000, Loss: 0.3194, Accuracy: 0.9027, Val Loss: 0.1401, Val Acc: 0.9651\n",
      "Epoch 38/1000, Loss: 0.3223, Accuracy: 0.9010, Val Loss: 0.1373, Val Acc: 0.9643\n",
      "Epoch 39/1000, Loss: 0.3197, Accuracy: 0.9017, Val Loss: 0.1396, Val Acc: 0.9675\n",
      "Epoch 40/1000, Loss: 0.3213, Accuracy: 0.9019, Val Loss: 0.1370, Val Acc: 0.9659\n",
      "Epoch 41/1000, Loss: 0.3098, Accuracy: 0.9049, Val Loss: 0.1341, Val Acc: 0.9659\n",
      "Epoch 42/1000, Loss: 0.3171, Accuracy: 0.9029, Val Loss: 0.1324, Val Acc: 0.9671\n",
      "Epoch 43/1000, Loss: 0.3182, Accuracy: 0.9034, Val Loss: 0.1315, Val Acc: 0.9667\n",
      "Epoch 44/1000, Loss: 0.3172, Accuracy: 0.9035, Val Loss: 0.1310, Val Acc: 0.9688\n",
      "Model saved\n",
      "Epoch 45/1000, Loss: 0.3164, Accuracy: 0.9044, Val Loss: 0.1252, Val Acc: 0.9692\n",
      "Model saved\n",
      "Epoch 46/1000, Loss: 0.3116, Accuracy: 0.9052, Val Loss: 0.1258, Val Acc: 0.9684\n",
      "Epoch 47/1000, Loss: 0.3131, Accuracy: 0.9029, Val Loss: 0.1321, Val Acc: 0.9675\n",
      "Epoch 48/1000, Loss: 0.3087, Accuracy: 0.9066, Val Loss: 0.1276, Val Acc: 0.9688\n",
      "Epoch 49/1000, Loss: 0.3044, Accuracy: 0.9049, Val Loss: 0.1220, Val Acc: 0.9712\n",
      "Model saved\n",
      "Epoch 50/1000, Loss: 0.3134, Accuracy: 0.9028, Val Loss: 0.1292, Val Acc: 0.9688\n",
      "Epoch 51/1000, Loss: 0.3068, Accuracy: 0.9050, Val Loss: 0.1260, Val Acc: 0.9696\n",
      "Epoch 52/1000, Loss: 0.3059, Accuracy: 0.9054, Val Loss: 0.1259, Val Acc: 0.9692\n",
      "Epoch 53/1000, Loss: 0.3117, Accuracy: 0.9028, Val Loss: 0.1244, Val Acc: 0.9688\n",
      "Epoch 54/1000, Loss: 0.3002, Accuracy: 0.9077, Val Loss: 0.1203, Val Acc: 0.9720\n",
      "Model saved\n",
      "Epoch 55/1000, Loss: 0.3036, Accuracy: 0.9046, Val Loss: 0.1209, Val Acc: 0.9688\n",
      "Epoch 56/1000, Loss: 0.2986, Accuracy: 0.9090, Val Loss: 0.1205, Val Acc: 0.9712\n",
      "Epoch 57/1000, Loss: 0.3163, Accuracy: 0.9017, Val Loss: 0.1183, Val Acc: 0.9704\n",
      "Epoch 58/1000, Loss: 0.2999, Accuracy: 0.9069, Val Loss: 0.1173, Val Acc: 0.9716\n",
      "Epoch 59/1000, Loss: 0.3007, Accuracy: 0.9076, Val Loss: 0.1148, Val Acc: 0.9724\n",
      "Model saved\n",
      "Epoch 60/1000, Loss: 0.3011, Accuracy: 0.9041, Val Loss: 0.1187, Val Acc: 0.9688\n",
      "Epoch 61/1000, Loss: 0.3005, Accuracy: 0.9060, Val Loss: 0.1194, Val Acc: 0.9716\n",
      "Epoch 62/1000, Loss: 0.2960, Accuracy: 0.9079, Val Loss: 0.1171, Val Acc: 0.9704\n",
      "Epoch 63/1000, Loss: 0.2988, Accuracy: 0.9062, Val Loss: 0.1169, Val Acc: 0.9720\n",
      "Epoch 64/1000, Loss: 0.3008, Accuracy: 0.9068, Val Loss: 0.1134, Val Acc: 0.9732\n",
      "Model saved\n",
      "Epoch 65/1000, Loss: 0.2960, Accuracy: 0.9074, Val Loss: 0.1183, Val Acc: 0.9708\n",
      "Epoch 66/1000, Loss: 0.2923, Accuracy: 0.9087, Val Loss: 0.1130, Val Acc: 0.9728\n",
      "Epoch 67/1000, Loss: 0.2943, Accuracy: 0.9083, Val Loss: 0.1105, Val Acc: 0.9724\n",
      "Epoch 68/1000, Loss: 0.2969, Accuracy: 0.9068, Val Loss: 0.1102, Val Acc: 0.9740\n",
      "Model saved\n",
      "Epoch 69/1000, Loss: 0.2893, Accuracy: 0.9099, Val Loss: 0.1142, Val Acc: 0.9716\n",
      "Epoch 70/1000, Loss: 0.2919, Accuracy: 0.9079, Val Loss: 0.1146, Val Acc: 0.9712\n",
      "Epoch 71/1000, Loss: 0.2933, Accuracy: 0.9082, Val Loss: 0.1190, Val Acc: 0.9712\n",
      "Epoch 72/1000, Loss: 0.2947, Accuracy: 0.9055, Val Loss: 0.1105, Val Acc: 0.9712\n",
      "Epoch 73/1000, Loss: 0.2958, Accuracy: 0.9088, Val Loss: 0.1089, Val Acc: 0.9720\n",
      "Epoch 74/1000, Loss: 0.3016, Accuracy: 0.9052, Val Loss: 0.1148, Val Acc: 0.9692\n",
      "Epoch 75/1000, Loss: 0.2909, Accuracy: 0.9094, Val Loss: 0.1098, Val Acc: 0.9732\n",
      "Epoch 76/1000, Loss: 0.2915, Accuracy: 0.9094, Val Loss: 0.1112, Val Acc: 0.9716\n",
      "Epoch 77/1000, Loss: 0.2811, Accuracy: 0.9116, Val Loss: 0.1158, Val Acc: 0.9675\n",
      "Epoch 78/1000, Loss: 0.2915, Accuracy: 0.9107, Val Loss: 0.1077, Val Acc: 0.9728\n",
      "Epoch 79/1000, Loss: 0.2885, Accuracy: 0.9087, Val Loss: 0.1155, Val Acc: 0.9671\n",
      "Epoch 80/1000, Loss: 0.2940, Accuracy: 0.9051, Val Loss: 0.1108, Val Acc: 0.9736\n",
      "Epoch 81/1000, Loss: 0.2910, Accuracy: 0.9077, Val Loss: 0.1071, Val Acc: 0.9736\n",
      "Epoch 82/1000, Loss: 0.2898, Accuracy: 0.9079, Val Loss: 0.1087, Val Acc: 0.9732\n",
      "Epoch 83/1000, Loss: 0.2834, Accuracy: 0.9119, Val Loss: 0.1129, Val Acc: 0.9712\n",
      "Epoch 84/1000, Loss: 0.2895, Accuracy: 0.9085, Val Loss: 0.1032, Val Acc: 0.9724\n",
      "Epoch 85/1000, Loss: 0.2837, Accuracy: 0.9097, Val Loss: 0.1072, Val Acc: 0.9728\n",
      "Epoch 86/1000, Loss: 0.2819, Accuracy: 0.9115, Val Loss: 0.1092, Val Acc: 0.9704\n",
      "Epoch 87/1000, Loss: 0.2876, Accuracy: 0.9089, Val Loss: 0.1076, Val Acc: 0.9736\n",
      "Epoch 88/1000, Loss: 0.2912, Accuracy: 0.9053, Val Loss: 0.1088, Val Acc: 0.9724\n",
      "Epoch 89/1000, Loss: 0.2841, Accuracy: 0.9098, Val Loss: 0.1061, Val Acc: 0.9728\n",
      "Epoch 90/1000, Loss: 0.2814, Accuracy: 0.9096, Val Loss: 0.1067, Val Acc: 0.9736\n",
      "Epoch 91/1000, Loss: 0.2842, Accuracy: 0.9094, Val Loss: 0.1046, Val Acc: 0.9744\n",
      "Model saved\n",
      "Epoch 92/1000, Loss: 0.2803, Accuracy: 0.9123, Val Loss: 0.1063, Val Acc: 0.9744\n",
      "Epoch 93/1000, Loss: 0.2791, Accuracy: 0.9111, Val Loss: 0.1079, Val Acc: 0.9716\n",
      "Epoch 94/1000, Loss: 0.2874, Accuracy: 0.9100, Val Loss: 0.1104, Val Acc: 0.9728\n",
      "Epoch 95/1000, Loss: 0.2860, Accuracy: 0.9082, Val Loss: 0.1080, Val Acc: 0.9708\n",
      "Epoch 96/1000, Loss: 0.2810, Accuracy: 0.9087, Val Loss: 0.1017, Val Acc: 0.9736\n",
      "Epoch 97/1000, Loss: 0.2852, Accuracy: 0.9113, Val Loss: 0.1026, Val Acc: 0.9744\n",
      "Epoch 98/1000, Loss: 0.2844, Accuracy: 0.9103, Val Loss: 0.1085, Val Acc: 0.9740\n",
      "Epoch 99/1000, Loss: 0.2789, Accuracy: 0.9128, Val Loss: 0.1033, Val Acc: 0.9728\n",
      "Epoch 100/1000, Loss: 0.2763, Accuracy: 0.9127, Val Loss: 0.1035, Val Acc: 0.9736\n",
      "Epoch 101/1000, Loss: 0.2841, Accuracy: 0.9096, Val Loss: 0.1048, Val Acc: 0.9728\n",
      "Epoch 102/1000, Loss: 0.2860, Accuracy: 0.9116, Val Loss: 0.1078, Val Acc: 0.9704\n",
      "Epoch 103/1000, Loss: 0.2748, Accuracy: 0.9149, Val Loss: 0.1013, Val Acc: 0.9732\n",
      "Epoch 104/1000, Loss: 0.2852, Accuracy: 0.9080, Val Loss: 0.1027, Val Acc: 0.9744\n",
      "Epoch 105/1000, Loss: 0.2809, Accuracy: 0.9131, Val Loss: 0.0999, Val Acc: 0.9728\n",
      "Epoch 106/1000, Loss: 0.2818, Accuracy: 0.9114, Val Loss: 0.1038, Val Acc: 0.9740\n",
      "Epoch 107/1000, Loss: 0.2848, Accuracy: 0.9093, Val Loss: 0.1021, Val Acc: 0.9740\n",
      "Epoch 108/1000, Loss: 0.2803, Accuracy: 0.9111, Val Loss: 0.0987, Val Acc: 0.9761\n",
      "Model saved\n",
      "Epoch 109/1000, Loss: 0.2829, Accuracy: 0.9108, Val Loss: 0.1000, Val Acc: 0.9761\n",
      "Epoch 110/1000, Loss: 0.2756, Accuracy: 0.9143, Val Loss: 0.1015, Val Acc: 0.9736\n",
      "Epoch 111/1000, Loss: 0.2758, Accuracy: 0.9099, Val Loss: 0.0983, Val Acc: 0.9740\n",
      "Epoch 112/1000, Loss: 0.2756, Accuracy: 0.9129, Val Loss: 0.1027, Val Acc: 0.9712\n",
      "Epoch 113/1000, Loss: 0.2839, Accuracy: 0.9085, Val Loss: 0.1009, Val Acc: 0.9740\n",
      "Epoch 114/1000, Loss: 0.2765, Accuracy: 0.9111, Val Loss: 0.0994, Val Acc: 0.9728\n",
      "Epoch 115/1000, Loss: 0.2819, Accuracy: 0.9096, Val Loss: 0.0981, Val Acc: 0.9740\n",
      "Epoch 116/1000, Loss: 0.2757, Accuracy: 0.9148, Val Loss: 0.1016, Val Acc: 0.9736\n",
      "Epoch 117/1000, Loss: 0.2771, Accuracy: 0.9104, Val Loss: 0.1026, Val Acc: 0.9748\n",
      "Epoch 118/1000, Loss: 0.2739, Accuracy: 0.9151, Val Loss: 0.0964, Val Acc: 0.9753\n",
      "Epoch 119/1000, Loss: 0.2740, Accuracy: 0.9147, Val Loss: 0.1008, Val Acc: 0.9716\n",
      "Epoch 120/1000, Loss: 0.2727, Accuracy: 0.9132, Val Loss: 0.0968, Val Acc: 0.9744\n",
      "Epoch 121/1000, Loss: 0.2805, Accuracy: 0.9119, Val Loss: 0.0952, Val Acc: 0.9736\n",
      "Epoch 122/1000, Loss: 0.2775, Accuracy: 0.9130, Val Loss: 0.0999, Val Acc: 0.9736\n",
      "Epoch 123/1000, Loss: 0.2784, Accuracy: 0.9120, Val Loss: 0.0973, Val Acc: 0.9748\n",
      "Epoch 124/1000, Loss: 0.2830, Accuracy: 0.9100, Val Loss: 0.1002, Val Acc: 0.9740\n",
      "Epoch 125/1000, Loss: 0.2721, Accuracy: 0.9136, Val Loss: 0.0988, Val Acc: 0.9748\n",
      "Epoch 126/1000, Loss: 0.2704, Accuracy: 0.9147, Val Loss: 0.1007, Val Acc: 0.9753\n",
      "Epoch 127/1000, Loss: 0.2812, Accuracy: 0.9116, Val Loss: 0.0975, Val Acc: 0.9744\n",
      "Epoch 128/1000, Loss: 0.2815, Accuracy: 0.9095, Val Loss: 0.0963, Val Acc: 0.9740\n",
      "Epoch 129/1000, Loss: 0.2800, Accuracy: 0.9122, Val Loss: 0.1016, Val Acc: 0.9753\n",
      "Epoch 130/1000, Loss: 0.2703, Accuracy: 0.9151, Val Loss: 0.1002, Val Acc: 0.9753\n",
      "Epoch 131/1000, Loss: 0.2761, Accuracy: 0.9147, Val Loss: 0.0986, Val Acc: 0.9732\n",
      "Epoch 132/1000, Loss: 0.2630, Accuracy: 0.9168, Val Loss: 0.1002, Val Acc: 0.9748\n",
      "Epoch 133/1000, Loss: 0.2786, Accuracy: 0.9127, Val Loss: 0.0968, Val Acc: 0.9765\n",
      "Model saved\n",
      "Epoch 134/1000, Loss: 0.2724, Accuracy: 0.9142, Val Loss: 0.1006, Val Acc: 0.9740\n",
      "Epoch 135/1000, Loss: 0.2747, Accuracy: 0.9131, Val Loss: 0.0994, Val Acc: 0.9769\n",
      "Model saved\n",
      "Epoch 136/1000, Loss: 0.2758, Accuracy: 0.9100, Val Loss: 0.0961, Val Acc: 0.9740\n",
      "Epoch 137/1000, Loss: 0.2708, Accuracy: 0.9135, Val Loss: 0.0969, Val Acc: 0.9773\n",
      "Model saved\n",
      "Epoch 138/1000, Loss: 0.2773, Accuracy: 0.9111, Val Loss: 0.0965, Val Acc: 0.9744\n",
      "Epoch 139/1000, Loss: 0.2789, Accuracy: 0.9120, Val Loss: 0.0999, Val Acc: 0.9748\n",
      "Epoch 140/1000, Loss: 0.2763, Accuracy: 0.9132, Val Loss: 0.1014, Val Acc: 0.9716\n",
      "Epoch 141/1000, Loss: 0.2706, Accuracy: 0.9151, Val Loss: 0.0985, Val Acc: 0.9753\n",
      "Early stopping triggered\n"
     ]
    }
   ],
   "execution_count": 7
  },
  {
   "metadata": {
    "ExecuteTime": {
     "end_time": "2025-03-25T10:30:19.801823Z",
     "start_time": "2025-03-25T10:30:19.787871Z"
    }
   },
   "cell_type": "code",
   "source": "print(f\"Mô hình tốt nhất đã được lưu tại: {os.path.join(model_dir, best_model_filename)}\")",
   "id": "584ebb6b08b76e6d",
   "outputs": [
    {
     "name": "stdout",
     "output_type": "stream",
     "text": [
      "Mô hình tốt nhất đã được lưu tại: ../../models/VGG16\\vgg16_best_model_v1.pth\n"
     ]
    }
   ],
   "execution_count": 8
  },
  {
   "metadata": {
    "ExecuteTime": {
     "end_time": "2025-03-25T10:30:20.498685Z",
     "start_time": "2025-03-25T10:30:19.989796Z"
    }
   },
   "cell_type": "code",
   "source": [
    "plt.figure(figsize=(12, 4))\n",
    "plt.subplot(1, 2, 1)\n",
    "plt.plot(history['accuracy'], label='Train Accuracy')\n",
    "plt.plot(history['val_accuracy'], label='Validation Accuracy')\n",
    "plt.title('Model Accuracy')\n",
    "plt.xlabel('Epoch')\n",
    "plt.ylabel('Accuracy')\n",
    "plt.legend()\n",
    "\n",
    "plt.subplot(1, 2, 2)\n",
    "plt.plot(history['loss'], label='Train Loss')\n",
    "plt.plot(history['val_loss'], label='Validation Loss')\n",
    "plt.title('Model Loss')\n",
    "plt.xlabel('Epoch')\n",
    "plt.ylabel('Loss')\n",
    "plt.legend()\n",
    "\n",
    "plt.show()"
   ],
   "id": "fbcbb04f4a82ec1a",
   "outputs": [
    {
     "data": {
      "text/plain": [
       "<Figure size 1200x400 with 2 Axes>"
      ],
      "image/png": "[encoded data removed]"
     },
     "metadata": {},
     "output_type": "display_data"
    }
   ],
   "execution_count": 9
  },
  {
   "metadata": {
    "ExecuteTime": {
     "end_time": "2025-03-25T10:30:20.513717Z",
     "start_time": "2025-03-25T10:30:20.503672Z"
    }
   },
   "cell_type": "code",
   "source": "print(f\"Mô hình tốt nhất đã được lưu tại: {os.path.join(model_dir, best_model_filename)}\")",
   "id": "33aa2b3031c9fbf5",
   "outputs": [
    {
     "name": "stdout",
     "output_type": "stream",
     "text": [
      "Mô hình tốt nhất đã được lưu tại: ../../models/VGG16\\vgg16_best_model_v1.pth\n"
     ]
    }
   ],
   "execution_count": 10
  }
 ],
 "metadata": {
  "kernelspec": {
   "display_name": "Python 3",
   "language": "python",
   "name": "python3"
  },
  "language_info": {
   "codemirror_mode": {
    "name": "ipython",
    "version": 2
   },
   "file_extension": ".py",
   "mimetype": "text/x-python",
   "name": "python",
   "nbconvert_exporter": "python",
   "pygments_lexer": "ipython2",
   "version": "2.7.6"
  }
 },
 "nbformat": 4,
 "nbformat_minor": 5
}
