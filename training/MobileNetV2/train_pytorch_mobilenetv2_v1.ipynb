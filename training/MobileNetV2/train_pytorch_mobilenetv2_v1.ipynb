{
 "cells": [
  {
   "cell_type": "code",
   "id": "initial_id",
   "metadata": {
    "collapsed": true,
    "ExecuteTime": {
     "end_time": "2025-03-24T12:42:23.334531Z",
     "start_time": "2025-03-24T12:42:18.442179Z"
    }
   },
   "source": [
    "import os\n",
    "import torch\n",
    "import torch.nn as nn\n",
    "import torch.optim as optim\n",
    "from torchvision import datasets, transforms, models\n",
    "from torch.utils.data import DataLoader\n",
    "from setting.setting import *\n",
    "import matplotlib.pyplot as plt"
   ],
   "outputs": [],
   "execution_count": 1
  },
  {
   "metadata": {
    "ExecuteTime": {
     "end_time": "2025-03-24T12:42:23.381858Z",
     "start_time": "2025-03-24T12:42:23.341096Z"
    }
   },
   "cell_type": "code",
   "source": [
    "data_dir = \"../../dataset/processed/v1/training\"\n",
    "val_data_dir = \"../../dataset/processed/v1/validation\"\n",
    "model_dir = \"../../models/MobileNetV2\"\n",
    "best_model_filename = 'mobilenetv2_best_model_v1.pth'\n",
    "os.makedirs(model_dir, exist_ok=True)\n",
    "device = torch.device('cuda' if torch.cuda.is_available() else 'cpu')"
   ],
   "id": "d72345f2744517f",
   "outputs": [],
   "execution_count": 2
  },
  {
   "metadata": {
    "ExecuteTime": {
     "end_time": "2025-03-24T12:42:23.971377Z",
     "start_time": "2025-03-24T12:42:23.881686Z"
    }
   },
   "cell_type": "code",
   "source": [
    "data_transforms = {\n",
    "    'train': transforms.Compose([\n",
    "        transforms.RandomHorizontalFlip(),\n",
    "        transforms.RandomRotation(10),\n",
    "        transforms.RandomResizedCrop((IMG_HEIGHT, IMG_WIDTH), scale=(0.9, 1.0)),\n",
    "        transforms.ToTensor(),\n",
    "        transforms.Normalize([0.485, 0.456, 0.406], [0.229, 0.224, 0.225])\n",
    "    ]),\n",
    "    'val': transforms.Compose([\n",
    "        transforms.Resize((IMG_HEIGHT, IMG_WIDTH)),\n",
    "        transforms.ToTensor(),\n",
    "        transforms.Normalize([0.485, 0.456, 0.406], [0.229, 0.224, 0.225])\n",
    "    ]),\n",
    "}\n",
    "\n",
    "train_dataset = datasets.ImageFolder(root=data_dir, transform=data_transforms['train'])\n",
    "val_dataset = datasets.ImageFolder(root=val_data_dir, transform=data_transforms['val'])\n",
    "\n",
    "train_loader = DataLoader(train_dataset, batch_size=BATCH_SIZE, shuffle=True, num_workers=4)\n",
    "val_loader = DataLoader(val_dataset, batch_size=BATCH_SIZE, shuffle=False, num_workers=4)"
   ],
   "id": "1a2b01264709683e",
   "outputs": [],
   "execution_count": 3
  },
  {
   "metadata": {
    "ExecuteTime": {
     "end_time": "2025-03-24T12:42:24.338622Z",
     "start_time": "2025-03-24T12:42:23.989330Z"
    }
   },
   "cell_type": "code",
   "source": [
    "base_model = models.mobilenet_v2(pretrained=True)\n",
    "for param in base_model.parameters():\n",
    "    param.requires_grad = False\n",
    "base_model.classifier[1] = nn.Linear(base_model.classifier[1].in_features, 26)\n",
    "model = base_model.to(device)"
   ],
   "id": "309ff10cc167c175",
   "outputs": [
    {
     "name": "stderr",
     "output_type": "stream",
     "text": [
      "C:\\Users\\ntrantrong\\AppData\\Local\\Programs\\Python\\Python39\\lib\\site-packages\\torchvision\\models\\_utils.py:208: UserWarning: The parameter 'pretrained' is deprecated since 0.13 and may be removed in the future, please use 'weights' instead.\n",
      "  warnings.warn(\n",
      "C:\\Users\\ntrantrong\\AppData\\Local\\Programs\\Python\\Python39\\lib\\site-packages\\torchvision\\models\\_utils.py:223: UserWarning: Arguments other than a weight enum or `None` for 'weights' are deprecated since 0.13 and may be removed in the future. The current behavior is equivalent to passing `weights=MobileNet_V2_Weights.IMAGENET1K_V1`. You can also use `weights=MobileNet_V2_Weights.DEFAULT` to get the most up-to-date weights.\n",
      "  warnings.warn(msg)\n"
     ]
    }
   ],
   "execution_count": 4
  },
  {
   "metadata": {
    "ExecuteTime": {
     "end_time": "2025-03-24T12:42:24.400123Z",
     "start_time": "2025-03-24T12:42:24.386038Z"
    }
   },
   "cell_type": "code",
   "source": [
    "criterion = nn.CrossEntropyLoss()\n",
    "optimizer = optim.Adam(model.classifier.parameters(), lr=0.0001)"
   ],
   "id": "c8fff24892711b72",
   "outputs": [],
   "execution_count": 5
  },
  {
   "metadata": {
    "ExecuteTime": {
     "end_time": "2025-03-24T12:42:24.446092Z",
     "start_time": "2025-03-24T12:42:24.432129Z"
    }
   },
   "cell_type": "code",
   "source": [
    "def evaluate(model, data_loader, criterion, device):\n",
    "    model.eval()\n",
    "    total_loss = 0.0\n",
    "    correct = 0\n",
    "    total = 0\n",
    "    with torch.no_grad():\n",
    "        for inputs, labels in data_loader:\n",
    "            inputs, labels = inputs.to(device), labels.to(device)\n",
    "            outputs = model(inputs)\n",
    "            loss = criterion(outputs, labels)\n",
    "            total_loss += loss.item()\n",
    "            _, predicted = torch.max(outputs.data, 1)\n",
    "            total += labels.size(0)\n",
    "            correct += (predicted == labels).sum().item()\n",
    "    avg_loss = total_loss / len(data_loader)\n",
    "    accuracy = correct / total\n",
    "    return avg_loss, accuracy"
   ],
   "id": "1e6fb039eaf2d491",
   "outputs": [],
   "execution_count": 6
  },
  {
   "metadata": {
    "ExecuteTime": {
     "end_time": "2025-03-24T18:07:51.308270Z",
     "start_time": "2025-03-24T12:42:24.479334Z"
    }
   },
   "cell_type": "code",
   "source": [
    "best_val_acc = 0.0\n",
    "best_val_loss = float('inf')\n",
    "patience = 20\n",
    "final_total_epochs = 1000\n",
    "history = {'loss': [], 'accuracy': [], 'val_loss': [], 'val_accuracy': []}\n",
    "\n",
    "for epoch in range(final_total_epochs):\n",
    "    model.train()\n",
    "    running_loss = 0.0\n",
    "    correct = 0\n",
    "    total = 0\n",
    "    for inputs, labels in train_loader:\n",
    "        inputs, labels = inputs.to(device), labels.to(device)\n",
    "        optimizer.zero_grad()\n",
    "        outputs = model(inputs)\n",
    "        loss = criterion(outputs, labels)\n",
    "        loss.backward()\n",
    "        optimizer.step()\n",
    "        running_loss += loss.item()\n",
    "        _, predicted = torch.max(outputs.data, 1)\n",
    "        total += labels.size(0)\n",
    "        correct += (predicted == labels).sum().item()\n",
    "\n",
    "    train_loss = running_loss / len(train_loader)\n",
    "    train_acc = correct / total\n",
    "    val_loss, val_acc = evaluate(model, val_loader, criterion, device)\n",
    "\n",
    "    history['loss'].append(train_loss)\n",
    "    history['accuracy'].append(train_acc)\n",
    "    history['val_loss'].append(val_loss)\n",
    "    history['val_accuracy'].append(val_acc)\n",
    "\n",
    "    print(f'Epoch {epoch+1}/{final_total_epochs}, Loss: {train_loss:.4f}, Accuracy: {train_acc:.4f}, '\n",
    "          f'Val Loss: {val_loss:.4f}, Val Acc: {val_acc:.4f}')\n",
    "\n",
    "    if val_acc > best_val_acc:\n",
    "        best_val_acc = val_acc\n",
    "        torch.save(model.state_dict(), os.path.join(model_dir, best_model_filename))\n",
    "        print('Model saved')\n",
    "\n",
    "    if val_loss < best_val_loss:\n",
    "        best_val_loss = val_loss\n",
    "        loss_no_improve = 0\n",
    "    else:\n",
    "        loss_no_improve += 1\n",
    "\n",
    "    if loss_no_improve >= patience:\n",
    "        print('Early stopping triggered')\n",
    "        break"
   ],
   "id": "47e947134fabb31f",
   "outputs": [
    {
     "name": "stdout",
     "output_type": "stream",
     "text": [
      "Epoch 1/1000, Loss: 2.1282, Accuracy: 0.6011, Val Loss: 1.2728, Val Acc: 0.8722\n",
      "Model saved\n",
      "Epoch 2/1000, Loss: 1.0648, Accuracy: 0.8596, Val Loss: 0.7409, Val Acc: 0.9168\n",
      "Model saved\n",
      "Epoch 3/1000, Loss: 0.7211, Accuracy: 0.8918, Val Loss: 0.5262, Val Acc: 0.9306\n",
      "Model saved\n",
      "Epoch 4/1000, Loss: 0.5577, Accuracy: 0.9112, Val Loss: 0.4028, Val Acc: 0.9432\n",
      "Model saved\n",
      "Epoch 5/1000, Loss: 0.4670, Accuracy: 0.9187, Val Loss: 0.3419, Val Acc: 0.9473\n",
      "Model saved\n",
      "Epoch 6/1000, Loss: 0.4011, Accuracy: 0.9260, Val Loss: 0.2933, Val Acc: 0.9505\n",
      "Model saved\n",
      "Epoch 7/1000, Loss: 0.3571, Accuracy: 0.9329, Val Loss: 0.2572, Val Acc: 0.9521\n",
      "Model saved\n",
      "Epoch 8/1000, Loss: 0.3295, Accuracy: 0.9345, Val Loss: 0.2345, Val Acc: 0.9542\n",
      "Model saved\n",
      "Epoch 9/1000, Loss: 0.2972, Accuracy: 0.9420, Val Loss: 0.2129, Val Acc: 0.9582\n",
      "Model saved\n",
      "Epoch 10/1000, Loss: 0.2771, Accuracy: 0.9412, Val Loss: 0.2011, Val Acc: 0.9574\n",
      "Epoch 11/1000, Loss: 0.2696, Accuracy: 0.9409, Val Loss: 0.1819, Val Acc: 0.9623\n",
      "Model saved\n",
      "Epoch 12/1000, Loss: 0.2476, Accuracy: 0.9458, Val Loss: 0.1825, Val Acc: 0.9598\n",
      "Epoch 13/1000, Loss: 0.2385, Accuracy: 0.9470, Val Loss: 0.1634, Val Acc: 0.9627\n",
      "Model saved\n",
      "Epoch 14/1000, Loss: 0.2274, Accuracy: 0.9495, Val Loss: 0.1581, Val Acc: 0.9643\n",
      "Model saved\n",
      "Epoch 15/1000, Loss: 0.2182, Accuracy: 0.9526, Val Loss: 0.1471, Val Acc: 0.9667\n",
      "Model saved\n",
      "Epoch 16/1000, Loss: 0.2062, Accuracy: 0.9557, Val Loss: 0.1409, Val Acc: 0.9684\n",
      "Model saved\n",
      "Epoch 17/1000, Loss: 0.2016, Accuracy: 0.9538, Val Loss: 0.1367, Val Acc: 0.9675\n",
      "Epoch 18/1000, Loss: 0.1986, Accuracy: 0.9547, Val Loss: 0.1318, Val Acc: 0.9684\n",
      "Epoch 19/1000, Loss: 0.1924, Accuracy: 0.9552, Val Loss: 0.1256, Val Acc: 0.9700\n",
      "Model saved\n",
      "Epoch 20/1000, Loss: 0.1875, Accuracy: 0.9553, Val Loss: 0.1251, Val Acc: 0.9671\n",
      "Epoch 21/1000, Loss: 0.1828, Accuracy: 0.9567, Val Loss: 0.1208, Val Acc: 0.9708\n",
      "Model saved\n",
      "Epoch 22/1000, Loss: 0.1787, Accuracy: 0.9575, Val Loss: 0.1202, Val Acc: 0.9696\n",
      "Epoch 23/1000, Loss: 0.1768, Accuracy: 0.9574, Val Loss: 0.1160, Val Acc: 0.9692\n",
      "Epoch 24/1000, Loss: 0.1674, Accuracy: 0.9591, Val Loss: 0.1148, Val Acc: 0.9692\n",
      "Epoch 25/1000, Loss: 0.1708, Accuracy: 0.9573, Val Loss: 0.1111, Val Acc: 0.9720\n",
      "Model saved\n",
      "Epoch 26/1000, Loss: 0.1705, Accuracy: 0.9568, Val Loss: 0.1052, Val Acc: 0.9728\n",
      "Model saved\n",
      "Epoch 27/1000, Loss: 0.1669, Accuracy: 0.9591, Val Loss: 0.1034, Val Acc: 0.9728\n",
      "Epoch 28/1000, Loss: 0.1608, Accuracy: 0.9599, Val Loss: 0.1034, Val Acc: 0.9740\n",
      "Model saved\n",
      "Epoch 29/1000, Loss: 0.1524, Accuracy: 0.9630, Val Loss: 0.1004, Val Acc: 0.9740\n",
      "Epoch 30/1000, Loss: 0.1582, Accuracy: 0.9605, Val Loss: 0.1007, Val Acc: 0.9753\n",
      "Model saved\n",
      "Epoch 31/1000, Loss: 0.1564, Accuracy: 0.9595, Val Loss: 0.1008, Val Acc: 0.9748\n",
      "Epoch 32/1000, Loss: 0.1539, Accuracy: 0.9600, Val Loss: 0.0959, Val Acc: 0.9744\n",
      "Epoch 33/1000, Loss: 0.1547, Accuracy: 0.9612, Val Loss: 0.0961, Val Acc: 0.9761\n",
      "Model saved\n",
      "Epoch 34/1000, Loss: 0.1496, Accuracy: 0.9621, Val Loss: 0.0943, Val Acc: 0.9761\n",
      "Epoch 35/1000, Loss: 0.1527, Accuracy: 0.9610, Val Loss: 0.0937, Val Acc: 0.9748\n",
      "Epoch 36/1000, Loss: 0.1467, Accuracy: 0.9622, Val Loss: 0.0907, Val Acc: 0.9769\n",
      "Model saved\n",
      "Epoch 37/1000, Loss: 0.1439, Accuracy: 0.9641, Val Loss: 0.0918, Val Acc: 0.9773\n",
      "Model saved\n",
      "Epoch 38/1000, Loss: 0.1437, Accuracy: 0.9642, Val Loss: 0.0879, Val Acc: 0.9781\n",
      "Model saved\n",
      "Epoch 39/1000, Loss: 0.1412, Accuracy: 0.9635, Val Loss: 0.0893, Val Acc: 0.9744\n",
      "Epoch 40/1000, Loss: 0.1428, Accuracy: 0.9632, Val Loss: 0.0879, Val Acc: 0.9773\n",
      "Epoch 41/1000, Loss: 0.1401, Accuracy: 0.9636, Val Loss: 0.0871, Val Acc: 0.9753\n",
      "Epoch 42/1000, Loss: 0.1380, Accuracy: 0.9650, Val Loss: 0.0861, Val Acc: 0.9753\n",
      "Epoch 43/1000, Loss: 0.1399, Accuracy: 0.9625, Val Loss: 0.0882, Val Acc: 0.9769\n",
      "Epoch 44/1000, Loss: 0.1336, Accuracy: 0.9654, Val Loss: 0.0844, Val Acc: 0.9777\n",
      "Epoch 45/1000, Loss: 0.1389, Accuracy: 0.9640, Val Loss: 0.0842, Val Acc: 0.9805\n",
      "Model saved\n",
      "Epoch 46/1000, Loss: 0.1361, Accuracy: 0.9641, Val Loss: 0.0815, Val Acc: 0.9769\n",
      "Epoch 47/1000, Loss: 0.1321, Accuracy: 0.9644, Val Loss: 0.0812, Val Acc: 0.9777\n",
      "Epoch 48/1000, Loss: 0.1333, Accuracy: 0.9645, Val Loss: 0.0803, Val Acc: 0.9781\n",
      "Epoch 49/1000, Loss: 0.1353, Accuracy: 0.9638, Val Loss: 0.0810, Val Acc: 0.9789\n",
      "Epoch 50/1000, Loss: 0.1356, Accuracy: 0.9640, Val Loss: 0.0796, Val Acc: 0.9785\n",
      "Epoch 51/1000, Loss: 0.1275, Accuracy: 0.9674, Val Loss: 0.0794, Val Acc: 0.9781\n",
      "Epoch 52/1000, Loss: 0.1292, Accuracy: 0.9661, Val Loss: 0.0771, Val Acc: 0.9789\n",
      "Epoch 53/1000, Loss: 0.1321, Accuracy: 0.9656, Val Loss: 0.0763, Val Acc: 0.9777\n",
      "Epoch 54/1000, Loss: 0.1305, Accuracy: 0.9642, Val Loss: 0.0754, Val Acc: 0.9793\n",
      "Epoch 55/1000, Loss: 0.1256, Accuracy: 0.9653, Val Loss: 0.0794, Val Acc: 0.9797\n",
      "Epoch 56/1000, Loss: 0.1262, Accuracy: 0.9656, Val Loss: 0.0763, Val Acc: 0.9785\n",
      "Epoch 57/1000, Loss: 0.1261, Accuracy: 0.9665, Val Loss: 0.0761, Val Acc: 0.9793\n",
      "Epoch 58/1000, Loss: 0.1247, Accuracy: 0.9673, Val Loss: 0.0731, Val Acc: 0.9785\n",
      "Epoch 59/1000, Loss: 0.1307, Accuracy: 0.9642, Val Loss: 0.0753, Val Acc: 0.9785\n",
      "Epoch 60/1000, Loss: 0.1286, Accuracy: 0.9626, Val Loss: 0.0727, Val Acc: 0.9789\n",
      "Epoch 61/1000, Loss: 0.1217, Accuracy: 0.9675, Val Loss: 0.0715, Val Acc: 0.9793\n",
      "Epoch 62/1000, Loss: 0.1271, Accuracy: 0.9652, Val Loss: 0.0726, Val Acc: 0.9797\n",
      "Epoch 63/1000, Loss: 0.1239, Accuracy: 0.9671, Val Loss: 0.0722, Val Acc: 0.9789\n",
      "Epoch 64/1000, Loss: 0.1233, Accuracy: 0.9668, Val Loss: 0.0715, Val Acc: 0.9797\n",
      "Epoch 65/1000, Loss: 0.1230, Accuracy: 0.9653, Val Loss: 0.0727, Val Acc: 0.9793\n",
      "Epoch 66/1000, Loss: 0.1198, Accuracy: 0.9669, Val Loss: 0.0698, Val Acc: 0.9801\n",
      "Epoch 67/1000, Loss: 0.1206, Accuracy: 0.9663, Val Loss: 0.0706, Val Acc: 0.9793\n",
      "Epoch 68/1000, Loss: 0.1212, Accuracy: 0.9675, Val Loss: 0.0714, Val Acc: 0.9789\n",
      "Epoch 69/1000, Loss: 0.1179, Accuracy: 0.9676, Val Loss: 0.0710, Val Acc: 0.9789\n",
      "Epoch 70/1000, Loss: 0.1225, Accuracy: 0.9665, Val Loss: 0.0697, Val Acc: 0.9813\n",
      "Model saved\n",
      "Epoch 71/1000, Loss: 0.1205, Accuracy: 0.9664, Val Loss: 0.0693, Val Acc: 0.9797\n",
      "Epoch 72/1000, Loss: 0.1164, Accuracy: 0.9687, Val Loss: 0.0694, Val Acc: 0.9777\n",
      "Epoch 73/1000, Loss: 0.1194, Accuracy: 0.9673, Val Loss: 0.0739, Val Acc: 0.9793\n",
      "Epoch 74/1000, Loss: 0.1208, Accuracy: 0.9656, Val Loss: 0.0673, Val Acc: 0.9813\n",
      "Epoch 75/1000, Loss: 0.1208, Accuracy: 0.9670, Val Loss: 0.0681, Val Acc: 0.9805\n",
      "Epoch 76/1000, Loss: 0.1179, Accuracy: 0.9683, Val Loss: 0.0676, Val Acc: 0.9793\n",
      "Epoch 77/1000, Loss: 0.1144, Accuracy: 0.9677, Val Loss: 0.0697, Val Acc: 0.9793\n",
      "Epoch 78/1000, Loss: 0.1146, Accuracy: 0.9687, Val Loss: 0.0698, Val Acc: 0.9797\n",
      "Epoch 79/1000, Loss: 0.1134, Accuracy: 0.9685, Val Loss: 0.0665, Val Acc: 0.9805\n",
      "Epoch 80/1000, Loss: 0.1175, Accuracy: 0.9677, Val Loss: 0.0671, Val Acc: 0.9813\n",
      "Epoch 81/1000, Loss: 0.1137, Accuracy: 0.9677, Val Loss: 0.0684, Val Acc: 0.9801\n",
      "Epoch 82/1000, Loss: 0.1168, Accuracy: 0.9682, Val Loss: 0.0680, Val Acc: 0.9801\n",
      "Epoch 83/1000, Loss: 0.1117, Accuracy: 0.9680, Val Loss: 0.0671, Val Acc: 0.9793\n",
      "Epoch 84/1000, Loss: 0.1150, Accuracy: 0.9666, Val Loss: 0.0688, Val Acc: 0.9801\n",
      "Epoch 85/1000, Loss: 0.1102, Accuracy: 0.9682, Val Loss: 0.0651, Val Acc: 0.9801\n",
      "Epoch 86/1000, Loss: 0.1160, Accuracy: 0.9667, Val Loss: 0.0675, Val Acc: 0.9789\n",
      "Epoch 87/1000, Loss: 0.1143, Accuracy: 0.9668, Val Loss: 0.0681, Val Acc: 0.9793\n",
      "Epoch 88/1000, Loss: 0.1131, Accuracy: 0.9675, Val Loss: 0.0670, Val Acc: 0.9797\n",
      "Epoch 89/1000, Loss: 0.1108, Accuracy: 0.9693, Val Loss: 0.0653, Val Acc: 0.9805\n",
      "Epoch 90/1000, Loss: 0.1132, Accuracy: 0.9680, Val Loss: 0.0653, Val Acc: 0.9793\n",
      "Epoch 91/1000, Loss: 0.1090, Accuracy: 0.9704, Val Loss: 0.0647, Val Acc: 0.9801\n",
      "Epoch 92/1000, Loss: 0.1067, Accuracy: 0.9704, Val Loss: 0.0667, Val Acc: 0.9789\n",
      "Epoch 93/1000, Loss: 0.1124, Accuracy: 0.9693, Val Loss: 0.0628, Val Acc: 0.9822\n",
      "Model saved\n",
      "Epoch 94/1000, Loss: 0.1134, Accuracy: 0.9686, Val Loss: 0.0643, Val Acc: 0.9797\n",
      "Epoch 95/1000, Loss: 0.1111, Accuracy: 0.9680, Val Loss: 0.0652, Val Acc: 0.9809\n",
      "Epoch 96/1000, Loss: 0.1101, Accuracy: 0.9679, Val Loss: 0.0649, Val Acc: 0.9822\n",
      "Epoch 97/1000, Loss: 0.1128, Accuracy: 0.9666, Val Loss: 0.0604, Val Acc: 0.9830\n",
      "Model saved\n",
      "Epoch 98/1000, Loss: 0.1117, Accuracy: 0.9685, Val Loss: 0.0624, Val Acc: 0.9805\n",
      "Epoch 99/1000, Loss: 0.1109, Accuracy: 0.9681, Val Loss: 0.0636, Val Acc: 0.9809\n",
      "Epoch 100/1000, Loss: 0.1057, Accuracy: 0.9704, Val Loss: 0.0652, Val Acc: 0.9822\n",
      "Epoch 101/1000, Loss: 0.1102, Accuracy: 0.9679, Val Loss: 0.0631, Val Acc: 0.9809\n",
      "Epoch 102/1000, Loss: 0.1144, Accuracy: 0.9676, Val Loss: 0.0621, Val Acc: 0.9809\n",
      "Epoch 103/1000, Loss: 0.1113, Accuracy: 0.9694, Val Loss: 0.0621, Val Acc: 0.9822\n",
      "Epoch 104/1000, Loss: 0.1104, Accuracy: 0.9693, Val Loss: 0.0620, Val Acc: 0.9809\n",
      "Epoch 105/1000, Loss: 0.1070, Accuracy: 0.9692, Val Loss: 0.0630, Val Acc: 0.9785\n",
      "Epoch 106/1000, Loss: 0.1040, Accuracy: 0.9702, Val Loss: 0.0654, Val Acc: 0.9793\n",
      "Epoch 107/1000, Loss: 0.1094, Accuracy: 0.9696, Val Loss: 0.0640, Val Acc: 0.9789\n",
      "Epoch 108/1000, Loss: 0.1121, Accuracy: 0.9686, Val Loss: 0.0636, Val Acc: 0.9826\n",
      "Epoch 109/1000, Loss: 0.1089, Accuracy: 0.9681, Val Loss: 0.0602, Val Acc: 0.9822\n",
      "Epoch 110/1000, Loss: 0.1088, Accuracy: 0.9699, Val Loss: 0.0629, Val Acc: 0.9822\n",
      "Epoch 111/1000, Loss: 0.1075, Accuracy: 0.9676, Val Loss: 0.0610, Val Acc: 0.9817\n",
      "Epoch 112/1000, Loss: 0.0988, Accuracy: 0.9720, Val Loss: 0.0608, Val Acc: 0.9846\n",
      "Model saved\n",
      "Epoch 113/1000, Loss: 0.1064, Accuracy: 0.9700, Val Loss: 0.0601, Val Acc: 0.9822\n",
      "Epoch 114/1000, Loss: 0.1081, Accuracy: 0.9686, Val Loss: 0.0615, Val Acc: 0.9809\n",
      "Epoch 115/1000, Loss: 0.1053, Accuracy: 0.9700, Val Loss: 0.0594, Val Acc: 0.9826\n",
      "Epoch 116/1000, Loss: 0.1057, Accuracy: 0.9687, Val Loss: 0.0593, Val Acc: 0.9822\n",
      "Epoch 117/1000, Loss: 0.1059, Accuracy: 0.9695, Val Loss: 0.0595, Val Acc: 0.9826\n",
      "Epoch 118/1000, Loss: 0.1044, Accuracy: 0.9692, Val Loss: 0.0623, Val Acc: 0.9809\n",
      "Epoch 119/1000, Loss: 0.1036, Accuracy: 0.9706, Val Loss: 0.0603, Val Acc: 0.9826\n",
      "Epoch 120/1000, Loss: 0.1026, Accuracy: 0.9714, Val Loss: 0.0612, Val Acc: 0.9813\n",
      "Epoch 121/1000, Loss: 0.1050, Accuracy: 0.9687, Val Loss: 0.0611, Val Acc: 0.9838\n",
      "Epoch 122/1000, Loss: 0.1113, Accuracy: 0.9672, Val Loss: 0.0598, Val Acc: 0.9830\n",
      "Epoch 123/1000, Loss: 0.1069, Accuracy: 0.9678, Val Loss: 0.0608, Val Acc: 0.9813\n",
      "Epoch 124/1000, Loss: 0.1072, Accuracy: 0.9695, Val Loss: 0.0600, Val Acc: 0.9805\n",
      "Epoch 125/1000, Loss: 0.1060, Accuracy: 0.9694, Val Loss: 0.0596, Val Acc: 0.9789\n",
      "Epoch 126/1000, Loss: 0.1050, Accuracy: 0.9688, Val Loss: 0.0579, Val Acc: 0.9822\n",
      "Epoch 127/1000, Loss: 0.0983, Accuracy: 0.9723, Val Loss: 0.0598, Val Acc: 0.9809\n",
      "Epoch 128/1000, Loss: 0.1037, Accuracy: 0.9702, Val Loss: 0.0585, Val Acc: 0.9830\n",
      "Epoch 129/1000, Loss: 0.1006, Accuracy: 0.9712, Val Loss: 0.0584, Val Acc: 0.9830\n",
      "Epoch 130/1000, Loss: 0.1044, Accuracy: 0.9696, Val Loss: 0.0569, Val Acc: 0.9830\n",
      "Epoch 131/1000, Loss: 0.1068, Accuracy: 0.9696, Val Loss: 0.0570, Val Acc: 0.9838\n",
      "Epoch 132/1000, Loss: 0.1054, Accuracy: 0.9690, Val Loss: 0.0584, Val Acc: 0.9801\n",
      "Epoch 133/1000, Loss: 0.1060, Accuracy: 0.9694, Val Loss: 0.0578, Val Acc: 0.9846\n",
      "Epoch 134/1000, Loss: 0.1114, Accuracy: 0.9680, Val Loss: 0.0576, Val Acc: 0.9846\n",
      "Epoch 135/1000, Loss: 0.1040, Accuracy: 0.9699, Val Loss: 0.0607, Val Acc: 0.9813\n",
      "Epoch 136/1000, Loss: 0.1051, Accuracy: 0.9699, Val Loss: 0.0549, Val Acc: 0.9830\n",
      "Epoch 137/1000, Loss: 0.1018, Accuracy: 0.9698, Val Loss: 0.0576, Val Acc: 0.9850\n",
      "Model saved\n",
      "Epoch 138/1000, Loss: 0.1042, Accuracy: 0.9687, Val Loss: 0.0594, Val Acc: 0.9817\n",
      "Epoch 139/1000, Loss: 0.1009, Accuracy: 0.9695, Val Loss: 0.0583, Val Acc: 0.9826\n",
      "Epoch 140/1000, Loss: 0.1039, Accuracy: 0.9695, Val Loss: 0.0576, Val Acc: 0.9830\n",
      "Epoch 141/1000, Loss: 0.1019, Accuracy: 0.9696, Val Loss: 0.0580, Val Acc: 0.9817\n",
      "Epoch 142/1000, Loss: 0.0980, Accuracy: 0.9704, Val Loss: 0.0559, Val Acc: 0.9834\n",
      "Epoch 143/1000, Loss: 0.1035, Accuracy: 0.9692, Val Loss: 0.0586, Val Acc: 0.9809\n",
      "Epoch 144/1000, Loss: 0.1010, Accuracy: 0.9692, Val Loss: 0.0559, Val Acc: 0.9830\n",
      "Epoch 145/1000, Loss: 0.1034, Accuracy: 0.9682, Val Loss: 0.0564, Val Acc: 0.9830\n",
      "Epoch 146/1000, Loss: 0.1000, Accuracy: 0.9713, Val Loss: 0.0548, Val Acc: 0.9838\n",
      "Epoch 147/1000, Loss: 0.1028, Accuracy: 0.9693, Val Loss: 0.0567, Val Acc: 0.9842\n",
      "Epoch 148/1000, Loss: 0.1002, Accuracy: 0.9713, Val Loss: 0.0563, Val Acc: 0.9834\n",
      "Epoch 149/1000, Loss: 0.1076, Accuracy: 0.9678, Val Loss: 0.0545, Val Acc: 0.9826\n",
      "Epoch 150/1000, Loss: 0.1028, Accuracy: 0.9700, Val Loss: 0.0568, Val Acc: 0.9842\n",
      "Epoch 151/1000, Loss: 0.1002, Accuracy: 0.9709, Val Loss: 0.0580, Val Acc: 0.9822\n",
      "Epoch 152/1000, Loss: 0.1031, Accuracy: 0.9702, Val Loss: 0.0568, Val Acc: 0.9830\n",
      "Epoch 153/1000, Loss: 0.1029, Accuracy: 0.9682, Val Loss: 0.0576, Val Acc: 0.9817\n",
      "Epoch 154/1000, Loss: 0.1001, Accuracy: 0.9708, Val Loss: 0.0532, Val Acc: 0.9846\n",
      "Epoch 155/1000, Loss: 0.1027, Accuracy: 0.9709, Val Loss: 0.0549, Val Acc: 0.9834\n",
      "Epoch 156/1000, Loss: 0.1016, Accuracy: 0.9697, Val Loss: 0.0580, Val Acc: 0.9822\n",
      "Epoch 157/1000, Loss: 0.0961, Accuracy: 0.9715, Val Loss: 0.0562, Val Acc: 0.9826\n",
      "Epoch 158/1000, Loss: 0.1038, Accuracy: 0.9699, Val Loss: 0.0553, Val Acc: 0.9826\n",
      "Epoch 159/1000, Loss: 0.0995, Accuracy: 0.9716, Val Loss: 0.0562, Val Acc: 0.9830\n",
      "Epoch 160/1000, Loss: 0.1022, Accuracy: 0.9708, Val Loss: 0.0539, Val Acc: 0.9830\n",
      "Epoch 161/1000, Loss: 0.1074, Accuracy: 0.9699, Val Loss: 0.0572, Val Acc: 0.9834\n",
      "Epoch 162/1000, Loss: 0.1022, Accuracy: 0.9698, Val Loss: 0.0553, Val Acc: 0.9822\n",
      "Epoch 163/1000, Loss: 0.1016, Accuracy: 0.9700, Val Loss: 0.0560, Val Acc: 0.9830\n",
      "Epoch 164/1000, Loss: 0.1021, Accuracy: 0.9706, Val Loss: 0.0540, Val Acc: 0.9838\n",
      "Epoch 165/1000, Loss: 0.0976, Accuracy: 0.9712, Val Loss: 0.0537, Val Acc: 0.9830\n",
      "Epoch 166/1000, Loss: 0.0990, Accuracy: 0.9695, Val Loss: 0.0556, Val Acc: 0.9838\n",
      "Epoch 167/1000, Loss: 0.1041, Accuracy: 0.9683, Val Loss: 0.0573, Val Acc: 0.9817\n",
      "Epoch 168/1000, Loss: 0.1028, Accuracy: 0.9692, Val Loss: 0.0538, Val Acc: 0.9830\n",
      "Epoch 169/1000, Loss: 0.0992, Accuracy: 0.9702, Val Loss: 0.0557, Val Acc: 0.9822\n",
      "Epoch 170/1000, Loss: 0.0999, Accuracy: 0.9706, Val Loss: 0.0540, Val Acc: 0.9842\n",
      "Epoch 171/1000, Loss: 0.1000, Accuracy: 0.9705, Val Loss: 0.0517, Val Acc: 0.9838\n",
      "Epoch 172/1000, Loss: 0.0996, Accuracy: 0.9697, Val Loss: 0.0546, Val Acc: 0.9830\n",
      "Epoch 173/1000, Loss: 0.1028, Accuracy: 0.9699, Val Loss: 0.0552, Val Acc: 0.9834\n",
      "Epoch 174/1000, Loss: 0.0999, Accuracy: 0.9701, Val Loss: 0.0529, Val Acc: 0.9834\n",
      "Epoch 175/1000, Loss: 0.0971, Accuracy: 0.9715, Val Loss: 0.0552, Val Acc: 0.9813\n",
      "Epoch 176/1000, Loss: 0.1001, Accuracy: 0.9700, Val Loss: 0.0550, Val Acc: 0.9834\n",
      "Epoch 177/1000, Loss: 0.0992, Accuracy: 0.9711, Val Loss: 0.0545, Val Acc: 0.9834\n",
      "Epoch 178/1000, Loss: 0.1011, Accuracy: 0.9687, Val Loss: 0.0538, Val Acc: 0.9830\n",
      "Epoch 179/1000, Loss: 0.1006, Accuracy: 0.9689, Val Loss: 0.0551, Val Acc: 0.9826\n",
      "Epoch 180/1000, Loss: 0.0985, Accuracy: 0.9696, Val Loss: 0.0541, Val Acc: 0.9846\n",
      "Epoch 181/1000, Loss: 0.0985, Accuracy: 0.9706, Val Loss: 0.0525, Val Acc: 0.9826\n",
      "Epoch 182/1000, Loss: 0.0933, Accuracy: 0.9735, Val Loss: 0.0542, Val Acc: 0.9822\n",
      "Epoch 183/1000, Loss: 0.0982, Accuracy: 0.9700, Val Loss: 0.0532, Val Acc: 0.9846\n",
      "Epoch 184/1000, Loss: 0.0972, Accuracy: 0.9710, Val Loss: 0.0526, Val Acc: 0.9822\n",
      "Epoch 185/1000, Loss: 0.1029, Accuracy: 0.9683, Val Loss: 0.0503, Val Acc: 0.9842\n",
      "Epoch 186/1000, Loss: 0.0950, Accuracy: 0.9717, Val Loss: 0.0532, Val Acc: 0.9834\n",
      "Epoch 187/1000, Loss: 0.0957, Accuracy: 0.9713, Val Loss: 0.0512, Val Acc: 0.9842\n",
      "Epoch 188/1000, Loss: 0.0970, Accuracy: 0.9702, Val Loss: 0.0540, Val Acc: 0.9830\n",
      "Epoch 189/1000, Loss: 0.0970, Accuracy: 0.9722, Val Loss: 0.0529, Val Acc: 0.9826\n",
      "Epoch 190/1000, Loss: 0.0959, Accuracy: 0.9715, Val Loss: 0.0518, Val Acc: 0.9842\n",
      "Epoch 191/1000, Loss: 0.0961, Accuracy: 0.9699, Val Loss: 0.0539, Val Acc: 0.9817\n",
      "Epoch 192/1000, Loss: 0.0947, Accuracy: 0.9707, Val Loss: 0.0549, Val Acc: 0.9822\n",
      "Epoch 193/1000, Loss: 0.0983, Accuracy: 0.9713, Val Loss: 0.0555, Val Acc: 0.9826\n",
      "Epoch 194/1000, Loss: 0.0940, Accuracy: 0.9722, Val Loss: 0.0525, Val Acc: 0.9830\n",
      "Epoch 195/1000, Loss: 0.0952, Accuracy: 0.9696, Val Loss: 0.0509, Val Acc: 0.9854\n",
      "Model saved\n",
      "Epoch 196/1000, Loss: 0.0956, Accuracy: 0.9718, Val Loss: 0.0541, Val Acc: 0.9817\n",
      "Epoch 197/1000, Loss: 0.0969, Accuracy: 0.9702, Val Loss: 0.0526, Val Acc: 0.9838\n",
      "Epoch 198/1000, Loss: 0.0954, Accuracy: 0.9717, Val Loss: 0.0522, Val Acc: 0.9858\n",
      "Model saved\n",
      "Epoch 199/1000, Loss: 0.1014, Accuracy: 0.9696, Val Loss: 0.0536, Val Acc: 0.9834\n",
      "Epoch 200/1000, Loss: 0.0939, Accuracy: 0.9705, Val Loss: 0.0523, Val Acc: 0.9842\n",
      "Epoch 201/1000, Loss: 0.0959, Accuracy: 0.9711, Val Loss: 0.0519, Val Acc: 0.9842\n",
      "Epoch 202/1000, Loss: 0.0905, Accuracy: 0.9722, Val Loss: 0.0520, Val Acc: 0.9858\n",
      "Epoch 203/1000, Loss: 0.0992, Accuracy: 0.9696, Val Loss: 0.0556, Val Acc: 0.9830\n",
      "Epoch 204/1000, Loss: 0.0926, Accuracy: 0.9727, Val Loss: 0.0544, Val Acc: 0.9838\n",
      "Epoch 205/1000, Loss: 0.0927, Accuracy: 0.9723, Val Loss: 0.0544, Val Acc: 0.9801\n",
      "Early stopping triggered\n"
     ]
    }
   ],
   "execution_count": 7
  },
  {
   "metadata": {
    "ExecuteTime": {
     "end_time": "2025-03-24T18:07:52.138173Z",
     "start_time": "2025-03-24T18:07:52.126203Z"
    }
   },
   "cell_type": "code",
   "source": "print(f\"Mô hình tốt nhất đã được lưu tại: {os.path.join(model_dir, best_model_filename)}\")",
   "id": "622d7982b517aeae",
   "outputs": [
    {
     "name": "stdout",
     "output_type": "stream",
     "text": [
      "Mô hình tốt nhất đã được lưu tại: ../../models/MobileNetV2\\mobilenetv2_best_model_v1.pth\n"
     ]
    }
   ],
   "execution_count": 8
  },
  {
   "metadata": {
    "ExecuteTime": {
     "end_time": "2025-03-24T18:07:53.199272Z",
     "start_time": "2025-03-24T18:07:52.558799Z"
    }
   },
   "cell_type": "code",
   "source": [
    "plt.figure(figsize=(12, 4))\n",
    "plt.subplot(1, 2, 1)\n",
    "plt.plot(history['accuracy'], label='Train Accuracy')\n",
    "plt.plot(history['val_accuracy'], label='Validation Accuracy')\n",
    "plt.title('Model Accuracy')\n",
    "plt.xlabel('Epoch')\n",
    "plt.ylabel('Accuracy')\n",
    "plt.legend()\n",
    "\n",
    "plt.subplot(1, 2, 2)\n",
    "plt.plot(history['loss'], label='Train Loss')\n",
    "plt.plot(history['val_loss'], label='Validation Loss')\n",
    "plt.title('Model Loss')\n",
    "plt.xlabel('Epoch')\n",
    "plt.ylabel('Loss')\n",
    "plt.legend()\n",
    "\n",
    "plt.show()"
   ],
   "id": "16c94b6c84a9c4c3",
   "outputs": [
    {
     "data": {
      "text/plain": [
       "<Figure size 1200x400 with 2 Axes>"
      ],
      "image/png": "[encoded data removed]"
     },
     "metadata": {},
     "output_type": "display_data"
    }
   ],
   "execution_count": 9
  },
  {
   "metadata": {
    "ExecuteTime": {
     "end_time": "2025-03-24T18:07:53.229702Z",
     "start_time": "2025-03-24T18:07:53.216226Z"
    }
   },
   "cell_type": "code",
   "source": "print(f\"Mô hình tốt nhất đã được lưu tại: {os.path.join(model_dir, best_model_filename)}\")",
   "id": "ac583c198630e0bc",
   "outputs": [
    {
     "name": "stdout",
     "output_type": "stream",
     "text": [
      "Mô hình tốt nhất đã được lưu tại: ../../models/MobileNetV2\\mobilenetv2_best_model_v1.pth\n"
     ]
    }
   ],
   "execution_count": 10
  }
 ],
 "metadata": {
  "kernelspec": {
   "display_name": "Python 3",
   "language": "python",
   "name": "python3"
  },
  "language_info": {
   "codemirror_mode": {
    "name": "ipython",
    "version": 2
   },
   "file_extension": ".py",
   "mimetype": "text/x-python",
   "name": "python",
   "nbconvert_exporter": "python",
   "pygments_lexer": "ipython2",
   "version": "2.7.6"
  }
 },
 "nbformat": 4,
 "nbformat_minor": 5
}
