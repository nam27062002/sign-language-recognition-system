{
 "cells": [
  {
   "cell_type": "code",
   "id": "initial_id",
   "metadata": {
    "collapsed": true,
    "ExecuteTime": {
     "end_time": "2025-03-23T01:32:46.542673Z",
     "start_time": "2025-03-23T01:32:40.986511Z"
    }
   },
   "source": [
    "import os\n",
    "import torch\n",
    "import torch.nn as nn\n",
    "import torch.optim as optim\n",
    "from torchvision import datasets, transforms, models\n",
    "from torch.utils.data import DataLoader\n",
    "from setting.setting import *\n",
    "import matplotlib.pyplot as plt"
   ],
   "outputs": [
    {
     "name": "stderr",
     "output_type": "stream",
     "text": [
      "C:\\Users\\ntrantrong\\AppData\\Local\\Programs\\Python\\Python39\\lib\\site-packages\\torch\\utils\\_pytree.py:185: FutureWarning: optree is installed but the version is too old to support PyTorch Dynamo in C++ pytree. C++ pytree support is disabled. Please consider upgrading optree using `python3 -m pip install --upgrade 'optree>=0.13.0'`.\n",
      "  warnings.warn(\n"
     ]
    }
   ],
   "execution_count": 1
  },
  {
   "metadata": {
    "ExecuteTime": {
     "end_time": "2025-03-23T01:32:46.588395Z",
     "start_time": "2025-03-23T01:32:46.548661Z"
    }
   },
   "cell_type": "code",
   "source": [
    "data_dir = \"../../dataset/processed/v1/training\"\n",
    "val_data_dir = \"../../dataset/processed/v1/validation\"\n",
    "model_dir = \"../../models/MobileNetV2\"\n",
    "best_model_filename = 'mobilenetv2_best_model_v1.pth'\n",
    "os.makedirs(model_dir, exist_ok=True)\n",
    "device = torch.device('cuda' if torch.cuda.is_available() else 'cpu')"
   ],
   "id": "d72345f2744517f",
   "outputs": [],
   "execution_count": 2
  },
  {
   "metadata": {
    "ExecuteTime": {
     "end_time": "2025-03-23T01:32:47.572553Z",
     "start_time": "2025-03-23T01:32:47.466774Z"
    }
   },
   "cell_type": "code",
   "source": [
    "data_transforms = {\n",
    "    'train': transforms.Compose([\n",
    "        transforms.RandomHorizontalFlip(),\n",
    "        transforms.RandomRotation(10),\n",
    "        transforms.RandomResizedCrop((IMG_HEIGHT, IMG_WIDTH), scale=(0.9, 1.0)),\n",
    "        transforms.ToTensor(),\n",
    "        transforms.Normalize([0.485, 0.456, 0.406], [0.229, 0.224, 0.225])\n",
    "    ]),\n",
    "    'val': transforms.Compose([\n",
    "        transforms.Resize((IMG_HEIGHT, IMG_WIDTH)),\n",
    "        transforms.ToTensor(),\n",
    "        transforms.Normalize([0.485, 0.456, 0.406], [0.229, 0.224, 0.225])\n",
    "    ]),\n",
    "}\n",
    "\n",
    "train_dataset = datasets.ImageFolder(root=data_dir, transform=data_transforms['train'])\n",
    "val_dataset = datasets.ImageFolder(root=val_data_dir, transform=data_transforms['val'])\n",
    "\n",
    "train_loader = DataLoader(train_dataset, batch_size=BATCH_SIZE, shuffle=True, num_workers=4)\n",
    "val_loader = DataLoader(val_dataset, batch_size=BATCH_SIZE, shuffle=False, num_workers=4)"
   ],
   "id": "1a2b01264709683e",
   "outputs": [],
   "execution_count": 3
  },
  {
   "metadata": {
    "ExecuteTime": {
     "end_time": "2025-03-23T01:32:48.688994Z",
     "start_time": "2025-03-23T01:32:47.589601Z"
    }
   },
   "cell_type": "code",
   "source": [
    "base_model = models.mobilenet_v2(pretrained=True)\n",
    "for param in base_model.parameters():\n",
    "    param.requires_grad = False\n",
    "base_model.classifier[1] = nn.Linear(base_model.classifier[1].in_features, 26)\n",
    "model = base_model.to(device)"
   ],
   "id": "309ff10cc167c175",
   "outputs": [
    {
     "name": "stderr",
     "output_type": "stream",
     "text": [
      "C:\\Users\\ntrantrong\\AppData\\Local\\Programs\\Python\\Python39\\lib\\site-packages\\torchvision\\models\\_utils.py:208: UserWarning: The parameter 'pretrained' is deprecated since 0.13 and may be removed in the future, please use 'weights' instead.\n",
      "  warnings.warn(\n",
      "C:\\Users\\ntrantrong\\AppData\\Local\\Programs\\Python\\Python39\\lib\\site-packages\\torchvision\\models\\_utils.py:223: UserWarning: Arguments other than a weight enum or `None` for 'weights' are deprecated since 0.13 and may be removed in the future. The current behavior is equivalent to passing `weights=MobileNet_V2_Weights.IMAGENET1K_V1`. You can also use `weights=MobileNet_V2_Weights.DEFAULT` to get the most up-to-date weights.\n",
      "  warnings.warn(msg)\n",
      "Downloading: \"https://download.pytorch.org/models/mobilenet_v2-b0353104.pth\" to C:\\Users\\ntrantrong/.cache\\torch\\hub\\checkpoints\\mobilenet_v2-b0353104.pth\n",
      "100%|██████████| 13.6M/13.6M [00:00<00:00, 46.1MB/s]\n"
     ]
    }
   ],
   "execution_count": 4
  },
  {
   "metadata": {
    "ExecuteTime": {
     "end_time": "2025-03-23T01:32:48.734872Z",
     "start_time": "2025-03-23T01:32:48.722903Z"
    }
   },
   "cell_type": "code",
   "source": [
    "criterion = nn.CrossEntropyLoss()\n",
    "optimizer = optim.Adam(model.classifier.parameters(), lr=0.0001)"
   ],
   "id": "c8fff24892711b72",
   "outputs": [],
   "execution_count": 5
  },
  {
   "metadata": {
    "ExecuteTime": {
     "end_time": "2025-03-23T01:32:48.780749Z",
     "start_time": "2025-03-23T01:32:48.766787Z"
    }
   },
   "cell_type": "code",
   "source": [
    "def evaluate(model, data_loader, criterion, device):\n",
    "    model.eval()\n",
    "    total_loss = 0.0\n",
    "    correct = 0\n",
    "    total = 0\n",
    "    with torch.no_grad():\n",
    "        for inputs, labels in data_loader:\n",
    "            inputs, labels = inputs.to(device), labels.to(device)\n",
    "            outputs = model(inputs)\n",
    "            loss = criterion(outputs, labels)\n",
    "            total_loss += loss.item()\n",
    "            _, predicted = torch.max(outputs.data, 1)\n",
    "            total += labels.size(0)\n",
    "            correct += (predicted == labels).sum().item()\n",
    "    avg_loss = total_loss / len(data_loader)\n",
    "    accuracy = correct / total\n",
    "    return avg_loss, accuracy"
   ],
   "id": "1e6fb039eaf2d491",
   "outputs": [],
   "execution_count": 6
  },
  {
   "metadata": {
    "ExecuteTime": {
     "end_time": "2025-03-23T06:17:21.189472Z",
     "start_time": "2025-03-23T01:32:48.834606Z"
    }
   },
   "cell_type": "code",
   "source": [
    "best_val_acc = 0.0\n",
    "best_val_loss = float('inf')\n",
    "patience = 20\n",
    "final_total_epochs = 1000\n",
    "history = {'loss': [], 'accuracy': [], 'val_loss': [], 'val_accuracy': []}\n",
    "\n",
    "for epoch in range(final_total_epochs):\n",
    "    model.train()\n",
    "    running_loss = 0.0\n",
    "    correct = 0\n",
    "    total = 0\n",
    "    for inputs, labels in train_loader:\n",
    "        inputs, labels = inputs.to(device), labels.to(device)\n",
    "        optimizer.zero_grad()\n",
    "        outputs = model(inputs)\n",
    "        loss = criterion(outputs, labels)\n",
    "        loss.backward()\n",
    "        optimizer.step()\n",
    "        running_loss += loss.item()\n",
    "        _, predicted = torch.max(outputs.data, 1)\n",
    "        total += labels.size(0)\n",
    "        correct += (predicted == labels).sum().item()\n",
    "\n",
    "    train_loss = running_loss / len(train_loader)\n",
    "    train_acc = correct / total\n",
    "    val_loss, val_acc = evaluate(model, val_loader, criterion, device)\n",
    "\n",
    "    history['loss'].append(train_loss)\n",
    "    history['accuracy'].append(train_acc)\n",
    "    history['val_loss'].append(val_loss)\n",
    "    history['val_accuracy'].append(val_acc)\n",
    "\n",
    "    print(f'Epoch {epoch+1}/{final_total_epochs}, Loss: {train_loss:.4f}, Accuracy: {train_acc:.4f}, '\n",
    "          f'Val Loss: {val_loss:.4f}, Val Acc: {val_acc:.4f}')\n",
    "\n",
    "    if val_acc > best_val_acc:\n",
    "        best_val_acc = val_acc\n",
    "        torch.save(model.state_dict(), os.path.join(model_dir, best_model_filename))\n",
    "        print('Model saved')\n",
    "\n",
    "    if val_loss < best_val_loss:\n",
    "        best_val_loss = val_loss\n",
    "        loss_no_improve = 0\n",
    "    else:\n",
    "        loss_no_improve += 1\n",
    "\n",
    "    if loss_no_improve >= patience:\n",
    "        print('Early stopping triggered')\n",
    "        break"
   ],
   "id": "47e947134fabb31f",
   "outputs": [
    {
     "name": "stdout",
     "output_type": "stream",
     "text": [
      "Epoch 1/1000, Loss: 2.4094, Accuracy: 0.5142, Val Loss: 1.6682, Val Acc: 0.8357\n",
      "Model saved\n",
      "Epoch 2/1000, Loss: 1.3669, Accuracy: 0.8317, Val Loss: 1.0349, Val Acc: 0.8961\n",
      "Model saved\n",
      "Epoch 3/1000, Loss: 0.9342, Accuracy: 0.8787, Val Loss: 0.7443, Val Acc: 0.9128\n",
      "Model saved\n",
      "Epoch 4/1000, Loss: 0.7231, Accuracy: 0.8966, Val Loss: 0.5897, Val Acc: 0.9302\n",
      "Model saved\n",
      "Epoch 5/1000, Loss: 0.5971, Accuracy: 0.9079, Val Loss: 0.4938, Val Acc: 0.9335\n",
      "Model saved\n",
      "Epoch 6/1000, Loss: 0.5098, Accuracy: 0.9194, Val Loss: 0.4196, Val Acc: 0.9396\n",
      "Model saved\n",
      "Epoch 7/1000, Loss: 0.4520, Accuracy: 0.9248, Val Loss: 0.3731, Val Acc: 0.9436\n",
      "Model saved\n",
      "Epoch 8/1000, Loss: 0.4033, Accuracy: 0.9301, Val Loss: 0.3295, Val Acc: 0.9517\n",
      "Model saved\n",
      "Epoch 9/1000, Loss: 0.3702, Accuracy: 0.9348, Val Loss: 0.3012, Val Acc: 0.9477\n",
      "Epoch 10/1000, Loss: 0.3448, Accuracy: 0.9351, Val Loss: 0.2765, Val Acc: 0.9533\n",
      "Model saved\n",
      "Epoch 11/1000, Loss: 0.3193, Accuracy: 0.9404, Val Loss: 0.2541, Val Acc: 0.9590\n",
      "Model saved\n",
      "Epoch 12/1000, Loss: 0.2970, Accuracy: 0.9447, Val Loss: 0.2378, Val Acc: 0.9594\n",
      "Model saved\n",
      "Epoch 13/1000, Loss: 0.2817, Accuracy: 0.9443, Val Loss: 0.2233, Val Acc: 0.9582\n",
      "Epoch 14/1000, Loss: 0.2672, Accuracy: 0.9481, Val Loss: 0.2107, Val Acc: 0.9570\n",
      "Epoch 15/1000, Loss: 0.2576, Accuracy: 0.9486, Val Loss: 0.2018, Val Acc: 0.9578\n",
      "Epoch 16/1000, Loss: 0.2423, Accuracy: 0.9526, Val Loss: 0.1947, Val Acc: 0.9623\n",
      "Model saved\n",
      "Epoch 17/1000, Loss: 0.2327, Accuracy: 0.9525, Val Loss: 0.1818, Val Acc: 0.9619\n",
      "Epoch 18/1000, Loss: 0.2247, Accuracy: 0.9534, Val Loss: 0.1711, Val Acc: 0.9659\n",
      "Model saved\n",
      "Epoch 19/1000, Loss: 0.2201, Accuracy: 0.9541, Val Loss: 0.1686, Val Acc: 0.9647\n",
      "Epoch 20/1000, Loss: 0.2077, Accuracy: 0.9565, Val Loss: 0.1599, Val Acc: 0.9647\n",
      "Epoch 21/1000, Loss: 0.2078, Accuracy: 0.9553, Val Loss: 0.1567, Val Acc: 0.9667\n",
      "Model saved\n",
      "Epoch 22/1000, Loss: 0.2044, Accuracy: 0.9535, Val Loss: 0.1513, Val Acc: 0.9675\n",
      "Model saved\n",
      "Epoch 23/1000, Loss: 0.1957, Accuracy: 0.9570, Val Loss: 0.1500, Val Acc: 0.9667\n",
      "Epoch 24/1000, Loss: 0.1894, Accuracy: 0.9594, Val Loss: 0.1432, Val Acc: 0.9684\n",
      "Model saved\n",
      "Epoch 25/1000, Loss: 0.1875, Accuracy: 0.9578, Val Loss: 0.1415, Val Acc: 0.9659\n",
      "Epoch 26/1000, Loss: 0.1808, Accuracy: 0.9601, Val Loss: 0.1380, Val Acc: 0.9692\n",
      "Model saved\n",
      "Epoch 27/1000, Loss: 0.1780, Accuracy: 0.9601, Val Loss: 0.1330, Val Acc: 0.9659\n",
      "Epoch 28/1000, Loss: 0.1748, Accuracy: 0.9614, Val Loss: 0.1304, Val Acc: 0.9671\n",
      "Epoch 29/1000, Loss: 0.1697, Accuracy: 0.9611, Val Loss: 0.1272, Val Acc: 0.9712\n",
      "Model saved\n",
      "Epoch 30/1000, Loss: 0.1682, Accuracy: 0.9614, Val Loss: 0.1258, Val Acc: 0.9684\n",
      "Epoch 31/1000, Loss: 0.1659, Accuracy: 0.9616, Val Loss: 0.1209, Val Acc: 0.9696\n",
      "Epoch 32/1000, Loss: 0.1628, Accuracy: 0.9623, Val Loss: 0.1179, Val Acc: 0.9716\n",
      "Model saved\n",
      "Epoch 33/1000, Loss: 0.1596, Accuracy: 0.9620, Val Loss: 0.1171, Val Acc: 0.9716\n",
      "Epoch 34/1000, Loss: 0.1579, Accuracy: 0.9637, Val Loss: 0.1147, Val Acc: 0.9732\n",
      "Model saved\n",
      "Epoch 35/1000, Loss: 0.1580, Accuracy: 0.9627, Val Loss: 0.1117, Val Acc: 0.9757\n",
      "Model saved\n",
      "Epoch 36/1000, Loss: 0.1538, Accuracy: 0.9635, Val Loss: 0.1126, Val Acc: 0.9700\n",
      "Epoch 37/1000, Loss: 0.1533, Accuracy: 0.9640, Val Loss: 0.1110, Val Acc: 0.9744\n",
      "Epoch 38/1000, Loss: 0.1551, Accuracy: 0.9624, Val Loss: 0.1081, Val Acc: 0.9748\n",
      "Epoch 39/1000, Loss: 0.1504, Accuracy: 0.9639, Val Loss: 0.1027, Val Acc: 0.9740\n",
      "Epoch 40/1000, Loss: 0.1515, Accuracy: 0.9638, Val Loss: 0.1044, Val Acc: 0.9744\n",
      "Epoch 41/1000, Loss: 0.1475, Accuracy: 0.9644, Val Loss: 0.1034, Val Acc: 0.9744\n",
      "Epoch 42/1000, Loss: 0.1455, Accuracy: 0.9643, Val Loss: 0.1015, Val Acc: 0.9736\n",
      "Epoch 43/1000, Loss: 0.1443, Accuracy: 0.9648, Val Loss: 0.1017, Val Acc: 0.9748\n",
      "Epoch 44/1000, Loss: 0.1442, Accuracy: 0.9644, Val Loss: 0.0999, Val Acc: 0.9748\n",
      "Epoch 45/1000, Loss: 0.1400, Accuracy: 0.9661, Val Loss: 0.0997, Val Acc: 0.9757\n",
      "Epoch 46/1000, Loss: 0.1377, Accuracy: 0.9669, Val Loss: 0.0992, Val Acc: 0.9753\n",
      "Epoch 47/1000, Loss: 0.1409, Accuracy: 0.9649, Val Loss: 0.0955, Val Acc: 0.9753\n",
      "Epoch 48/1000, Loss: 0.1383, Accuracy: 0.9650, Val Loss: 0.0939, Val Acc: 0.9761\n",
      "Model saved\n",
      "Epoch 49/1000, Loss: 0.1361, Accuracy: 0.9667, Val Loss: 0.0936, Val Acc: 0.9757\n",
      "Epoch 50/1000, Loss: 0.1324, Accuracy: 0.9676, Val Loss: 0.0948, Val Acc: 0.9748\n",
      "Epoch 51/1000, Loss: 0.1338, Accuracy: 0.9679, Val Loss: 0.0922, Val Acc: 0.9769\n",
      "Model saved\n",
      "Epoch 52/1000, Loss: 0.1315, Accuracy: 0.9681, Val Loss: 0.0914, Val Acc: 0.9765\n",
      "Epoch 53/1000, Loss: 0.1291, Accuracy: 0.9678, Val Loss: 0.0891, Val Acc: 0.9748\n",
      "Epoch 54/1000, Loss: 0.1310, Accuracy: 0.9662, Val Loss: 0.0925, Val Acc: 0.9765\n",
      "Epoch 55/1000, Loss: 0.1264, Accuracy: 0.9677, Val Loss: 0.0876, Val Acc: 0.9785\n",
      "Model saved\n",
      "Epoch 56/1000, Loss: 0.1295, Accuracy: 0.9665, Val Loss: 0.0872, Val Acc: 0.9773\n",
      "Epoch 57/1000, Loss: 0.1278, Accuracy: 0.9677, Val Loss: 0.0894, Val Acc: 0.9757\n",
      "Epoch 58/1000, Loss: 0.1260, Accuracy: 0.9687, Val Loss: 0.0869, Val Acc: 0.9777\n",
      "Epoch 59/1000, Loss: 0.1248, Accuracy: 0.9675, Val Loss: 0.0871, Val Acc: 0.9761\n",
      "Epoch 60/1000, Loss: 0.1241, Accuracy: 0.9677, Val Loss: 0.0838, Val Acc: 0.9777\n",
      "Epoch 61/1000, Loss: 0.1249, Accuracy: 0.9671, Val Loss: 0.0834, Val Acc: 0.9777\n",
      "Epoch 62/1000, Loss: 0.1226, Accuracy: 0.9688, Val Loss: 0.0834, Val Acc: 0.9773\n",
      "Epoch 63/1000, Loss: 0.1266, Accuracy: 0.9676, Val Loss: 0.0834, Val Acc: 0.9793\n",
      "Model saved\n",
      "Epoch 64/1000, Loss: 0.1211, Accuracy: 0.9688, Val Loss: 0.0815, Val Acc: 0.9785\n",
      "Epoch 65/1000, Loss: 0.1266, Accuracy: 0.9679, Val Loss: 0.0826, Val Acc: 0.9777\n",
      "Epoch 66/1000, Loss: 0.1248, Accuracy: 0.9677, Val Loss: 0.0809, Val Acc: 0.9761\n",
      "Epoch 67/1000, Loss: 0.1202, Accuracy: 0.9689, Val Loss: 0.0824, Val Acc: 0.9785\n",
      "Epoch 68/1000, Loss: 0.1150, Accuracy: 0.9698, Val Loss: 0.0795, Val Acc: 0.9765\n",
      "Epoch 69/1000, Loss: 0.1173, Accuracy: 0.9706, Val Loss: 0.0773, Val Acc: 0.9797\n",
      "Model saved\n",
      "Epoch 70/1000, Loss: 0.1167, Accuracy: 0.9707, Val Loss: 0.0819, Val Acc: 0.9777\n",
      "Epoch 71/1000, Loss: 0.1178, Accuracy: 0.9709, Val Loss: 0.0775, Val Acc: 0.9797\n",
      "Epoch 72/1000, Loss: 0.1149, Accuracy: 0.9706, Val Loss: 0.0772, Val Acc: 0.9773\n",
      "Epoch 73/1000, Loss: 0.1187, Accuracy: 0.9702, Val Loss: 0.0770, Val Acc: 0.9785\n",
      "Epoch 74/1000, Loss: 0.1136, Accuracy: 0.9708, Val Loss: 0.0777, Val Acc: 0.9789\n",
      "Epoch 75/1000, Loss: 0.1165, Accuracy: 0.9689, Val Loss: 0.0769, Val Acc: 0.9785\n",
      "Epoch 76/1000, Loss: 0.1178, Accuracy: 0.9687, Val Loss: 0.0760, Val Acc: 0.9793\n",
      "Epoch 77/1000, Loss: 0.1146, Accuracy: 0.9702, Val Loss: 0.0780, Val Acc: 0.9761\n",
      "Epoch 78/1000, Loss: 0.1113, Accuracy: 0.9696, Val Loss: 0.0744, Val Acc: 0.9813\n",
      "Model saved\n",
      "Epoch 79/1000, Loss: 0.1124, Accuracy: 0.9716, Val Loss: 0.0779, Val Acc: 0.9769\n",
      "Epoch 80/1000, Loss: 0.1121, Accuracy: 0.9707, Val Loss: 0.0733, Val Acc: 0.9801\n",
      "Epoch 81/1000, Loss: 0.1130, Accuracy: 0.9700, Val Loss: 0.0739, Val Acc: 0.9805\n",
      "Epoch 82/1000, Loss: 0.1151, Accuracy: 0.9692, Val Loss: 0.0730, Val Acc: 0.9801\n",
      "Epoch 83/1000, Loss: 0.1113, Accuracy: 0.9694, Val Loss: 0.0744, Val Acc: 0.9797\n",
      "Epoch 84/1000, Loss: 0.1147, Accuracy: 0.9690, Val Loss: 0.0739, Val Acc: 0.9813\n",
      "Epoch 85/1000, Loss: 0.1115, Accuracy: 0.9703, Val Loss: 0.0752, Val Acc: 0.9793\n",
      "Epoch 86/1000, Loss: 0.1098, Accuracy: 0.9710, Val Loss: 0.0722, Val Acc: 0.9801\n",
      "Epoch 87/1000, Loss: 0.1108, Accuracy: 0.9701, Val Loss: 0.0742, Val Acc: 0.9805\n",
      "Epoch 88/1000, Loss: 0.1134, Accuracy: 0.9690, Val Loss: 0.0721, Val Acc: 0.9797\n",
      "Epoch 89/1000, Loss: 0.1073, Accuracy: 0.9718, Val Loss: 0.0716, Val Acc: 0.9781\n",
      "Epoch 90/1000, Loss: 0.1079, Accuracy: 0.9716, Val Loss: 0.0734, Val Acc: 0.9785\n",
      "Epoch 91/1000, Loss: 0.1080, Accuracy: 0.9715, Val Loss: 0.0717, Val Acc: 0.9789\n",
      "Epoch 92/1000, Loss: 0.1087, Accuracy: 0.9719, Val Loss: 0.0716, Val Acc: 0.9793\n",
      "Epoch 93/1000, Loss: 0.1064, Accuracy: 0.9714, Val Loss: 0.0692, Val Acc: 0.9805\n",
      "Epoch 94/1000, Loss: 0.1082, Accuracy: 0.9702, Val Loss: 0.0695, Val Acc: 0.9801\n",
      "Epoch 95/1000, Loss: 0.1079, Accuracy: 0.9710, Val Loss: 0.0676, Val Acc: 0.9809\n",
      "Epoch 96/1000, Loss: 0.1073, Accuracy: 0.9709, Val Loss: 0.0696, Val Acc: 0.9793\n",
      "Epoch 97/1000, Loss: 0.1061, Accuracy: 0.9714, Val Loss: 0.0701, Val Acc: 0.9797\n",
      "Epoch 98/1000, Loss: 0.1073, Accuracy: 0.9703, Val Loss: 0.0697, Val Acc: 0.9797\n",
      "Epoch 99/1000, Loss: 0.1073, Accuracy: 0.9715, Val Loss: 0.0685, Val Acc: 0.9801\n",
      "Epoch 100/1000, Loss: 0.1025, Accuracy: 0.9724, Val Loss: 0.0687, Val Acc: 0.9801\n",
      "Epoch 101/1000, Loss: 0.1027, Accuracy: 0.9711, Val Loss: 0.0679, Val Acc: 0.9797\n",
      "Epoch 102/1000, Loss: 0.1051, Accuracy: 0.9717, Val Loss: 0.0670, Val Acc: 0.9813\n",
      "Epoch 103/1000, Loss: 0.1031, Accuracy: 0.9721, Val Loss: 0.0681, Val Acc: 0.9801\n",
      "Epoch 104/1000, Loss: 0.1059, Accuracy: 0.9711, Val Loss: 0.0674, Val Acc: 0.9822\n",
      "Model saved\n",
      "Epoch 105/1000, Loss: 0.1029, Accuracy: 0.9709, Val Loss: 0.0683, Val Acc: 0.9813\n",
      "Epoch 106/1000, Loss: 0.1027, Accuracy: 0.9717, Val Loss: 0.0680, Val Acc: 0.9801\n",
      "Epoch 107/1000, Loss: 0.1040, Accuracy: 0.9712, Val Loss: 0.0666, Val Acc: 0.9822\n",
      "Epoch 108/1000, Loss: 0.1056, Accuracy: 0.9717, Val Loss: 0.0651, Val Acc: 0.9822\n",
      "Epoch 109/1000, Loss: 0.1034, Accuracy: 0.9709, Val Loss: 0.0669, Val Acc: 0.9822\n",
      "Epoch 110/1000, Loss: 0.1025, Accuracy: 0.9725, Val Loss: 0.0677, Val Acc: 0.9801\n",
      "Epoch 111/1000, Loss: 0.1074, Accuracy: 0.9702, Val Loss: 0.0666, Val Acc: 0.9805\n",
      "Epoch 112/1000, Loss: 0.1042, Accuracy: 0.9717, Val Loss: 0.0659, Val Acc: 0.9817\n",
      "Epoch 113/1000, Loss: 0.1032, Accuracy: 0.9704, Val Loss: 0.0660, Val Acc: 0.9809\n",
      "Epoch 114/1000, Loss: 0.1023, Accuracy: 0.9715, Val Loss: 0.0648, Val Acc: 0.9809\n",
      "Epoch 115/1000, Loss: 0.1002, Accuracy: 0.9731, Val Loss: 0.0637, Val Acc: 0.9826\n",
      "Model saved\n",
      "Epoch 116/1000, Loss: 0.1002, Accuracy: 0.9729, Val Loss: 0.0657, Val Acc: 0.9793\n",
      "Epoch 117/1000, Loss: 0.1015, Accuracy: 0.9722, Val Loss: 0.0678, Val Acc: 0.9805\n",
      "Epoch 118/1000, Loss: 0.1024, Accuracy: 0.9717, Val Loss: 0.0656, Val Acc: 0.9822\n",
      "Epoch 119/1000, Loss: 0.1010, Accuracy: 0.9725, Val Loss: 0.0642, Val Acc: 0.9793\n",
      "Epoch 120/1000, Loss: 0.0986, Accuracy: 0.9731, Val Loss: 0.0655, Val Acc: 0.9793\n",
      "Epoch 121/1000, Loss: 0.1024, Accuracy: 0.9716, Val Loss: 0.0638, Val Acc: 0.9809\n",
      "Epoch 122/1000, Loss: 0.0982, Accuracy: 0.9731, Val Loss: 0.0662, Val Acc: 0.9789\n",
      "Epoch 123/1000, Loss: 0.0962, Accuracy: 0.9736, Val Loss: 0.0636, Val Acc: 0.9817\n",
      "Epoch 124/1000, Loss: 0.1006, Accuracy: 0.9718, Val Loss: 0.0667, Val Acc: 0.9805\n",
      "Epoch 125/1000, Loss: 0.0952, Accuracy: 0.9732, Val Loss: 0.0646, Val Acc: 0.9789\n",
      "Epoch 126/1000, Loss: 0.0961, Accuracy: 0.9736, Val Loss: 0.0632, Val Acc: 0.9813\n",
      "Epoch 127/1000, Loss: 0.0933, Accuracy: 0.9742, Val Loss: 0.0643, Val Acc: 0.9805\n",
      "Epoch 128/1000, Loss: 0.0959, Accuracy: 0.9736, Val Loss: 0.0643, Val Acc: 0.9813\n",
      "Epoch 129/1000, Loss: 0.1000, Accuracy: 0.9725, Val Loss: 0.0630, Val Acc: 0.9826\n",
      "Epoch 130/1000, Loss: 0.1003, Accuracy: 0.9724, Val Loss: 0.0621, Val Acc: 0.9822\n",
      "Epoch 131/1000, Loss: 0.1006, Accuracy: 0.9721, Val Loss: 0.0642, Val Acc: 0.9801\n",
      "Epoch 132/1000, Loss: 0.0999, Accuracy: 0.9728, Val Loss: 0.0609, Val Acc: 0.9817\n",
      "Epoch 133/1000, Loss: 0.1001, Accuracy: 0.9712, Val Loss: 0.0627, Val Acc: 0.9817\n",
      "Epoch 134/1000, Loss: 0.0943, Accuracy: 0.9733, Val Loss: 0.0614, Val Acc: 0.9834\n",
      "Model saved\n",
      "Epoch 135/1000, Loss: 0.0982, Accuracy: 0.9727, Val Loss: 0.0627, Val Acc: 0.9813\n",
      "Epoch 136/1000, Loss: 0.0996, Accuracy: 0.9717, Val Loss: 0.0606, Val Acc: 0.9830\n",
      "Epoch 137/1000, Loss: 0.0970, Accuracy: 0.9729, Val Loss: 0.0618, Val Acc: 0.9813\n",
      "Epoch 138/1000, Loss: 0.0978, Accuracy: 0.9729, Val Loss: 0.0619, Val Acc: 0.9838\n",
      "Model saved\n",
      "Epoch 139/1000, Loss: 0.0958, Accuracy: 0.9730, Val Loss: 0.0631, Val Acc: 0.9805\n",
      "Epoch 140/1000, Loss: 0.0958, Accuracy: 0.9735, Val Loss: 0.0620, Val Acc: 0.9817\n",
      "Epoch 141/1000, Loss: 0.0963, Accuracy: 0.9733, Val Loss: 0.0617, Val Acc: 0.9793\n",
      "Epoch 142/1000, Loss: 0.0976, Accuracy: 0.9725, Val Loss: 0.0616, Val Acc: 0.9813\n",
      "Epoch 143/1000, Loss: 0.1009, Accuracy: 0.9712, Val Loss: 0.0622, Val Acc: 0.9801\n",
      "Epoch 144/1000, Loss: 0.0980, Accuracy: 0.9729, Val Loss: 0.0608, Val Acc: 0.9838\n",
      "Epoch 145/1000, Loss: 0.0956, Accuracy: 0.9728, Val Loss: 0.0611, Val Acc: 0.9830\n",
      "Epoch 146/1000, Loss: 0.0988, Accuracy: 0.9729, Val Loss: 0.0608, Val Acc: 0.9822\n",
      "Epoch 147/1000, Loss: 0.0998, Accuracy: 0.9717, Val Loss: 0.0612, Val Acc: 0.9826\n",
      "Epoch 148/1000, Loss: 0.0978, Accuracy: 0.9713, Val Loss: 0.0637, Val Acc: 0.9817\n",
      "Epoch 149/1000, Loss: 0.0938, Accuracy: 0.9733, Val Loss: 0.0602, Val Acc: 0.9809\n",
      "Epoch 150/1000, Loss: 0.0930, Accuracy: 0.9734, Val Loss: 0.0602, Val Acc: 0.9822\n",
      "Epoch 151/1000, Loss: 0.0960, Accuracy: 0.9731, Val Loss: 0.0629, Val Acc: 0.9805\n",
      "Epoch 152/1000, Loss: 0.0956, Accuracy: 0.9737, Val Loss: 0.0601, Val Acc: 0.9830\n",
      "Epoch 153/1000, Loss: 0.0905, Accuracy: 0.9740, Val Loss: 0.0599, Val Acc: 0.9813\n",
      "Epoch 154/1000, Loss: 0.0902, Accuracy: 0.9748, Val Loss: 0.0586, Val Acc: 0.9813\n",
      "Epoch 155/1000, Loss: 0.0928, Accuracy: 0.9735, Val Loss: 0.0579, Val Acc: 0.9817\n",
      "Epoch 156/1000, Loss: 0.0968, Accuracy: 0.9733, Val Loss: 0.0589, Val Acc: 0.9834\n",
      "Epoch 157/1000, Loss: 0.0926, Accuracy: 0.9735, Val Loss: 0.0584, Val Acc: 0.9834\n",
      "Epoch 158/1000, Loss: 0.0945, Accuracy: 0.9733, Val Loss: 0.0604, Val Acc: 0.9805\n",
      "Epoch 159/1000, Loss: 0.0904, Accuracy: 0.9743, Val Loss: 0.0562, Val Acc: 0.9834\n",
      "Epoch 160/1000, Loss: 0.0922, Accuracy: 0.9741, Val Loss: 0.0568, Val Acc: 0.9830\n",
      "Epoch 161/1000, Loss: 0.0952, Accuracy: 0.9728, Val Loss: 0.0574, Val Acc: 0.9822\n",
      "Epoch 162/1000, Loss: 0.0939, Accuracy: 0.9738, Val Loss: 0.0601, Val Acc: 0.9817\n",
      "Epoch 163/1000, Loss: 0.0942, Accuracy: 0.9724, Val Loss: 0.0585, Val Acc: 0.9817\n",
      "Epoch 164/1000, Loss: 0.0955, Accuracy: 0.9723, Val Loss: 0.0576, Val Acc: 0.9846\n",
      "Model saved\n",
      "Epoch 165/1000, Loss: 0.0926, Accuracy: 0.9736, Val Loss: 0.0579, Val Acc: 0.9817\n",
      "Epoch 166/1000, Loss: 0.0940, Accuracy: 0.9738, Val Loss: 0.0566, Val Acc: 0.9822\n",
      "Epoch 167/1000, Loss: 0.0972, Accuracy: 0.9725, Val Loss: 0.0581, Val Acc: 0.9838\n",
      "Epoch 168/1000, Loss: 0.0936, Accuracy: 0.9729, Val Loss: 0.0578, Val Acc: 0.9842\n",
      "Epoch 169/1000, Loss: 0.0914, Accuracy: 0.9748, Val Loss: 0.0580, Val Acc: 0.9830\n",
      "Epoch 170/1000, Loss: 0.0912, Accuracy: 0.9736, Val Loss: 0.0567, Val Acc: 0.9846\n",
      "Epoch 171/1000, Loss: 0.0951, Accuracy: 0.9721, Val Loss: 0.0569, Val Acc: 0.9846\n",
      "Epoch 172/1000, Loss: 0.0926, Accuracy: 0.9728, Val Loss: 0.0576, Val Acc: 0.9830\n",
      "Epoch 173/1000, Loss: 0.0894, Accuracy: 0.9743, Val Loss: 0.0593, Val Acc: 0.9826\n",
      "Epoch 174/1000, Loss: 0.0900, Accuracy: 0.9739, Val Loss: 0.0565, Val Acc: 0.9834\n",
      "Epoch 175/1000, Loss: 0.0897, Accuracy: 0.9743, Val Loss: 0.0564, Val Acc: 0.9817\n",
      "Epoch 176/1000, Loss: 0.0911, Accuracy: 0.9747, Val Loss: 0.0572, Val Acc: 0.9822\n",
      "Epoch 177/1000, Loss: 0.0890, Accuracy: 0.9748, Val Loss: 0.0565, Val Acc: 0.9862\n",
      "Model saved\n",
      "Epoch 178/1000, Loss: 0.0892, Accuracy: 0.9747, Val Loss: 0.0567, Val Acc: 0.9846\n",
      "Epoch 179/1000, Loss: 0.0923, Accuracy: 0.9738, Val Loss: 0.0566, Val Acc: 0.9822\n",
      "Early stopping triggered\n"
     ]
    }
   ],
   "execution_count": 7
  },
  {
   "metadata": {
    "ExecuteTime": {
     "end_time": "2025-03-23T06:17:22.171353Z",
     "start_time": "2025-03-23T06:17:22.157389Z"
    }
   },
   "cell_type": "code",
   "source": "print(f\"Mô hình tốt nhất đã được lưu tại: {os.path.join(model_dir, best_model_filename)}\")",
   "id": "622d7982b517aeae",
   "outputs": [
    {
     "name": "stdout",
     "output_type": "stream",
     "text": [
      "Mô hình tốt nhất đã được lưu tại: ../../models/MobileNetV2\\mobilenetv2_best_model_v1.pth\n"
     ]
    }
   ],
   "execution_count": 8
  },
  {
   "metadata": {
    "ExecuteTime": {
     "end_time": "2025-03-23T06:17:23.090946Z",
     "start_time": "2025-03-23T06:17:22.694007Z"
    }
   },
   "cell_type": "code",
   "source": [
    "plt.figure(figsize=(12, 4))\n",
    "plt.subplot(1, 2, 1)\n",
    "plt.plot(history['accuracy'], label='Train Accuracy')\n",
    "plt.plot(history['val_accuracy'], label='Validation Accuracy')\n",
    "plt.title('Model Accuracy')\n",
    "plt.xlabel('Epoch')\n",
    "plt.ylabel('Accuracy')\n",
    "plt.legend()\n",
    "\n",
    "plt.subplot(1, 2, 2)\n",
    "plt.plot(history['loss'], label='Train Loss')\n",
    "plt.plot(history['val_loss'], label='Validation Loss')\n",
    "plt.title('Model Loss')\n",
    "plt.xlabel('Epoch')\n",
    "plt.ylabel('Loss')\n",
    "plt.legend()\n",
    "\n",
    "plt.show()"
   ],
   "id": "16c94b6c84a9c4c3",
   "outputs": [
    {
     "data": {
      "text/plain": [
       "<Figure size 1200x400 with 2 Axes>"
      ],
      "image/png": "[encoded data removed]"
     },
     "metadata": {},
     "output_type": "display_data"
    }
   ],
   "execution_count": 9
  },
  {
   "metadata": {
    "ExecuteTime": {
     "end_time": "2025-03-23T06:17:23.137819Z",
     "start_time": "2025-03-23T06:17:23.116875Z"
    }
   },
   "cell_type": "code",
   "source": "print(f\"Mô hình tốt nhất đã được lưu tại: {os.path.join(model_dir, best_model_filename)}\")",
   "id": "ac583c198630e0bc",
   "outputs": [
    {
     "name": "stdout",
     "output_type": "stream",
     "text": [
      "Mô hình tốt nhất đã được lưu tại: ../../models/MobileNetV2\\mobilenetv2_best_model_v1.pth\n"
     ]
    }
   ],
   "execution_count": 10
  }
 ],
 "metadata": {
  "kernelspec": {
   "display_name": "Python 3",
   "language": "python",
   "name": "python3"
  },
  "language_info": {
   "codemirror_mode": {
    "name": "ipython",
    "version": 2
   },
   "file_extension": ".py",
   "mimetype": "text/x-python",
   "name": "python",
   "nbconvert_exporter": "python",
   "pygments_lexer": "ipython2",
   "version": "2.7.6"
  }
 },
 "nbformat": 4,
 "nbformat_minor": 5
}
