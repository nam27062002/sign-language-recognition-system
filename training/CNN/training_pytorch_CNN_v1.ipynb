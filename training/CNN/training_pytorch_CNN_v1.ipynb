{
 "cells": [
  {
   "cell_type": "code",
   "id": "initial_id",
   "metadata": {
    "collapsed": true,
    "ExecuteTime": {
     "end_time": "2025-03-24T14:37:19.508898Z",
     "start_time": "2025-03-24T14:37:19.495302Z"
    }
   },
   "source": [
    "import os\n",
    "import torch\n",
    "import torch.nn as nn\n",
    "import torch.optim as optim\n",
    "from torchvision import datasets, transforms\n",
    "from torch.utils.data import DataLoader\n",
    "from setting.setting import *\n",
    "import matplotlib.pyplot as plt"
   ],
   "outputs": [],
   "execution_count": 11
  },
  {
   "metadata": {
    "ExecuteTime": {
     "end_time": "2025-03-24T14:37:19.586244Z",
     "start_time": "2025-03-24T14:37:19.572280Z"
    }
   },
   "cell_type": "code",
   "source": [
    "data_dir = \"../../dataset/processed/v1/training\"\n",
    "val_data_dir = \"../../dataset/processed/v1/validation\"\n",
    "model_dir = \"../../models/CNN\"\n",
    "best_model_filename = \"cnn_best_model_v1.pth\"\n",
    "os.makedirs(model_dir, exist_ok=True)\n",
    "device = torch.device('cuda' if torch.cuda.is_available() else 'cpu')"
   ],
   "id": "e92aeb4c80819a74",
   "outputs": [],
   "execution_count": 12
  },
  {
   "metadata": {
    "ExecuteTime": {
     "end_time": "2025-03-24T14:37:19.756723Z",
     "start_time": "2025-03-24T14:37:19.650227Z"
    }
   },
   "cell_type": "code",
   "source": [
    "data_transforms = {\n",
    "    'train': transforms.Compose([\n",
    "        transforms.RandomHorizontalFlip(),\n",
    "        transforms.RandomRotation(10),\n",
    "        transforms.RandomResizedCrop((IMG_HEIGHT, IMG_WIDTH), scale=(0.9, 1.0)),\n",
    "        transforms.ToTensor(),\n",
    "    ]),\n",
    "    'val': transforms.Compose([\n",
    "        transforms.Resize((IMG_HEIGHT, IMG_WIDTH)),\n",
    "        transforms.ToTensor(),\n",
    "    ]),\n",
    "}\n",
    "\n",
    "train_dataset = datasets.ImageFolder(root=data_dir, transform=data_transforms['train'])\n",
    "val_dataset = datasets.ImageFolder(root=val_data_dir, transform=data_transforms['val'])\n",
    "\n",
    "train_loader = DataLoader(train_dataset, batch_size=BATCH_SIZE, shuffle=True, num_workers=4)\n",
    "val_loader = DataLoader(val_dataset, batch_size=BATCH_SIZE, shuffle=False, num_workers=4)"
   ],
   "id": "21dbcd45fcdd9743",
   "outputs": [],
   "execution_count": 13
  },
  {
   "metadata": {
    "ExecuteTime": {
     "end_time": "2025-03-24T14:37:19.971341Z",
     "start_time": "2025-03-24T14:37:19.819919Z"
    }
   },
   "cell_type": "code",
   "source": [
    "class CNNModel(nn.Module):\n",
    "    def __init__(self):\n",
    "        super(CNNModel, self).__init__()\n",
    "        self.conv1 = nn.Conv2d(3, 32, kernel_size=3, padding=1, bias=False)\n",
    "        self.pool1 = nn.MaxPool2d(2, 2)\n",
    "        self.dropout1 = nn.Dropout(0.25)\n",
    "        self.conv2 = nn.Conv2d(32, 64, kernel_size=3, padding=1)\n",
    "        self.pool2 = nn.MaxPool2d(2, 2)\n",
    "        self.conv3 = nn.Conv2d(64, 128, kernel_size=3, padding=1)\n",
    "        self.pool3 = nn.MaxPool2d(2, 2)\n",
    "        self.flatten = nn.Flatten()\n",
    "        self.fc1 = nn.Linear(128 * (IMG_HEIGHT // 8) * (IMG_WIDTH // 8), 256)\n",
    "        self.dropout2 = nn.Dropout(0.5)\n",
    "        self.fc2 = nn.Linear(256, 26)\n",
    "\n",
    "    def forward(self, x):\n",
    "        x = self.pool1(torch.relu(self.conv1(x)))\n",
    "        x = self.dropout1(x)\n",
    "        x = self.pool2(torch.relu(self.conv2(x)))\n",
    "        x = self.pool3(torch.relu(self.conv3(x)))\n",
    "        x = self.flatten(x)\n",
    "        x = torch.relu(self.fc1(x))\n",
    "        x = self.dropout2(x)\n",
    "        x = self.fc2(x)\n",
    "        return x\n",
    "\n",
    "model = CNNModel().to(device)"
   ],
   "id": "ab8373a59490c289",
   "outputs": [],
   "execution_count": 14
  },
  {
   "metadata": {
    "ExecuteTime": {
     "end_time": "2025-03-24T14:37:20.047498Z",
     "start_time": "2025-03-24T14:37:20.034824Z"
    }
   },
   "cell_type": "code",
   "source": [
    "criterion = nn.CrossEntropyLoss()\n",
    "optimizer = optim.Adam(model.parameters(), lr=0.0001)"
   ],
   "id": "304fd9574d988ca2",
   "outputs": [],
   "execution_count": 15
  },
  {
   "metadata": {
    "ExecuteTime": {
     "end_time": "2025-03-24T14:37:20.139852Z",
     "start_time": "2025-03-24T14:37:20.126292Z"
    }
   },
   "cell_type": "code",
   "source": [
    "def evaluate(model, data_loader, criterion, device):\n",
    "    model.eval()\n",
    "    total_loss = 0.0\n",
    "    correct = 0\n",
    "    total = 0\n",
    "    with torch.no_grad():\n",
    "        for inputs, labels in data_loader:\n",
    "            inputs, labels = inputs.to(device), labels.to(device)\n",
    "            outputs = model(inputs)\n",
    "            loss = criterion(outputs, labels)\n",
    "            total_loss += loss.item()\n",
    "            _, predicted = torch.max(outputs.data, 1)\n",
    "            total += labels.size(0)\n",
    "            correct += (predicted == labels).sum().item()\n",
    "    avg_loss = total_loss / len(data_loader)\n",
    "    accuracy = correct / total\n",
    "    return avg_loss, accuracy"
   ],
   "id": "80176e5c16ced4fe",
   "outputs": [],
   "execution_count": 16
  },
  {
   "metadata": {
    "ExecuteTime": {
     "end_time": "2025-03-24T16:16:35.279406Z",
     "start_time": "2025-03-24T14:37:20.203996Z"
    }
   },
   "cell_type": "code",
   "source": [
    "best_val_acc = 0.0\n",
    "best_val_loss = float('inf')\n",
    "patience = 20\n",
    "loss_no_improve = 0\n",
    "final_total_epochs = 1000\n",
    "history = {'loss': [], 'accuracy': [], 'val_loss': [], 'val_accuracy': []}\n",
    "\n",
    "for epoch in range(final_total_epochs):\n",
    "    model.train()\n",
    "    running_loss = 0.0\n",
    "    correct = 0\n",
    "    total = 0\n",
    "    for inputs, labels in train_loader:\n",
    "        inputs, labels = inputs.to(device), labels.to(device)\n",
    "        optimizer.zero_grad()\n",
    "        outputs = model(inputs)\n",
    "        loss = criterion(outputs, labels)\n",
    "        loss.backward()\n",
    "        optimizer.step()\n",
    "        running_loss += loss.item()\n",
    "        _, predicted = torch.max(outputs.data, 1)\n",
    "        total += labels.size(0)\n",
    "        correct += (predicted == labels).sum().item()\n",
    "\n",
    "    train_loss = running_loss / len(train_loader)\n",
    "    train_acc = correct / total\n",
    "    val_loss, val_acc = evaluate(model, val_loader, criterion, device)\n",
    "\n",
    "    history['loss'].append(train_loss)\n",
    "    history['accuracy'].append(train_acc)\n",
    "    history['val_loss'].append(val_loss)\n",
    "    history['val_accuracy'].append(val_acc)\n",
    "\n",
    "    print(f'Epoch {epoch+1}/{final_total_epochs}, Loss: {train_loss:.4f}, Accuracy: {train_acc:.4f}, '\n",
    "          f'Val Loss: {val_loss:.4f}, Val Acc: {val_acc:.4f}')\n",
    "\n",
    "    if val_acc > best_val_acc:\n",
    "        best_val_acc = val_acc\n",
    "        torch.save(model.state_dict(), os.path.join(model_dir, best_model_filename))\n",
    "        print('Model saved')\n",
    "\n",
    "    if val_loss < best_val_loss:\n",
    "        best_val_loss = val_loss\n",
    "        loss_no_improve = 0\n",
    "    else:\n",
    "        loss_no_improve += 1\n",
    "\n",
    "    if loss_no_improve >= patience:\n",
    "        print('Early stopping triggered')\n",
    "        break"
   ],
   "id": "568be545871a27ff",
   "outputs": [
    {
     "name": "stdout",
     "output_type": "stream",
     "text": [
      "Epoch 1/1000, Loss: 1.2939, Accuracy: 0.6226, Val Loss: 0.2377, Val Acc: 0.9436\n",
      "Model saved\n",
      "Epoch 2/1000, Loss: 0.5108, Accuracy: 0.8576, Val Loss: 0.1612, Val Acc: 0.9619\n",
      "Model saved\n",
      "Epoch 3/1000, Loss: 0.3933, Accuracy: 0.8961, Val Loss: 0.1303, Val Acc: 0.9708\n",
      "Model saved\n",
      "Epoch 4/1000, Loss: 0.3382, Accuracy: 0.9101, Val Loss: 0.1256, Val Acc: 0.9712\n",
      "Model saved\n",
      "Epoch 5/1000, Loss: 0.3023, Accuracy: 0.9197, Val Loss: 0.1099, Val Acc: 0.9757\n",
      "Model saved\n",
      "Epoch 6/1000, Loss: 0.2738, Accuracy: 0.9285, Val Loss: 0.1054, Val Acc: 0.9777\n",
      "Model saved\n",
      "Epoch 7/1000, Loss: 0.2576, Accuracy: 0.9323, Val Loss: 0.0971, Val Acc: 0.9769\n",
      "Epoch 8/1000, Loss: 0.2467, Accuracy: 0.9354, Val Loss: 0.0877, Val Acc: 0.9781\n",
      "Model saved\n",
      "Epoch 9/1000, Loss: 0.2342, Accuracy: 0.9378, Val Loss: 0.0838, Val Acc: 0.9789\n",
      "Model saved\n",
      "Epoch 10/1000, Loss: 0.2206, Accuracy: 0.9415, Val Loss: 0.0813, Val Acc: 0.9817\n",
      "Model saved\n",
      "Epoch 11/1000, Loss: 0.2039, Accuracy: 0.9445, Val Loss: 0.0811, Val Acc: 0.9797\n",
      "Epoch 12/1000, Loss: 0.2021, Accuracy: 0.9466, Val Loss: 0.0759, Val Acc: 0.9813\n",
      "Epoch 13/1000, Loss: 0.1932, Accuracy: 0.9497, Val Loss: 0.0762, Val Acc: 0.9813\n",
      "Epoch 14/1000, Loss: 0.1829, Accuracy: 0.9523, Val Loss: 0.0765, Val Acc: 0.9809\n",
      "Epoch 15/1000, Loss: 0.1773, Accuracy: 0.9517, Val Loss: 0.0746, Val Acc: 0.9817\n",
      "Epoch 16/1000, Loss: 0.1738, Accuracy: 0.9557, Val Loss: 0.0697, Val Acc: 0.9826\n",
      "Model saved\n",
      "Epoch 17/1000, Loss: 0.1746, Accuracy: 0.9523, Val Loss: 0.0727, Val Acc: 0.9822\n",
      "Epoch 18/1000, Loss: 0.1588, Accuracy: 0.9554, Val Loss: 0.0703, Val Acc: 0.9834\n",
      "Model saved\n",
      "Epoch 19/1000, Loss: 0.1540, Accuracy: 0.9586, Val Loss: 0.0694, Val Acc: 0.9834\n",
      "Epoch 20/1000, Loss: 0.1500, Accuracy: 0.9593, Val Loss: 0.0723, Val Acc: 0.9838\n",
      "Model saved\n",
      "Epoch 21/1000, Loss: 0.1418, Accuracy: 0.9596, Val Loss: 0.0746, Val Acc: 0.9817\n",
      "Epoch 22/1000, Loss: 0.1409, Accuracy: 0.9603, Val Loss: 0.0689, Val Acc: 0.9862\n",
      "Model saved\n",
      "Epoch 23/1000, Loss: 0.1379, Accuracy: 0.9628, Val Loss: 0.0682, Val Acc: 0.9850\n",
      "Epoch 24/1000, Loss: 0.1373, Accuracy: 0.9630, Val Loss: 0.0639, Val Acc: 0.9862\n",
      "Epoch 25/1000, Loss: 0.1284, Accuracy: 0.9644, Val Loss: 0.0682, Val Acc: 0.9846\n",
      "Epoch 26/1000, Loss: 0.1228, Accuracy: 0.9654, Val Loss: 0.0647, Val Acc: 0.9846\n",
      "Epoch 27/1000, Loss: 0.1259, Accuracy: 0.9654, Val Loss: 0.0618, Val Acc: 0.9866\n",
      "Model saved\n",
      "Epoch 28/1000, Loss: 0.1201, Accuracy: 0.9668, Val Loss: 0.0617, Val Acc: 0.9862\n",
      "Epoch 29/1000, Loss: 0.1234, Accuracy: 0.9668, Val Loss: 0.0578, Val Acc: 0.9870\n",
      "Model saved\n",
      "Epoch 30/1000, Loss: 0.1107, Accuracy: 0.9688, Val Loss: 0.0578, Val Acc: 0.9886\n",
      "Model saved\n",
      "Epoch 31/1000, Loss: 0.1108, Accuracy: 0.9696, Val Loss: 0.0596, Val Acc: 0.9866\n",
      "Epoch 32/1000, Loss: 0.1102, Accuracy: 0.9693, Val Loss: 0.0533, Val Acc: 0.9874\n",
      "Epoch 33/1000, Loss: 0.1102, Accuracy: 0.9697, Val Loss: 0.0592, Val Acc: 0.9870\n",
      "Epoch 34/1000, Loss: 0.1073, Accuracy: 0.9702, Val Loss: 0.0565, Val Acc: 0.9882\n",
      "Epoch 35/1000, Loss: 0.1003, Accuracy: 0.9722, Val Loss: 0.0563, Val Acc: 0.9882\n",
      "Epoch 36/1000, Loss: 0.0969, Accuracy: 0.9728, Val Loss: 0.0520, Val Acc: 0.9878\n",
      "Epoch 37/1000, Loss: 0.0960, Accuracy: 0.9736, Val Loss: 0.0507, Val Acc: 0.9882\n",
      "Epoch 38/1000, Loss: 0.0939, Accuracy: 0.9739, Val Loss: 0.0503, Val Acc: 0.9886\n",
      "Epoch 39/1000, Loss: 0.0921, Accuracy: 0.9740, Val Loss: 0.0507, Val Acc: 0.9870\n",
      "Epoch 40/1000, Loss: 0.0915, Accuracy: 0.9743, Val Loss: 0.0507, Val Acc: 0.9870\n",
      "Epoch 41/1000, Loss: 0.0909, Accuracy: 0.9733, Val Loss: 0.0541, Val Acc: 0.9886\n",
      "Epoch 42/1000, Loss: 0.0893, Accuracy: 0.9753, Val Loss: 0.0520, Val Acc: 0.9874\n",
      "Epoch 43/1000, Loss: 0.0864, Accuracy: 0.9755, Val Loss: 0.0518, Val Acc: 0.9878\n",
      "Epoch 44/1000, Loss: 0.0828, Accuracy: 0.9766, Val Loss: 0.0479, Val Acc: 0.9874\n",
      "Epoch 45/1000, Loss: 0.0820, Accuracy: 0.9760, Val Loss: 0.0460, Val Acc: 0.9899\n",
      "Model saved\n",
      "Epoch 46/1000, Loss: 0.0753, Accuracy: 0.9777, Val Loss: 0.0461, Val Acc: 0.9907\n",
      "Model saved\n",
      "Epoch 47/1000, Loss: 0.0779, Accuracy: 0.9774, Val Loss: 0.0436, Val Acc: 0.9886\n",
      "Epoch 48/1000, Loss: 0.0735, Accuracy: 0.9786, Val Loss: 0.0462, Val Acc: 0.9899\n",
      "Epoch 49/1000, Loss: 0.0831, Accuracy: 0.9758, Val Loss: 0.0497, Val Acc: 0.9882\n",
      "Epoch 50/1000, Loss: 0.0744, Accuracy: 0.9790, Val Loss: 0.0496, Val Acc: 0.9890\n",
      "Epoch 51/1000, Loss: 0.0736, Accuracy: 0.9789, Val Loss: 0.0520, Val Acc: 0.9890\n",
      "Epoch 52/1000, Loss: 0.0721, Accuracy: 0.9787, Val Loss: 0.0503, Val Acc: 0.9886\n",
      "Epoch 53/1000, Loss: 0.0695, Accuracy: 0.9788, Val Loss: 0.0485, Val Acc: 0.9895\n",
      "Epoch 54/1000, Loss: 0.0663, Accuracy: 0.9811, Val Loss: 0.0475, Val Acc: 0.9899\n",
      "Epoch 55/1000, Loss: 0.0679, Accuracy: 0.9806, Val Loss: 0.0485, Val Acc: 0.9895\n",
      "Epoch 56/1000, Loss: 0.0662, Accuracy: 0.9810, Val Loss: 0.0503, Val Acc: 0.9890\n",
      "Epoch 57/1000, Loss: 0.0674, Accuracy: 0.9814, Val Loss: 0.0465, Val Acc: 0.9882\n",
      "Epoch 58/1000, Loss: 0.0607, Accuracy: 0.9826, Val Loss: 0.0528, Val Acc: 0.9890\n",
      "Epoch 59/1000, Loss: 0.0664, Accuracy: 0.9808, Val Loss: 0.0485, Val Acc: 0.9882\n",
      "Epoch 60/1000, Loss: 0.0649, Accuracy: 0.9817, Val Loss: 0.0487, Val Acc: 0.9899\n",
      "Epoch 61/1000, Loss: 0.0602, Accuracy: 0.9824, Val Loss: 0.0523, Val Acc: 0.9886\n",
      "Epoch 62/1000, Loss: 0.0614, Accuracy: 0.9819, Val Loss: 0.0490, Val Acc: 0.9899\n",
      "Epoch 63/1000, Loss: 0.0629, Accuracy: 0.9816, Val Loss: 0.0483, Val Acc: 0.9911\n",
      "Model saved\n",
      "Epoch 64/1000, Loss: 0.0603, Accuracy: 0.9823, Val Loss: 0.0520, Val Acc: 0.9911\n",
      "Epoch 65/1000, Loss: 0.0590, Accuracy: 0.9831, Val Loss: 0.0484, Val Acc: 0.9903\n",
      "Epoch 66/1000, Loss: 0.0569, Accuracy: 0.9836, Val Loss: 0.0486, Val Acc: 0.9895\n",
      "Epoch 67/1000, Loss: 0.0600, Accuracy: 0.9823, Val Loss: 0.0464, Val Acc: 0.9903\n",
      "Early stopping triggered\n"
     ]
    }
   ],
   "execution_count": 17
  },
  {
   "metadata": {
    "ExecuteTime": {
     "end_time": "2025-03-24T16:16:35.479156Z",
     "start_time": "2025-03-24T16:16:35.466136Z"
    }
   },
   "cell_type": "code",
   "source": "print(f\"Mô hình tốt nhất đã được lưu tại: {os.path.join(model_dir, best_model_filename)}\")",
   "id": "332df4b24613a8e0",
   "outputs": [
    {
     "name": "stdout",
     "output_type": "stream",
     "text": [
      "Mô hình tốt nhất đã được lưu tại: ../../models/CNN\\cnn_best_model_v1.pth\n"
     ]
    }
   ],
   "execution_count": 18
  },
  {
   "metadata": {
    "ExecuteTime": {
     "end_time": "2025-03-24T16:16:35.983843Z",
     "start_time": "2025-03-24T16:16:35.501570Z"
    }
   },
   "cell_type": "code",
   "source": [
    "plt.figure(figsize=(12, 4))\n",
    "plt.subplot(1, 2, 1)\n",
    "plt.plot(history['accuracy'], label='Train Accuracy')\n",
    "plt.plot(history['val_accuracy'], label='Validation Accuracy')\n",
    "plt.title('Model Accuracy')\n",
    "plt.xlabel('Epoch')\n",
    "plt.ylabel('Accuracy')\n",
    "plt.legend()\n",
    "\n",
    "plt.subplot(1, 2, 2)\n",
    "plt.plot(history['loss'], label='Train Loss')\n",
    "plt.plot(history['val_loss'], label='Validation Loss')\n",
    "plt.title('Model Loss')\n",
    "plt.xlabel('Epoch')\n",
    "plt.ylabel('Loss')\n",
    "plt.legend()\n",
    "\n",
    "plt.show()"
   ],
   "id": "c1697e8487f3c47c",
   "outputs": [
    {
     "data": {
      "text/plain": [
       "<Figure size 1200x400 with 2 Axes>"
      ],
      "image/png": "[encoded data removed]"
     },
     "metadata": {},
     "output_type": "display_data"
    }
   ],
   "execution_count": 19
  },
  {
   "metadata": {
    "ExecuteTime": {
     "end_time": "2025-03-24T16:16:36.074697Z",
     "start_time": "2025-03-24T16:16:36.061732Z"
    }
   },
   "cell_type": "code",
   "source": "print(f\"Mô hình tốt nhất đã được lưu tại: {os.path.join(model_dir, best_model_filename)}\")",
   "id": "6a1dcff7712affe8",
   "outputs": [
    {
     "name": "stdout",
     "output_type": "stream",
     "text": [
      "Mô hình tốt nhất đã được lưu tại: ../../models/CNN\\cnn_best_model_v1.pth\n"
     ]
    }
   ],
   "execution_count": 20
  }
 ],
 "metadata": {
  "kernelspec": {
   "display_name": "Python 3",
   "language": "python",
   "name": "python3"
  },
  "language_info": {
   "codemirror_mode": {
    "name": "ipython",
    "version": 2
   },
   "file_extension": ".py",
   "mimetype": "text/x-python",
   "name": "python",
   "nbconvert_exporter": "python",
   "pygments_lexer": "ipython2",
   "version": "2.7.6"
  }
 },
 "nbformat": 4,
 "nbformat_minor": 5
}
