{
 "cells": [
  {
   "cell_type": "code",
   "id": "initial_id",
   "metadata": {
    "collapsed": true,
    "ExecuteTime": {
     "end_time": "2025-03-22T19:47:41.900295Z",
     "start_time": "2025-03-22T19:47:33.847808Z"
    }
   },
   "source": [
    "import os\n",
    "import torch\n",
    "import torch.nn as nn\n",
    "import torch.optim as optim\n",
    "from torchvision import datasets, transforms\n",
    "from torch.utils.data import DataLoader\n",
    "from setting.setting import *\n",
    "import matplotlib.pyplot as plt"
   ],
   "outputs": [
    {
     "name": "stderr",
     "output_type": "stream",
     "text": [
      "C:\\Users\\ntrantrong\\AppData\\Local\\Programs\\Python\\Python39\\lib\\site-packages\\torch\\utils\\_pytree.py:185: FutureWarning: optree is installed but the version is too old to support PyTorch Dynamo in C++ pytree. C++ pytree support is disabled. Please consider upgrading optree using `python3 -m pip install --upgrade 'optree>=0.13.0'`.\n",
      "  warnings.warn(\n"
     ]
    }
   ],
   "execution_count": 1
  },
  {
   "metadata": {
    "ExecuteTime": {
     "end_time": "2025-03-22T19:47:41.961135Z",
     "start_time": "2025-03-22T19:47:41.912265Z"
    }
   },
   "cell_type": "code",
   "source": [
    "data_dir = \"../../dataset/processed/v1/training\"\n",
    "val_data_dir = \"../../dataset/processed/v1/validation\"\n",
    "model_dir = \"../../models/CNN\"\n",
    "best_model_filename = \"cnn_best_model_v1.pth\"\n",
    "os.makedirs(model_dir, exist_ok=True)\n",
    "device = torch.device('cuda' if torch.cuda.is_available() else 'cpu')"
   ],
   "id": "e92aeb4c80819a74",
   "outputs": [],
   "execution_count": 2
  },
  {
   "metadata": {
    "ExecuteTime": {
     "end_time": "2025-03-22T19:47:42.940517Z",
     "start_time": "2025-03-22T19:47:42.834800Z"
    }
   },
   "cell_type": "code",
   "source": [
    "data_transforms = {\n",
    "    'train': transforms.Compose([\n",
    "        transforms.RandomHorizontalFlip(),\n",
    "        transforms.RandomRotation(10),\n",
    "        transforms.RandomResizedCrop((IMG_HEIGHT, IMG_WIDTH), scale=(0.9, 1.0)),\n",
    "        transforms.ToTensor(),\n",
    "    ]),\n",
    "    'val': transforms.Compose([\n",
    "        transforms.Resize((IMG_HEIGHT, IMG_WIDTH)),\n",
    "        transforms.ToTensor(),\n",
    "    ]),\n",
    "}\n",
    "\n",
    "train_dataset = datasets.ImageFolder(root=data_dir, transform=data_transforms['train'])\n",
    "val_dataset = datasets.ImageFolder(root=val_data_dir, transform=data_transforms['val'])\n",
    "\n",
    "train_loader = DataLoader(train_dataset, batch_size=BATCH_SIZE, shuffle=True, num_workers=4)\n",
    "val_loader = DataLoader(val_dataset, batch_size=BATCH_SIZE, shuffle=False, num_workers=4)"
   ],
   "id": "21dbcd45fcdd9743",
   "outputs": [],
   "execution_count": 3
  },
  {
   "metadata": {
    "ExecuteTime": {
     "end_time": "2025-03-22T19:47:43.232283Z",
     "start_time": "2025-03-22T19:47:42.958470Z"
    }
   },
   "cell_type": "code",
   "source": [
    "class CNNModel(nn.Module):\n",
    "    def __init__(self):\n",
    "        super(CNNModel, self).__init__()\n",
    "        self.conv1 = nn.Conv2d(3, 32, kernel_size=3, padding=1, bias=False)\n",
    "        self.pool1 = nn.MaxPool2d(2, 2)\n",
    "        self.dropout1 = nn.Dropout(0.25)\n",
    "        self.conv2 = nn.Conv2d(32, 64, kernel_size=3, padding=1)\n",
    "        self.pool2 = nn.MaxPool2d(2, 2)\n",
    "        self.conv3 = nn.Conv2d(64, 128, kernel_size=3, padding=1)\n",
    "        self.pool3 = nn.MaxPool2d(2, 2)\n",
    "        self.flatten = nn.Flatten()\n",
    "        self.fc1 = nn.Linear(128 * (IMG_HEIGHT // 8) * (IMG_WIDTH // 8), 256)\n",
    "        self.dropout2 = nn.Dropout(0.5)\n",
    "        self.fc2 = nn.Linear(256, 26)\n",
    "\n",
    "    def forward(self, x):\n",
    "        x = self.pool1(torch.relu(self.conv1(x)))\n",
    "        x = self.dropout1(x)\n",
    "        x = self.pool2(torch.relu(self.conv2(x)))\n",
    "        x = self.pool3(torch.relu(self.conv3(x)))\n",
    "        x = self.flatten(x)\n",
    "        x = torch.relu(self.fc1(x))\n",
    "        x = self.dropout2(x)\n",
    "        x = self.fc2(x)\n",
    "        return x\n",
    "\n",
    "model = CNNModel().to(device)"
   ],
   "id": "ab8373a59490c289",
   "outputs": [],
   "execution_count": 4
  },
  {
   "metadata": {
    "ExecuteTime": {
     "end_time": "2025-03-22T19:47:43.262205Z",
     "start_time": "2025-03-22T19:47:43.249238Z"
    }
   },
   "cell_type": "code",
   "source": [
    "criterion = nn.CrossEntropyLoss()\n",
    "optimizer = optim.Adam(model.parameters(), lr=0.0001)"
   ],
   "id": "304fd9574d988ca2",
   "outputs": [],
   "execution_count": 5
  },
  {
   "metadata": {
    "ExecuteTime": {
     "end_time": "2025-03-22T19:47:43.294117Z",
     "start_time": "2025-03-22T19:47:43.280157Z"
    }
   },
   "cell_type": "code",
   "source": [
    "def evaluate(model, data_loader, criterion, device):\n",
    "    model.eval()\n",
    "    total_loss = 0.0\n",
    "    correct = 0\n",
    "    total = 0\n",
    "    with torch.no_grad():\n",
    "        for inputs, labels in data_loader:\n",
    "            inputs, labels = inputs.to(device), labels.to(device)\n",
    "            outputs = model(inputs)\n",
    "            loss = criterion(outputs, labels)\n",
    "            total_loss += loss.item()\n",
    "            _, predicted = torch.max(outputs.data, 1)\n",
    "            total += labels.size(0)\n",
    "            correct += (predicted == labels).sum().item()\n",
    "    avg_loss = total_loss / len(data_loader)\n",
    "    accuracy = correct / total\n",
    "    return avg_loss, accuracy"
   ],
   "id": "80176e5c16ced4fe",
   "outputs": [],
   "execution_count": 6
  },
  {
   "metadata": {
    "ExecuteTime": {
     "end_time": "2025-03-22T22:44:16.968738Z",
     "start_time": "2025-03-22T19:47:43.311074Z"
    }
   },
   "cell_type": "code",
   "source": [
    "best_val_acc = 0.0\n",
    "best_val_loss = float('inf')\n",
    "patience = 20\n",
    "loss_no_improve = 0\n",
    "final_total_epochs = 1000\n",
    "history = {'loss': [], 'accuracy': [], 'val_loss': [], 'val_accuracy': []}\n",
    "\n",
    "for epoch in range(final_total_epochs):\n",
    "    model.train()\n",
    "    running_loss = 0.0\n",
    "    correct = 0\n",
    "    total = 0\n",
    "    for inputs, labels in train_loader:\n",
    "        inputs, labels = inputs.to(device), labels.to(device)\n",
    "        optimizer.zero_grad()\n",
    "        outputs = model(inputs)\n",
    "        loss = criterion(outputs, labels)\n",
    "        loss.backward()\n",
    "        optimizer.step()\n",
    "        running_loss += loss.item()\n",
    "        _, predicted = torch.max(outputs.data, 1)\n",
    "        total += labels.size(0)\n",
    "        correct += (predicted == labels).sum().item()\n",
    "\n",
    "    train_loss = running_loss / len(train_loader)\n",
    "    train_acc = correct / total\n",
    "    val_loss, val_acc = evaluate(model, val_loader, criterion, device)\n",
    "\n",
    "    history['loss'].append(train_loss)\n",
    "    history['accuracy'].append(train_acc)\n",
    "    history['val_loss'].append(val_loss)\n",
    "    history['val_accuracy'].append(val_acc)\n",
    "\n",
    "    print(f'Epoch {epoch+1}/{final_total_epochs}, Loss: {train_loss:.4f}, Accuracy: {train_acc:.4f}, '\n",
    "          f'Val Loss: {val_loss:.4f}, Val Acc: {val_acc:.4f}')\n",
    "\n",
    "    if val_acc > best_val_acc:\n",
    "        best_val_acc = val_acc\n",
    "        torch.save(model.state_dict(), os.path.join(model_dir, best_model_filename))\n",
    "        print('Model saved')\n",
    "\n",
    "    if val_loss < best_val_loss:\n",
    "        best_val_loss = val_loss\n",
    "        loss_no_improve = 0\n",
    "    else:\n",
    "        loss_no_improve += 1\n",
    "\n",
    "    if loss_no_improve >= patience:\n",
    "        print('Early stopping triggered')\n",
    "        break"
   ],
   "id": "568be545871a27ff",
   "outputs": [
    {
     "name": "stdout",
     "output_type": "stream",
     "text": [
      "Epoch 1/1000, Loss: 1.3798, Accuracy: 0.5998, Val Loss: 0.2820, Val Acc: 0.9363\n",
      "Model saved\n",
      "Epoch 2/1000, Loss: 0.5203, Accuracy: 0.8606, Val Loss: 0.1692, Val Acc: 0.9615\n",
      "Model saved\n",
      "Epoch 3/1000, Loss: 0.3865, Accuracy: 0.8991, Val Loss: 0.1339, Val Acc: 0.9655\n",
      "Model saved\n",
      "Epoch 4/1000, Loss: 0.3226, Accuracy: 0.9132, Val Loss: 0.1118, Val Acc: 0.9724\n",
      "Model saved\n",
      "Epoch 5/1000, Loss: 0.2930, Accuracy: 0.9234, Val Loss: 0.1020, Val Acc: 0.9777\n",
      "Model saved\n",
      "Epoch 6/1000, Loss: 0.2686, Accuracy: 0.9272, Val Loss: 0.0977, Val Acc: 0.9769\n",
      "Epoch 7/1000, Loss: 0.2474, Accuracy: 0.9359, Val Loss: 0.0950, Val Acc: 0.9757\n",
      "Epoch 8/1000, Loss: 0.2285, Accuracy: 0.9378, Val Loss: 0.0903, Val Acc: 0.9797\n",
      "Model saved\n",
      "Epoch 9/1000, Loss: 0.2138, Accuracy: 0.9423, Val Loss: 0.0839, Val Acc: 0.9801\n",
      "Model saved\n",
      "Epoch 10/1000, Loss: 0.2073, Accuracy: 0.9445, Val Loss: 0.0840, Val Acc: 0.9793\n",
      "Epoch 11/1000, Loss: 0.1978, Accuracy: 0.9476, Val Loss: 0.0877, Val Acc: 0.9777\n",
      "Epoch 12/1000, Loss: 0.1919, Accuracy: 0.9502, Val Loss: 0.0793, Val Acc: 0.9801\n",
      "Epoch 13/1000, Loss: 0.1806, Accuracy: 0.9515, Val Loss: 0.0810, Val Acc: 0.9813\n",
      "Model saved\n",
      "Epoch 14/1000, Loss: 0.1769, Accuracy: 0.9539, Val Loss: 0.0807, Val Acc: 0.9797\n",
      "Epoch 15/1000, Loss: 0.1701, Accuracy: 0.9550, Val Loss: 0.0750, Val Acc: 0.9838\n",
      "Model saved\n",
      "Epoch 16/1000, Loss: 0.1701, Accuracy: 0.9541, Val Loss: 0.0724, Val Acc: 0.9805\n",
      "Epoch 17/1000, Loss: 0.1677, Accuracy: 0.9547, Val Loss: 0.0718, Val Acc: 0.9801\n",
      "Epoch 18/1000, Loss: 0.1520, Accuracy: 0.9596, Val Loss: 0.0696, Val Acc: 0.9822\n",
      "Epoch 19/1000, Loss: 0.1502, Accuracy: 0.9589, Val Loss: 0.0735, Val Acc: 0.9834\n",
      "Epoch 20/1000, Loss: 0.1497, Accuracy: 0.9598, Val Loss: 0.0736, Val Acc: 0.9830\n",
      "Epoch 21/1000, Loss: 0.1411, Accuracy: 0.9609, Val Loss: 0.0709, Val Acc: 0.9842\n",
      "Model saved\n",
      "Epoch 22/1000, Loss: 0.1467, Accuracy: 0.9593, Val Loss: 0.0731, Val Acc: 0.9846\n",
      "Model saved\n",
      "Epoch 23/1000, Loss: 0.1393, Accuracy: 0.9613, Val Loss: 0.0702, Val Acc: 0.9846\n",
      "Epoch 24/1000, Loss: 0.1365, Accuracy: 0.9622, Val Loss: 0.0703, Val Acc: 0.9846\n",
      "Epoch 25/1000, Loss: 0.1256, Accuracy: 0.9663, Val Loss: 0.0673, Val Acc: 0.9846\n",
      "Epoch 26/1000, Loss: 0.1350, Accuracy: 0.9630, Val Loss: 0.0652, Val Acc: 0.9858\n",
      "Model saved\n",
      "Epoch 27/1000, Loss: 0.1240, Accuracy: 0.9665, Val Loss: 0.0716, Val Acc: 0.9830\n",
      "Epoch 28/1000, Loss: 0.1241, Accuracy: 0.9658, Val Loss: 0.0659, Val Acc: 0.9842\n",
      "Epoch 29/1000, Loss: 0.1241, Accuracy: 0.9665, Val Loss: 0.0633, Val Acc: 0.9842\n",
      "Epoch 30/1000, Loss: 0.1204, Accuracy: 0.9656, Val Loss: 0.0652, Val Acc: 0.9838\n",
      "Epoch 31/1000, Loss: 0.1156, Accuracy: 0.9671, Val Loss: 0.0673, Val Acc: 0.9870\n",
      "Model saved\n",
      "Epoch 32/1000, Loss: 0.1166, Accuracy: 0.9687, Val Loss: 0.0692, Val Acc: 0.9854\n",
      "Epoch 33/1000, Loss: 0.1132, Accuracy: 0.9689, Val Loss: 0.0617, Val Acc: 0.9866\n",
      "Epoch 34/1000, Loss: 0.1111, Accuracy: 0.9684, Val Loss: 0.0642, Val Acc: 0.9862\n",
      "Epoch 35/1000, Loss: 0.1069, Accuracy: 0.9687, Val Loss: 0.0656, Val Acc: 0.9850\n",
      "Epoch 36/1000, Loss: 0.1073, Accuracy: 0.9684, Val Loss: 0.0708, Val Acc: 0.9846\n",
      "Epoch 37/1000, Loss: 0.1053, Accuracy: 0.9714, Val Loss: 0.0659, Val Acc: 0.9858\n",
      "Epoch 38/1000, Loss: 0.0988, Accuracy: 0.9724, Val Loss: 0.0630, Val Acc: 0.9850\n",
      "Epoch 39/1000, Loss: 0.0963, Accuracy: 0.9728, Val Loss: 0.0629, Val Acc: 0.9870\n",
      "Epoch 40/1000, Loss: 0.0976, Accuracy: 0.9727, Val Loss: 0.0630, Val Acc: 0.9842\n",
      "Epoch 41/1000, Loss: 0.0944, Accuracy: 0.9718, Val Loss: 0.0640, Val Acc: 0.9870\n",
      "Epoch 42/1000, Loss: 0.0985, Accuracy: 0.9730, Val Loss: 0.0656, Val Acc: 0.9858\n",
      "Epoch 43/1000, Loss: 0.0938, Accuracy: 0.9732, Val Loss: 0.0637, Val Acc: 0.9858\n",
      "Epoch 44/1000, Loss: 0.0918, Accuracy: 0.9737, Val Loss: 0.0651, Val Acc: 0.9866\n",
      "Epoch 45/1000, Loss: 0.0871, Accuracy: 0.9751, Val Loss: 0.0666, Val Acc: 0.9858\n",
      "Epoch 46/1000, Loss: 0.0930, Accuracy: 0.9743, Val Loss: 0.0624, Val Acc: 0.9846\n",
      "Epoch 47/1000, Loss: 0.0892, Accuracy: 0.9725, Val Loss: 0.0648, Val Acc: 0.9858\n",
      "Epoch 48/1000, Loss: 0.0878, Accuracy: 0.9745, Val Loss: 0.0596, Val Acc: 0.9854\n",
      "Epoch 49/1000, Loss: 0.0872, Accuracy: 0.9739, Val Loss: 0.0589, Val Acc: 0.9874\n",
      "Model saved\n",
      "Epoch 50/1000, Loss: 0.0817, Accuracy: 0.9764, Val Loss: 0.0563, Val Acc: 0.9878\n",
      "Model saved\n",
      "Epoch 51/1000, Loss: 0.0788, Accuracy: 0.9776, Val Loss: 0.0574, Val Acc: 0.9878\n",
      "Epoch 52/1000, Loss: 0.0798, Accuracy: 0.9790, Val Loss: 0.0571, Val Acc: 0.9882\n",
      "Model saved\n",
      "Epoch 53/1000, Loss: 0.0821, Accuracy: 0.9773, Val Loss: 0.0546, Val Acc: 0.9878\n",
      "Epoch 54/1000, Loss: 0.0779, Accuracy: 0.9779, Val Loss: 0.0575, Val Acc: 0.9866\n",
      "Epoch 55/1000, Loss: 0.0781, Accuracy: 0.9769, Val Loss: 0.0584, Val Acc: 0.9866\n",
      "Epoch 56/1000, Loss: 0.0763, Accuracy: 0.9776, Val Loss: 0.0564, Val Acc: 0.9882\n",
      "Epoch 57/1000, Loss: 0.0699, Accuracy: 0.9794, Val Loss: 0.0551, Val Acc: 0.9895\n",
      "Model saved\n",
      "Epoch 58/1000, Loss: 0.0736, Accuracy: 0.9789, Val Loss: 0.0495, Val Acc: 0.9878\n",
      "Epoch 59/1000, Loss: 0.0711, Accuracy: 0.9794, Val Loss: 0.0589, Val Acc: 0.9870\n",
      "Epoch 60/1000, Loss: 0.0756, Accuracy: 0.9784, Val Loss: 0.0514, Val Acc: 0.9895\n",
      "Epoch 61/1000, Loss: 0.0687, Accuracy: 0.9800, Val Loss: 0.0508, Val Acc: 0.9886\n",
      "Epoch 62/1000, Loss: 0.0652, Accuracy: 0.9809, Val Loss: 0.0509, Val Acc: 0.9870\n",
      "Epoch 63/1000, Loss: 0.0696, Accuracy: 0.9800, Val Loss: 0.0549, Val Acc: 0.9878\n",
      "Epoch 64/1000, Loss: 0.0693, Accuracy: 0.9805, Val Loss: 0.0536, Val Acc: 0.9882\n",
      "Epoch 65/1000, Loss: 0.0677, Accuracy: 0.9805, Val Loss: 0.0503, Val Acc: 0.9895\n",
      "Epoch 66/1000, Loss: 0.0686, Accuracy: 0.9808, Val Loss: 0.0554, Val Acc: 0.9886\n",
      "Epoch 67/1000, Loss: 0.0629, Accuracy: 0.9822, Val Loss: 0.0549, Val Acc: 0.9878\n",
      "Epoch 68/1000, Loss: 0.0647, Accuracy: 0.9800, Val Loss: 0.0548, Val Acc: 0.9886\n",
      "Epoch 69/1000, Loss: 0.0643, Accuracy: 0.9812, Val Loss: 0.0545, Val Acc: 0.9890\n",
      "Epoch 70/1000, Loss: 0.0610, Accuracy: 0.9819, Val Loss: 0.0517, Val Acc: 0.9907\n",
      "Model saved\n",
      "Epoch 71/1000, Loss: 0.0651, Accuracy: 0.9808, Val Loss: 0.0499, Val Acc: 0.9907\n",
      "Epoch 72/1000, Loss: 0.0622, Accuracy: 0.9819, Val Loss: 0.0548, Val Acc: 0.9899\n",
      "Epoch 73/1000, Loss: 0.0583, Accuracy: 0.9824, Val Loss: 0.0511, Val Acc: 0.9907\n",
      "Epoch 74/1000, Loss: 0.0587, Accuracy: 0.9822, Val Loss: 0.0513, Val Acc: 0.9903\n",
      "Epoch 75/1000, Loss: 0.0616, Accuracy: 0.9815, Val Loss: 0.0484, Val Acc: 0.9907\n",
      "Epoch 76/1000, Loss: 0.0575, Accuracy: 0.9834, Val Loss: 0.0502, Val Acc: 0.9899\n",
      "Epoch 77/1000, Loss: 0.0551, Accuracy: 0.9841, Val Loss: 0.0563, Val Acc: 0.9895\n",
      "Epoch 78/1000, Loss: 0.0569, Accuracy: 0.9823, Val Loss: 0.0497, Val Acc: 0.9895\n",
      "Epoch 79/1000, Loss: 0.0525, Accuracy: 0.9844, Val Loss: 0.0499, Val Acc: 0.9899\n",
      "Epoch 80/1000, Loss: 0.0521, Accuracy: 0.9837, Val Loss: 0.0523, Val Acc: 0.9890\n",
      "Epoch 81/1000, Loss: 0.0607, Accuracy: 0.9828, Val Loss: 0.0555, Val Acc: 0.9882\n",
      "Epoch 82/1000, Loss: 0.0540, Accuracy: 0.9835, Val Loss: 0.0504, Val Acc: 0.9903\n",
      "Epoch 83/1000, Loss: 0.0497, Accuracy: 0.9846, Val Loss: 0.0522, Val Acc: 0.9890\n",
      "Epoch 84/1000, Loss: 0.0550, Accuracy: 0.9838, Val Loss: 0.0502, Val Acc: 0.9903\n",
      "Epoch 85/1000, Loss: 0.0508, Accuracy: 0.9836, Val Loss: 0.0507, Val Acc: 0.9882\n",
      "Epoch 86/1000, Loss: 0.0550, Accuracy: 0.9840, Val Loss: 0.0487, Val Acc: 0.9903\n",
      "Epoch 87/1000, Loss: 0.0516, Accuracy: 0.9846, Val Loss: 0.0497, Val Acc: 0.9882\n",
      "Epoch 88/1000, Loss: 0.0475, Accuracy: 0.9861, Val Loss: 0.0486, Val Acc: 0.9899\n",
      "Epoch 89/1000, Loss: 0.0481, Accuracy: 0.9861, Val Loss: 0.0558, Val Acc: 0.9878\n",
      "Epoch 90/1000, Loss: 0.0496, Accuracy: 0.9856, Val Loss: 0.0490, Val Acc: 0.9886\n",
      "Epoch 91/1000, Loss: 0.0479, Accuracy: 0.9855, Val Loss: 0.0485, Val Acc: 0.9886\n",
      "Epoch 92/1000, Loss: 0.0485, Accuracy: 0.9856, Val Loss: 0.0502, Val Acc: 0.9886\n",
      "Epoch 93/1000, Loss: 0.0477, Accuracy: 0.9861, Val Loss: 0.0522, Val Acc: 0.9903\n",
      "Epoch 94/1000, Loss: 0.0444, Accuracy: 0.9865, Val Loss: 0.0508, Val Acc: 0.9903\n",
      "Epoch 95/1000, Loss: 0.0462, Accuracy: 0.9859, Val Loss: 0.0489, Val Acc: 0.9903\n",
      "Early stopping triggered\n"
     ]
    }
   ],
   "execution_count": 7
  },
  {
   "metadata": {
    "ExecuteTime": {
     "end_time": "2025-03-22T22:44:17.167566Z",
     "start_time": "2025-03-22T22:44:17.153603Z"
    }
   },
   "cell_type": "code",
   "source": "print(f\"Mô hình tốt nhất đã được lưu tại: {os.path.join(model_dir, best_model_filename)}\")",
   "id": "332df4b24613a8e0",
   "outputs": [
    {
     "name": "stdout",
     "output_type": "stream",
     "text": [
      "Mô hình tốt nhất đã được lưu tại: ../../models/CNN\\cnn_best_model_v1.pth\n"
     ]
    }
   ],
   "execution_count": 8
  },
  {
   "metadata": {
    "ExecuteTime": {
     "end_time": "2025-03-22T22:44:17.506659Z",
     "start_time": "2025-03-22T22:44:17.216435Z"
    }
   },
   "cell_type": "code",
   "source": [
    "plt.figure(figsize=(12, 4))\n",
    "plt.subplot(1, 2, 1)\n",
    "plt.plot(history['accuracy'], label='Train Accuracy')\n",
    "plt.plot(history['val_accuracy'], label='Validation Accuracy')\n",
    "plt.title('Model Accuracy')\n",
    "plt.xlabel('Epoch')\n",
    "plt.ylabel('Accuracy')\n",
    "plt.legend()\n",
    "\n",
    "plt.subplot(1, 2, 2)\n",
    "plt.plot(history['loss'], label='Train Loss')\n",
    "plt.plot(history['val_loss'], label='Validation Loss')\n",
    "plt.title('Model Loss')\n",
    "plt.xlabel('Epoch')\n",
    "plt.ylabel('Loss')\n",
    "plt.legend()\n",
    "\n",
    "plt.show()"
   ],
   "id": "c1697e8487f3c47c",
   "outputs": [
    {
     "data": {
      "text/plain": [
       "<Figure size 1200x400 with 2 Axes>"
      ],
      "image/png": "[encoded data removed]"
     },
     "metadata": {},
     "output_type": "display_data"
    }
   ],
   "execution_count": 9
  },
  {
   "metadata": {
    "ExecuteTime": {
     "end_time": "2025-03-22T22:44:17.522616Z",
     "start_time": "2025-03-22T22:44:17.512642Z"
    }
   },
   "cell_type": "code",
   "source": "print(f\"Mô hình tốt nhất đã được lưu tại: {os.path.join(model_dir, best_model_filename)}\")",
   "id": "6a1dcff7712affe8",
   "outputs": [
    {
     "name": "stdout",
     "output_type": "stream",
     "text": [
      "Mô hình tốt nhất đã được lưu tại: ../../models/CNN\\cnn_best_model_v1.pth\n"
     ]
    }
   ],
   "execution_count": 10
  }
 ],
 "metadata": {
  "kernelspec": {
   "display_name": "Python 3",
   "language": "python",
   "name": "python3"
  },
  "language_info": {
   "codemirror_mode": {
    "name": "ipython",
    "version": 2
   },
   "file_extension": ".py",
   "mimetype": "text/x-python",
   "name": "python",
   "nbconvert_exporter": "python",
   "pygments_lexer": "ipython2",
   "version": "2.7.6"
  }
 },
 "nbformat": 4,
 "nbformat_minor": 5
}
