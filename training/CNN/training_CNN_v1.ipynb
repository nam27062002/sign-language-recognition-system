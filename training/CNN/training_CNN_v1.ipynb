{
 "cells": [
  {
   "cell_type": "code",
   "id": "initial_id",
   "metadata": {
    "collapsed": true,
    "ExecuteTime": {
     "end_time": "2025-03-14T10:45:44.414237Z",
     "start_time": "2025-03-14T10:45:39.896431Z"
    }
   },
   "source": [
    "import os\n",
    "import tensorflow as tf\n",
    "from tensorflow.keras.regularizers import L2\n",
    "from tensorflow.keras.models import Sequential\n",
    "from tensorflow.keras.layers import Input, Dense, Conv2D, MaxPooling2D, Flatten, Dropout\n",
    "from tensorflow.keras.optimizers import Adam\n",
    "from tensorflow.keras.callbacks import EarlyStopping, ModelCheckpoint\n",
    "from setting.setting import *"
   ],
   "outputs": [],
   "execution_count": 1
  },
  {
   "metadata": {
    "ExecuteTime": {
     "end_time": "2025-03-14T10:45:44.445668Z",
     "start_time": "2025-03-14T10:45:44.432703Z"
    }
   },
   "cell_type": "code",
   "source": [
    "data_dir = \"../../dataset/processed/v1/training\"\n",
    "val_data_dir = \"../../dataset/processed/v1/validation\"\n",
    "model_dir = \"../../models/CNN\"\n",
    "best_model_filename = \"cnn_best_model_v1.keras\""
   ],
   "id": "e92aeb4c80819a74",
   "outputs": [],
   "execution_count": 2
  },
  {
   "metadata": {
    "ExecuteTime": {
     "end_time": "2025-03-14T10:45:47.357684Z",
     "start_time": "2025-03-14T10:45:44.455641Z"
    }
   },
   "cell_type": "code",
   "source": [
    "train_ds = tf.keras.preprocessing.image_dataset_from_directory(\n",
    "    data_dir,\n",
    "    image_size=(IMG_HEIGHT, IMG_WIDTH),\n",
    "    batch_size=BATCH_SIZE,\n",
    "    label_mode='categorical'\n",
    ").map(lambda x, y: (x / 255.0, y))\n",
    "\n",
    "val_ds = tf.keras.preprocessing.image_dataset_from_directory(\n",
    "    val_data_dir,\n",
    "    image_size=(IMG_HEIGHT, IMG_WIDTH),\n",
    "    batch_size=BATCH_SIZE,\n",
    "    label_mode='categorical'\n",
    ").map(lambda x, y: (x / 255.0, y))"
   ],
   "id": "21dbcd45fcdd9743",
   "outputs": [
    {
     "name": "stdout",
     "output_type": "stream",
     "text": [
      "Found 21945 files belonging to 26 classes.\n",
      "Found 2465 files belonging to 26 classes.\n"
     ]
    }
   ],
   "execution_count": 3
  },
  {
   "metadata": {
    "ExecuteTime": {
     "end_time": "2025-03-14T10:45:48.330145Z",
     "start_time": "2025-03-14T10:45:48.300223Z"
    }
   },
   "cell_type": "code",
   "source": [
    "data_augmentation = tf.keras.Sequential([\n",
    "    tf.keras.layers.RandomFlip(\"horizontal\"),\n",
    "    tf.keras.layers.RandomZoom(0.1),\n",
    "    tf.keras.layers.RandomRotation(0.1),\n",
    "])"
   ],
   "id": "ab8373a59490c289",
   "outputs": [],
   "execution_count": 4
  },
  {
   "metadata": {
    "ExecuteTime": {
     "end_time": "2025-03-14T10:45:50.126166Z",
     "start_time": "2025-03-14T10:45:48.377210Z"
    }
   },
   "cell_type": "code",
   "source": [
    "train_ds = train_ds.map(lambda x, y: (data_augmentation(x, training=True), y), num_parallel_calls=tf.data.AUTOTUNE)\n",
    "train_ds = train_ds.prefetch(tf.data.AUTOTUNE)\n",
    "val_ds = val_ds.prefetch(tf.data.AUTOTUNE)"
   ],
   "id": "304fd9574d988ca2",
   "outputs": [
    {
     "name": "stdout",
     "output_type": "stream",
     "text": [
      "WARNING:tensorflow:Using a while_loop for converting RngReadAndSkip cause there is no registered converter for this op.\n",
      "WARNING:tensorflow:Using a while_loop for converting Bitcast cause there is no registered converter for this op.\n",
      "WARNING:tensorflow:Using a while_loop for converting Bitcast cause there is no registered converter for this op.\n",
      "WARNING:tensorflow:Using a while_loop for converting StatelessRandomUniformV2 cause there is no registered converter for this op.\n",
      "WARNING:tensorflow:Using a while_loop for converting ImageProjectiveTransformV3 cause there is no registered converter for this op.\n",
      "WARNING:tensorflow:Using a while_loop for converting RngReadAndSkip cause there is no registered converter for this op.\n",
      "WARNING:tensorflow:Using a while_loop for converting Bitcast cause there is no registered converter for this op.\n",
      "WARNING:tensorflow:Using a while_loop for converting Bitcast cause there is no registered converter for this op.\n",
      "WARNING:tensorflow:Using a while_loop for converting StatelessRandomUniformV2 cause there is no registered converter for this op.\n",
      "WARNING:tensorflow:Using a while_loop for converting ImageProjectiveTransformV3 cause there is no registered converter for this op.\n",
      "WARNING:tensorflow:Using a while_loop for converting RngReadAndSkip cause there is no registered converter for this op.\n",
      "WARNING:tensorflow:Using a while_loop for converting Bitcast cause there is no registered converter for this op.\n",
      "WARNING:tensorflow:Using a while_loop for converting Bitcast cause there is no registered converter for this op.\n",
      "WARNING:tensorflow:Using a while_loop for converting StatelessRandomUniformV2 cause there is no registered converter for this op.\n",
      "WARNING:tensorflow:Using a while_loop for converting ImageProjectiveTransformV3 cause there is no registered converter for this op.\n",
      "WARNING:tensorflow:Using a while_loop for converting RngReadAndSkip cause there is no registered converter for this op.\n",
      "WARNING:tensorflow:Using a while_loop for converting Bitcast cause there is no registered converter for this op.\n",
      "WARNING:tensorflow:Using a while_loop for converting Bitcast cause there is no registered converter for this op.\n",
      "WARNING:tensorflow:Using a while_loop for converting StatelessRandomUniformV2 cause there is no registered converter for this op.\n",
      "WARNING:tensorflow:Using a while_loop for converting ImageProjectiveTransformV3 cause there is no registered converter for this op.\n"
     ]
    }
   ],
   "execution_count": 5
  },
  {
   "metadata": {
    "ExecuteTime": {
     "end_time": "2025-03-14T10:45:50.233880Z",
     "start_time": "2025-03-14T10:45:50.132151Z"
    }
   },
   "cell_type": "code",
   "source": [
    "model = Sequential([\n",
    "    Input(shape=(IMG_HEIGHT, IMG_WIDTH, 3)),\n",
    "    Conv2D(32, (3, 3), activation='relu', kernel_regularizer=L2(0.001)),\n",
    "    MaxPooling2D(2, 2),\n",
    "    Dropout(0.25),\n",
    "    Conv2D(64, (3, 3), activation='relu'),\n",
    "    MaxPooling2D(2, 2),\n",
    "    Conv2D(128, (3, 3), activation='relu'),\n",
    "    MaxPooling2D(2, 2),\n",
    "    Flatten(),\n",
    "    Dense(256, activation='relu'),\n",
    "    Dropout(0.5),\n",
    "    Dense(26, activation='softmax')\n",
    "])"
   ],
   "id": "80176e5c16ced4fe",
   "outputs": [],
   "execution_count": 6
  },
  {
   "metadata": {
    "ExecuteTime": {
     "end_time": "2025-03-14T10:45:50.280752Z",
     "start_time": "2025-03-14T10:45:50.251831Z"
    }
   },
   "cell_type": "code",
   "source": [
    "model.compile(\n",
    "    optimizer=Adam(learning_rate=0.0001),\n",
    "    loss='categorical_crossentropy',\n",
    "    metrics=['accuracy']\n",
    ")"
   ],
   "id": "568be545871a27ff",
   "outputs": [],
   "execution_count": 7
  },
  {
   "metadata": {
    "ExecuteTime": {
     "end_time": "2025-03-14T10:45:50.311669Z",
     "start_time": "2025-03-14T10:45:50.297708Z"
    }
   },
   "cell_type": "code",
   "source": [
    "early_stopping = EarlyStopping(\n",
    "    monitor='val_loss',\n",
    "    patience=20,\n",
    "    mode='min',\n",
    "    verbose=1\n",
    ")\n",
    "\n",
    "checkpoint = ModelCheckpoint(\n",
    "    os.path.join(model_dir, best_model_filename),\n",
    "    monitor='val_accuracy',\n",
    "    save_best_only=True,\n",
    "    mode='max',\n",
    "    verbose=1\n",
    ")"
   ],
   "id": "332df4b24613a8e0",
   "outputs": [],
   "execution_count": 8
  },
  {
   "metadata": {
    "ExecuteTime": {
     "end_time": "2025-03-14T12:08:55.281345Z",
     "start_time": "2025-03-14T10:45:50.328624Z"
    }
   },
   "cell_type": "code",
   "source": [
    "final_total_epochs = 1000\n",
    "history = model.fit(\n",
    "    train_ds,\n",
    "    validation_data=val_ds,\n",
    "    epochs=final_total_epochs,\n",
    "    callbacks=[early_stopping, checkpoint],\n",
    "    verbose=1\n",
    ")"
   ],
   "id": "c1697e8487f3c47c",
   "outputs": [
    {
     "name": "stdout",
     "output_type": "stream",
     "text": [
      "Epoch 1/1000\n",
      "343/343 [==============================] - ETA: 0s - loss: 1.8069 - accuracy: 0.4663\n",
      "Epoch 1: val_accuracy improved from -inf to 0.86207, saving model to ../../models/CNN\\cnn_best_model_v1.keras\n",
      "343/343 [==============================] - 103s 254ms/step - loss: 1.8069 - accuracy: 0.4663 - val_loss: 0.6169 - val_accuracy: 0.8621\n",
      "Epoch 2/1000\n",
      "343/343 [==============================] - ETA: 0s - loss: 0.8698 - accuracy: 0.7521\n",
      "Epoch 2: val_accuracy improved from 0.86207 to 0.91765, saving model to ../../models/CNN\\cnn_best_model_v1.keras\n",
      "343/343 [==============================] - 53s 151ms/step - loss: 0.8698 - accuracy: 0.7521 - val_loss: 0.3672 - val_accuracy: 0.9176\n",
      "Epoch 3/1000\n",
      "343/343 [==============================] - ETA: 0s - loss: 0.6862 - accuracy: 0.8103\n",
      "Epoch 3: val_accuracy improved from 0.91765 to 0.93347, saving model to ../../models/CNN\\cnn_best_model_v1.keras\n",
      "343/343 [==============================] - 50s 144ms/step - loss: 0.6862 - accuracy: 0.8103 - val_loss: 0.2920 - val_accuracy: 0.9335\n",
      "Epoch 4/1000\n",
      "343/343 [==============================] - ETA: 0s - loss: 0.5761 - accuracy: 0.8415\n",
      "Epoch 4: val_accuracy improved from 0.93347 to 0.93955, saving model to ../../models/CNN\\cnn_best_model_v1.keras\n",
      "343/343 [==============================] - 47s 134ms/step - loss: 0.5761 - accuracy: 0.8415 - val_loss: 0.2661 - val_accuracy: 0.9396\n",
      "Epoch 5/1000\n",
      "343/343 [==============================] - ETA: 0s - loss: 0.5175 - accuracy: 0.8608\n",
      "Epoch 5: val_accuracy improved from 0.93955 to 0.94686, saving model to ../../models/CNN\\cnn_best_model_v1.keras\n",
      "343/343 [==============================] - 47s 133ms/step - loss: 0.5175 - accuracy: 0.8608 - val_loss: 0.2350 - val_accuracy: 0.9469\n",
      "Epoch 6/1000\n",
      "343/343 [==============================] - ETA: 0s - loss: 0.4700 - accuracy: 0.8722\n",
      "Epoch 6: val_accuracy improved from 0.94686 to 0.95132, saving model to ../../models/CNN\\cnn_best_model_v1.keras\n",
      "343/343 [==============================] - 48s 137ms/step - loss: 0.4700 - accuracy: 0.8722 - val_loss: 0.2082 - val_accuracy: 0.9513\n",
      "Epoch 7/1000\n",
      "343/343 [==============================] - ETA: 0s - loss: 0.4270 - accuracy: 0.8864\n",
      "Epoch 7: val_accuracy improved from 0.95132 to 0.95578, saving model to ../../models/CNN\\cnn_best_model_v1.keras\n",
      "343/343 [==============================] - 51s 146ms/step - loss: 0.4270 - accuracy: 0.8864 - val_loss: 0.1888 - val_accuracy: 0.9558\n",
      "Epoch 8/1000\n",
      "343/343 [==============================] - ETA: 0s - loss: 0.3993 - accuracy: 0.8921\n",
      "Epoch 8: val_accuracy did not improve from 0.95578\n",
      "343/343 [==============================] - 49s 141ms/step - loss: 0.3993 - accuracy: 0.8921 - val_loss: 0.1893 - val_accuracy: 0.9529\n",
      "Epoch 9/1000\n",
      "343/343 [==============================] - ETA: 0s - loss: 0.3764 - accuracy: 0.8977\n",
      "Epoch 9: val_accuracy improved from 0.95578 to 0.95862, saving model to ../../models/CNN\\cnn_best_model_v1.keras\n",
      "343/343 [==============================] - 49s 140ms/step - loss: 0.3764 - accuracy: 0.8977 - val_loss: 0.1822 - val_accuracy: 0.9586\n",
      "Epoch 10/1000\n",
      "343/343 [==============================] - ETA: 0s - loss: 0.3495 - accuracy: 0.9059\n",
      "Epoch 10: val_accuracy improved from 0.95862 to 0.96105, saving model to ../../models/CNN\\cnn_best_model_v1.keras\n",
      "343/343 [==============================] - 58s 166ms/step - loss: 0.3495 - accuracy: 0.9059 - val_loss: 0.1661 - val_accuracy: 0.9611\n",
      "Epoch 11/1000\n",
      "343/343 [==============================] - ETA: 0s - loss: 0.3369 - accuracy: 0.9076\n",
      "Epoch 11: val_accuracy did not improve from 0.96105\n",
      "343/343 [==============================] - 72s 204ms/step - loss: 0.3369 - accuracy: 0.9076 - val_loss: 0.1611 - val_accuracy: 0.9590\n",
      "Epoch 12/1000\n",
      "343/343 [==============================] - ETA: 0s - loss: 0.3174 - accuracy: 0.9152\n",
      "Epoch 12: val_accuracy improved from 0.96105 to 0.96227, saving model to ../../models/CNN\\cnn_best_model_v1.keras\n",
      "343/343 [==============================] - 55s 158ms/step - loss: 0.3174 - accuracy: 0.9152 - val_loss: 0.1505 - val_accuracy: 0.9623\n",
      "Epoch 13/1000\n",
      "343/343 [==============================] - ETA: 0s - loss: 0.3001 - accuracy: 0.9181\n",
      "Epoch 13: val_accuracy improved from 0.96227 to 0.96755, saving model to ../../models/CNN\\cnn_best_model_v1.keras\n",
      "343/343 [==============================] - 57s 162ms/step - loss: 0.3001 - accuracy: 0.9181 - val_loss: 0.1371 - val_accuracy: 0.9675\n",
      "Epoch 14/1000\n",
      "343/343 [==============================] - ETA: 0s - loss: 0.2946 - accuracy: 0.9196\n",
      "Epoch 14: val_accuracy did not improve from 0.96755\n",
      "343/343 [==============================] - 55s 157ms/step - loss: 0.2946 - accuracy: 0.9196 - val_loss: 0.1366 - val_accuracy: 0.9667\n",
      "Epoch 15/1000\n",
      "343/343 [==============================] - ETA: 0s - loss: 0.2774 - accuracy: 0.9248\n",
      "Epoch 15: val_accuracy did not improve from 0.96755\n",
      "343/343 [==============================] - 58s 167ms/step - loss: 0.2774 - accuracy: 0.9248 - val_loss: 0.1392 - val_accuracy: 0.9655\n",
      "Epoch 16/1000\n",
      "343/343 [==============================] - ETA: 0s - loss: 0.2694 - accuracy: 0.9282\n",
      "Epoch 16: val_accuracy improved from 0.96755 to 0.96917, saving model to ../../models/CNN\\cnn_best_model_v1.keras\n",
      "343/343 [==============================] - 55s 157ms/step - loss: 0.2694 - accuracy: 0.9282 - val_loss: 0.1327 - val_accuracy: 0.9692\n",
      "Epoch 17/1000\n",
      "343/343 [==============================] - ETA: 0s - loss: 0.2570 - accuracy: 0.9296\n",
      "Epoch 17: val_accuracy did not improve from 0.96917\n",
      "343/343 [==============================] - 57s 161ms/step - loss: 0.2570 - accuracy: 0.9296 - val_loss: 0.1287 - val_accuracy: 0.9675\n",
      "Epoch 18/1000\n",
      "343/343 [==============================] - ETA: 0s - loss: 0.2534 - accuracy: 0.9329\n",
      "Epoch 18: val_accuracy did not improve from 0.96917\n",
      "343/343 [==============================] - 59s 166ms/step - loss: 0.2534 - accuracy: 0.9329 - val_loss: 0.1277 - val_accuracy: 0.9680\n",
      "Epoch 19/1000\n",
      "343/343 [==============================] - ETA: 0s - loss: 0.2430 - accuracy: 0.9338\n",
      "Epoch 19: val_accuracy improved from 0.96917 to 0.97282, saving model to ../../models/CNN\\cnn_best_model_v1.keras\n",
      "343/343 [==============================] - 66s 189ms/step - loss: 0.2430 - accuracy: 0.9338 - val_loss: 0.1191 - val_accuracy: 0.9728\n",
      "Epoch 20/1000\n",
      "343/343 [==============================] - ETA: 0s - loss: 0.2303 - accuracy: 0.9385\n",
      "Epoch 20: val_accuracy did not improve from 0.97282\n",
      "343/343 [==============================] - 102s 294ms/step - loss: 0.2303 - accuracy: 0.9385 - val_loss: 0.1187 - val_accuracy: 0.9724\n",
      "Epoch 21/1000\n",
      "343/343 [==============================] - ETA: 0s - loss: 0.2222 - accuracy: 0.9414\n",
      "Epoch 21: val_accuracy did not improve from 0.97282\n",
      "343/343 [==============================] - 84s 243ms/step - loss: 0.2222 - accuracy: 0.9414 - val_loss: 0.1138 - val_accuracy: 0.9724\n",
      "Epoch 22/1000\n",
      "343/343 [==============================] - ETA: 0s - loss: 0.2131 - accuracy: 0.9430\n",
      "Epoch 22: val_accuracy did not improve from 0.97282\n",
      "343/343 [==============================] - 65s 186ms/step - loss: 0.2131 - accuracy: 0.9430 - val_loss: 0.1168 - val_accuracy: 0.9700\n",
      "Epoch 23/1000\n",
      "343/343 [==============================] - ETA: 0s - loss: 0.2101 - accuracy: 0.9434\n",
      "Epoch 23: val_accuracy did not improve from 0.97282\n",
      "343/343 [==============================] - 76s 218ms/step - loss: 0.2101 - accuracy: 0.9434 - val_loss: 0.1204 - val_accuracy: 0.9675\n",
      "Epoch 24/1000\n",
      "343/343 [==============================] - ETA: 0s - loss: 0.2053 - accuracy: 0.9450\n",
      "Epoch 24: val_accuracy did not improve from 0.97282\n",
      "343/343 [==============================] - 113s 325ms/step - loss: 0.2053 - accuracy: 0.9450 - val_loss: 0.1085 - val_accuracy: 0.9708\n",
      "Epoch 25/1000\n",
      "343/343 [==============================] - ETA: 0s - loss: 0.2001 - accuracy: 0.9440\n",
      "Epoch 25: val_accuracy improved from 0.97282 to 0.97444, saving model to ../../models/CNN\\cnn_best_model_v1.keras\n",
      "343/343 [==============================] - 74s 213ms/step - loss: 0.2001 - accuracy: 0.9440 - val_loss: 0.1091 - val_accuracy: 0.9744\n",
      "Epoch 26/1000\n",
      "343/343 [==============================] - ETA: 0s - loss: 0.1936 - accuracy: 0.9486\n",
      "Epoch 26: val_accuracy did not improve from 0.97444\n",
      "343/343 [==============================] - 54s 155ms/step - loss: 0.1936 - accuracy: 0.9486 - val_loss: 0.1117 - val_accuracy: 0.9716\n",
      "Epoch 27/1000\n",
      "343/343 [==============================] - ETA: 0s - loss: 0.1858 - accuracy: 0.9507\n",
      "Epoch 27: val_accuracy did not improve from 0.97444\n",
      "343/343 [==============================] - 54s 153ms/step - loss: 0.1858 - accuracy: 0.9507 - val_loss: 0.1108 - val_accuracy: 0.9740\n",
      "Epoch 28/1000\n",
      "343/343 [==============================] - ETA: 0s - loss: 0.1810 - accuracy: 0.9512\n",
      "Epoch 28: val_accuracy improved from 0.97444 to 0.97485, saving model to ../../models/CNN\\cnn_best_model_v1.keras\n",
      "343/343 [==============================] - 56s 159ms/step - loss: 0.1810 - accuracy: 0.9512 - val_loss: 0.1053 - val_accuracy: 0.9748\n",
      "Epoch 29/1000\n",
      "343/343 [==============================] - ETA: 0s - loss: 0.1784 - accuracy: 0.9515\n",
      "Epoch 29: val_accuracy improved from 0.97485 to 0.97688, saving model to ../../models/CNN\\cnn_best_model_v1.keras\n",
      "343/343 [==============================] - 53s 152ms/step - loss: 0.1784 - accuracy: 0.9515 - val_loss: 0.0994 - val_accuracy: 0.9769\n",
      "Epoch 30/1000\n",
      "343/343 [==============================] - ETA: 0s - loss: 0.1765 - accuracy: 0.9520\n",
      "Epoch 30: val_accuracy did not improve from 0.97688\n",
      "343/343 [==============================] - 51s 145ms/step - loss: 0.1765 - accuracy: 0.9520 - val_loss: 0.0977 - val_accuracy: 0.9724\n",
      "Epoch 31/1000\n",
      "343/343 [==============================] - ETA: 0s - loss: 0.1702 - accuracy: 0.9538\n",
      "Epoch 31: val_accuracy did not improve from 0.97688\n",
      "343/343 [==============================] - 50s 142ms/step - loss: 0.1702 - accuracy: 0.9538 - val_loss: 0.0947 - val_accuracy: 0.9765\n",
      "Epoch 32/1000\n",
      "343/343 [==============================] - ETA: 0s - loss: 0.1653 - accuracy: 0.9535\n",
      "Epoch 32: val_accuracy did not improve from 0.97688\n",
      "343/343 [==============================] - 49s 140ms/step - loss: 0.1653 - accuracy: 0.9535 - val_loss: 0.0980 - val_accuracy: 0.9765\n",
      "Epoch 33/1000\n",
      "343/343 [==============================] - ETA: 0s - loss: 0.1583 - accuracy: 0.9562\n",
      "Epoch 33: val_accuracy did not improve from 0.97688\n",
      "343/343 [==============================] - 49s 140ms/step - loss: 0.1583 - accuracy: 0.9562 - val_loss: 0.0966 - val_accuracy: 0.9744\n",
      "Epoch 34/1000\n",
      "343/343 [==============================] - ETA: 0s - loss: 0.1609 - accuracy: 0.9565\n",
      "Epoch 34: val_accuracy did not improve from 0.97688\n",
      "343/343 [==============================] - 49s 139ms/step - loss: 0.1609 - accuracy: 0.9565 - val_loss: 0.0965 - val_accuracy: 0.9765\n",
      "Epoch 35/1000\n",
      "343/343 [==============================] - ETA: 0s - loss: 0.1564 - accuracy: 0.9575\n",
      "Epoch 35: val_accuracy did not improve from 0.97688\n",
      "343/343 [==============================] - 50s 143ms/step - loss: 0.1564 - accuracy: 0.9575 - val_loss: 0.0938 - val_accuracy: 0.9761\n",
      "Epoch 36/1000\n",
      "343/343 [==============================] - ETA: 0s - loss: 0.1521 - accuracy: 0.9576\n",
      "Epoch 36: val_accuracy did not improve from 0.97688\n",
      "343/343 [==============================] - 49s 141ms/step - loss: 0.1521 - accuracy: 0.9576 - val_loss: 0.0913 - val_accuracy: 0.9761\n",
      "Epoch 37/1000\n",
      "343/343 [==============================] - ETA: 0s - loss: 0.1466 - accuracy: 0.9604\n",
      "Epoch 37: val_accuracy improved from 0.97688 to 0.97728, saving model to ../../models/CNN\\cnn_best_model_v1.keras\n",
      "343/343 [==============================] - 49s 140ms/step - loss: 0.1466 - accuracy: 0.9604 - val_loss: 0.0920 - val_accuracy: 0.9773\n",
      "Epoch 38/1000\n",
      "343/343 [==============================] - ETA: 0s - loss: 0.1474 - accuracy: 0.9620\n",
      "Epoch 38: val_accuracy improved from 0.97728 to 0.97850, saving model to ../../models/CNN\\cnn_best_model_v1.keras\n",
      "343/343 [==============================] - 51s 146ms/step - loss: 0.1474 - accuracy: 0.9620 - val_loss: 0.0895 - val_accuracy: 0.9785\n",
      "Epoch 39/1000\n",
      "343/343 [==============================] - ETA: 0s - loss: 0.1362 - accuracy: 0.9624\n",
      "Epoch 39: val_accuracy did not improve from 0.97850\n",
      "343/343 [==============================] - 49s 140ms/step - loss: 0.1362 - accuracy: 0.9624 - val_loss: 0.0872 - val_accuracy: 0.9777\n",
      "Epoch 40/1000\n",
      "343/343 [==============================] - ETA: 0s - loss: 0.1310 - accuracy: 0.9640\n",
      "Epoch 40: val_accuracy improved from 0.97850 to 0.97931, saving model to ../../models/CNN\\cnn_best_model_v1.keras\n",
      "343/343 [==============================] - 50s 144ms/step - loss: 0.1310 - accuracy: 0.9640 - val_loss: 0.0863 - val_accuracy: 0.9793\n",
      "Epoch 41/1000\n",
      "343/343 [==============================] - ETA: 0s - loss: 0.1303 - accuracy: 0.9634\n",
      "Epoch 41: val_accuracy did not improve from 0.97931\n",
      "343/343 [==============================] - 50s 143ms/step - loss: 0.1303 - accuracy: 0.9634 - val_loss: 0.0832 - val_accuracy: 0.9785\n",
      "Epoch 42/1000\n",
      "343/343 [==============================] - ETA: 0s - loss: 0.1337 - accuracy: 0.9634\n",
      "Epoch 42: val_accuracy did not improve from 0.97931\n",
      "343/343 [==============================] - 49s 142ms/step - loss: 0.1337 - accuracy: 0.9634 - val_loss: 0.0834 - val_accuracy: 0.9785\n",
      "Epoch 43/1000\n",
      "343/343 [==============================] - ETA: 0s - loss: 0.1249 - accuracy: 0.9641\n",
      "Epoch 43: val_accuracy did not improve from 0.97931\n",
      "343/343 [==============================] - 49s 141ms/step - loss: 0.1249 - accuracy: 0.9641 - val_loss: 0.0840 - val_accuracy: 0.9777\n",
      "Epoch 44/1000\n",
      "343/343 [==============================] - ETA: 0s - loss: 0.1261 - accuracy: 0.9652\n",
      "Epoch 44: val_accuracy did not improve from 0.97931\n",
      "343/343 [==============================] - 50s 143ms/step - loss: 0.1261 - accuracy: 0.9652 - val_loss: 0.0834 - val_accuracy: 0.9785\n",
      "Epoch 45/1000\n",
      "343/343 [==============================] - ETA: 0s - loss: 0.1178 - accuracy: 0.9669\n",
      "Epoch 45: val_accuracy improved from 0.97931 to 0.98134, saving model to ../../models/CNN\\cnn_best_model_v1.keras\n",
      "343/343 [==============================] - 50s 143ms/step - loss: 0.1178 - accuracy: 0.9669 - val_loss: 0.0803 - val_accuracy: 0.9813\n",
      "Epoch 46/1000\n",
      "343/343 [==============================] - ETA: 0s - loss: 0.1205 - accuracy: 0.9668\n",
      "Epoch 46: val_accuracy did not improve from 0.98134\n",
      "343/343 [==============================] - 50s 142ms/step - loss: 0.1205 - accuracy: 0.9668 - val_loss: 0.0753 - val_accuracy: 0.9805\n",
      "Epoch 47/1000\n",
      "343/343 [==============================] - ETA: 0s - loss: 0.1139 - accuracy: 0.9687\n",
      "Epoch 47: val_accuracy did not improve from 0.98134\n",
      "343/343 [==============================] - 49s 142ms/step - loss: 0.1139 - accuracy: 0.9687 - val_loss: 0.0830 - val_accuracy: 0.9781\n",
      "Epoch 48/1000\n",
      "343/343 [==============================] - ETA: 0s - loss: 0.1192 - accuracy: 0.9680\n",
      "Epoch 48: val_accuracy did not improve from 0.98134\n",
      "343/343 [==============================] - 50s 142ms/step - loss: 0.1192 - accuracy: 0.9680 - val_loss: 0.0781 - val_accuracy: 0.9789\n",
      "Epoch 49/1000\n",
      "343/343 [==============================] - ETA: 0s - loss: 0.1089 - accuracy: 0.9691\n",
      "Epoch 49: val_accuracy did not improve from 0.98134\n",
      "343/343 [==============================] - 49s 141ms/step - loss: 0.1089 - accuracy: 0.9691 - val_loss: 0.0797 - val_accuracy: 0.9797\n",
      "Epoch 50/1000\n",
      "343/343 [==============================] - ETA: 0s - loss: 0.1052 - accuracy: 0.9705\n",
      "Epoch 50: val_accuracy did not improve from 0.98134\n",
      "343/343 [==============================] - 49s 141ms/step - loss: 0.1052 - accuracy: 0.9705 - val_loss: 0.0776 - val_accuracy: 0.9809\n",
      "Epoch 51/1000\n",
      "343/343 [==============================] - ETA: 0s - loss: 0.1061 - accuracy: 0.9702\n",
      "Epoch 51: val_accuracy did not improve from 0.98134\n",
      "343/343 [==============================] - 50s 142ms/step - loss: 0.1061 - accuracy: 0.9702 - val_loss: 0.0774 - val_accuracy: 0.9813\n",
      "Epoch 52/1000\n",
      "343/343 [==============================] - ETA: 0s - loss: 0.1054 - accuracy: 0.9688\n",
      "Epoch 52: val_accuracy did not improve from 0.98134\n",
      "343/343 [==============================] - 49s 138ms/step - loss: 0.1054 - accuracy: 0.9688 - val_loss: 0.0807 - val_accuracy: 0.9797\n",
      "Epoch 53/1000\n",
      "343/343 [==============================] - ETA: 0s - loss: 0.1010 - accuracy: 0.9715\n",
      "Epoch 53: val_accuracy improved from 0.98134 to 0.98174, saving model to ../../models/CNN\\cnn_best_model_v1.keras\n",
      "343/343 [==============================] - 51s 147ms/step - loss: 0.1010 - accuracy: 0.9715 - val_loss: 0.0778 - val_accuracy: 0.9817\n",
      "Epoch 54/1000\n",
      "343/343 [==============================] - ETA: 0s - loss: 0.0970 - accuracy: 0.9728\n",
      "Epoch 54: val_accuracy did not improve from 0.98174\n",
      "343/343 [==============================] - 49s 138ms/step - loss: 0.0970 - accuracy: 0.9728 - val_loss: 0.0811 - val_accuracy: 0.9809\n",
      "Epoch 55/1000\n",
      "343/343 [==============================] - ETA: 0s - loss: 0.0922 - accuracy: 0.9731\n",
      "Epoch 55: val_accuracy improved from 0.98174 to 0.98256, saving model to ../../models/CNN\\cnn_best_model_v1.keras\n",
      "343/343 [==============================] - 49s 141ms/step - loss: 0.0922 - accuracy: 0.9731 - val_loss: 0.0746 - val_accuracy: 0.9826\n",
      "Epoch 56/1000\n",
      "343/343 [==============================] - ETA: 0s - loss: 0.0930 - accuracy: 0.9732\n",
      "Epoch 56: val_accuracy improved from 0.98256 to 0.98296, saving model to ../../models/CNN\\cnn_best_model_v1.keras\n",
      "343/343 [==============================] - 51s 145ms/step - loss: 0.0930 - accuracy: 0.9732 - val_loss: 0.0762 - val_accuracy: 0.9830\n",
      "Epoch 57/1000\n",
      "343/343 [==============================] - ETA: 0s - loss: 0.0893 - accuracy: 0.9743\n",
      "Epoch 57: val_accuracy did not improve from 0.98296\n",
      "343/343 [==============================] - 51s 144ms/step - loss: 0.0893 - accuracy: 0.9743 - val_loss: 0.0751 - val_accuracy: 0.9813\n",
      "Epoch 58/1000\n",
      "343/343 [==============================] - ETA: 0s - loss: 0.0948 - accuracy: 0.9744\n",
      "Epoch 58: val_accuracy improved from 0.98296 to 0.98458, saving model to ../../models/CNN\\cnn_best_model_v1.keras\n",
      "343/343 [==============================] - 55s 157ms/step - loss: 0.0948 - accuracy: 0.9744 - val_loss: 0.0718 - val_accuracy: 0.9846\n",
      "Epoch 59/1000\n",
      "343/343 [==============================] - ETA: 0s - loss: 0.0896 - accuracy: 0.9741\n",
      "Epoch 59: val_accuracy did not improve from 0.98458\n",
      "343/343 [==============================] - 49s 141ms/step - loss: 0.0896 - accuracy: 0.9741 - val_loss: 0.0803 - val_accuracy: 0.9817\n",
      "Epoch 60/1000\n",
      "343/343 [==============================] - ETA: 0s - loss: 0.0904 - accuracy: 0.9740\n",
      "Epoch 60: val_accuracy did not improve from 0.98458\n",
      "343/343 [==============================] - 49s 139ms/step - loss: 0.0904 - accuracy: 0.9740 - val_loss: 0.0767 - val_accuracy: 0.9805\n",
      "Epoch 61/1000\n",
      "343/343 [==============================] - ETA: 0s - loss: 0.0832 - accuracy: 0.9773\n",
      "Epoch 61: val_accuracy did not improve from 0.98458\n",
      "343/343 [==============================] - 49s 139ms/step - loss: 0.0832 - accuracy: 0.9773 - val_loss: 0.0807 - val_accuracy: 0.9817\n",
      "Epoch 62/1000\n",
      "343/343 [==============================] - ETA: 0s - loss: 0.0829 - accuracy: 0.9769\n",
      "Epoch 62: val_accuracy did not improve from 0.98458\n",
      "343/343 [==============================] - 49s 141ms/step - loss: 0.0829 - accuracy: 0.9769 - val_loss: 0.0808 - val_accuracy: 0.9826\n",
      "Epoch 63/1000\n",
      "343/343 [==============================] - ETA: 0s - loss: 0.0874 - accuracy: 0.9765\n",
      "Epoch 63: val_accuracy did not improve from 0.98458\n",
      "343/343 [==============================] - 51s 145ms/step - loss: 0.0874 - accuracy: 0.9765 - val_loss: 0.0704 - val_accuracy: 0.9834\n",
      "Epoch 64/1000\n",
      "343/343 [==============================] - ETA: 0s - loss: 0.0797 - accuracy: 0.9777\n",
      "Epoch 64: val_accuracy did not improve from 0.98458\n",
      "343/343 [==============================] - 49s 140ms/step - loss: 0.0797 - accuracy: 0.9777 - val_loss: 0.0776 - val_accuracy: 0.9834\n",
      "Epoch 65/1000\n",
      "343/343 [==============================] - ETA: 0s - loss: 0.0826 - accuracy: 0.9769\n",
      "Epoch 65: val_accuracy did not improve from 0.98458\n",
      "343/343 [==============================] - 49s 142ms/step - loss: 0.0826 - accuracy: 0.9769 - val_loss: 0.0733 - val_accuracy: 0.9817\n",
      "Epoch 66/1000\n",
      "343/343 [==============================] - ETA: 0s - loss: 0.0790 - accuracy: 0.9769\n",
      "Epoch 66: val_accuracy did not improve from 0.98458\n",
      "343/343 [==============================] - 50s 143ms/step - loss: 0.0790 - accuracy: 0.9769 - val_loss: 0.0702 - val_accuracy: 0.9838\n",
      "Epoch 67/1000\n",
      "343/343 [==============================] - ETA: 0s - loss: 0.0766 - accuracy: 0.9782\n",
      "Epoch 67: val_accuracy did not improve from 0.98458\n",
      "343/343 [==============================] - 50s 144ms/step - loss: 0.0766 - accuracy: 0.9782 - val_loss: 0.0721 - val_accuracy: 0.9826\n",
      "Epoch 68/1000\n",
      "343/343 [==============================] - ETA: 0s - loss: 0.0771 - accuracy: 0.9776\n",
      "Epoch 68: val_accuracy did not improve from 0.98458\n",
      "343/343 [==============================] - 49s 141ms/step - loss: 0.0771 - accuracy: 0.9776 - val_loss: 0.0704 - val_accuracy: 0.9834\n",
      "Epoch 69/1000\n",
      "343/343 [==============================] - ETA: 0s - loss: 0.0728 - accuracy: 0.9796\n",
      "Epoch 69: val_accuracy did not improve from 0.98458\n",
      "343/343 [==============================] - 49s 140ms/step - loss: 0.0728 - accuracy: 0.9796 - val_loss: 0.0754 - val_accuracy: 0.9813\n",
      "Epoch 70/1000\n",
      "343/343 [==============================] - ETA: 0s - loss: 0.0768 - accuracy: 0.9784\n",
      "Epoch 70: val_accuracy did not improve from 0.98458\n",
      "343/343 [==============================] - 50s 144ms/step - loss: 0.0768 - accuracy: 0.9784 - val_loss: 0.0705 - val_accuracy: 0.9830\n",
      "Epoch 71/1000\n",
      "343/343 [==============================] - ETA: 0s - loss: 0.0727 - accuracy: 0.9787\n",
      "Epoch 71: val_accuracy improved from 0.98458 to 0.98499, saving model to ../../models/CNN\\cnn_best_model_v1.keras\n",
      "343/343 [==============================] - 50s 143ms/step - loss: 0.0727 - accuracy: 0.9787 - val_loss: 0.0678 - val_accuracy: 0.9850\n",
      "Epoch 72/1000\n",
      "343/343 [==============================] - ETA: 0s - loss: 0.0704 - accuracy: 0.9789\n",
      "Epoch 72: val_accuracy improved from 0.98499 to 0.98580, saving model to ../../models/CNN\\cnn_best_model_v1.keras\n",
      "343/343 [==============================] - 51s 146ms/step - loss: 0.0704 - accuracy: 0.9789 - val_loss: 0.0641 - val_accuracy: 0.9858\n",
      "Epoch 73/1000\n",
      "343/343 [==============================] - ETA: 0s - loss: 0.0680 - accuracy: 0.9805\n",
      "Epoch 73: val_accuracy did not improve from 0.98580\n",
      "343/343 [==============================] - 50s 144ms/step - loss: 0.0680 - accuracy: 0.9805 - val_loss: 0.0689 - val_accuracy: 0.9830\n",
      "Epoch 74/1000\n",
      "343/343 [==============================] - ETA: 0s - loss: 0.0699 - accuracy: 0.9799\n",
      "Epoch 74: val_accuracy did not improve from 0.98580\n",
      "343/343 [==============================] - 50s 142ms/step - loss: 0.0699 - accuracy: 0.9799 - val_loss: 0.0674 - val_accuracy: 0.9846\n",
      "Epoch 75/1000\n",
      "343/343 [==============================] - ETA: 0s - loss: 0.0677 - accuracy: 0.9801\n",
      "Epoch 75: val_accuracy did not improve from 0.98580\n",
      "343/343 [==============================] - 49s 142ms/step - loss: 0.0677 - accuracy: 0.9801 - val_loss: 0.0707 - val_accuracy: 0.9838\n",
      "Epoch 76/1000\n",
      "343/343 [==============================] - ETA: 0s - loss: 0.0699 - accuracy: 0.9801\n",
      "Epoch 76: val_accuracy did not improve from 0.98580\n",
      "343/343 [==============================] - 49s 141ms/step - loss: 0.0699 - accuracy: 0.9801 - val_loss: 0.0684 - val_accuracy: 0.9838\n",
      "Epoch 77/1000\n",
      "343/343 [==============================] - ETA: 0s - loss: 0.0639 - accuracy: 0.9810\n",
      "Epoch 77: val_accuracy did not improve from 0.98580\n",
      "343/343 [==============================] - 49s 139ms/step - loss: 0.0639 - accuracy: 0.9810 - val_loss: 0.0734 - val_accuracy: 0.9846\n",
      "Epoch 78/1000\n",
      "343/343 [==============================] - ETA: 0s - loss: 0.0645 - accuracy: 0.9815\n",
      "Epoch 78: val_accuracy did not improve from 0.98580\n",
      "343/343 [==============================] - 49s 139ms/step - loss: 0.0645 - accuracy: 0.9815 - val_loss: 0.0694 - val_accuracy: 0.9838\n",
      "Epoch 79/1000\n",
      "343/343 [==============================] - ETA: 0s - loss: 0.0638 - accuracy: 0.9823\n",
      "Epoch 79: val_accuracy did not improve from 0.98580\n",
      "343/343 [==============================] - 49s 141ms/step - loss: 0.0638 - accuracy: 0.9823 - val_loss: 0.0679 - val_accuracy: 0.9854\n",
      "Epoch 80/1000\n",
      "343/343 [==============================] - ETA: 0s - loss: 0.0604 - accuracy: 0.9823\n",
      "Epoch 80: val_accuracy did not improve from 0.98580\n",
      "343/343 [==============================] - 50s 142ms/step - loss: 0.0604 - accuracy: 0.9823 - val_loss: 0.0681 - val_accuracy: 0.9846\n",
      "Epoch 81/1000\n",
      "343/343 [==============================] - ETA: 0s - loss: 0.0605 - accuracy: 0.9827\n",
      "Epoch 81: val_accuracy did not improve from 0.98580\n",
      "343/343 [==============================] - 50s 141ms/step - loss: 0.0605 - accuracy: 0.9827 - val_loss: 0.0715 - val_accuracy: 0.9817\n",
      "Epoch 82/1000\n",
      "343/343 [==============================] - ETA: 0s - loss: 0.0619 - accuracy: 0.9829\n",
      "Epoch 82: val_accuracy did not improve from 0.98580\n",
      "343/343 [==============================] - 49s 139ms/step - loss: 0.0619 - accuracy: 0.9829 - val_loss: 0.0741 - val_accuracy: 0.9817\n",
      "Epoch 83/1000\n",
      "343/343 [==============================] - ETA: 0s - loss: 0.0593 - accuracy: 0.9833\n",
      "Epoch 83: val_accuracy did not improve from 0.98580\n",
      "343/343 [==============================] - 48s 138ms/step - loss: 0.0593 - accuracy: 0.9833 - val_loss: 0.0702 - val_accuracy: 0.9838\n",
      "Epoch 84/1000\n",
      "343/343 [==============================] - ETA: 0s - loss: 0.0588 - accuracy: 0.9827\n",
      "Epoch 84: val_accuracy did not improve from 0.98580\n",
      "343/343 [==============================] - 49s 141ms/step - loss: 0.0588 - accuracy: 0.9827 - val_loss: 0.0680 - val_accuracy: 0.9854\n",
      "Epoch 85/1000\n",
      "343/343 [==============================] - ETA: 0s - loss: 0.0558 - accuracy: 0.9839\n",
      "Epoch 85: val_accuracy did not improve from 0.98580\n",
      "343/343 [==============================] - 48s 139ms/step - loss: 0.0558 - accuracy: 0.9839 - val_loss: 0.0686 - val_accuracy: 0.9842\n",
      "Epoch 86/1000\n",
      "343/343 [==============================] - ETA: 0s - loss: 0.0555 - accuracy: 0.9839\n",
      "Epoch 86: val_accuracy did not improve from 0.98580\n",
      "343/343 [==============================] - 50s 142ms/step - loss: 0.0555 - accuracy: 0.9839 - val_loss: 0.0675 - val_accuracy: 0.9842\n",
      "Epoch 87/1000\n",
      "343/343 [==============================] - ETA: 0s - loss: 0.0603 - accuracy: 0.9817\n",
      "Epoch 87: val_accuracy did not improve from 0.98580\n",
      "343/343 [==============================] - 49s 139ms/step - loss: 0.0603 - accuracy: 0.9817 - val_loss: 0.0670 - val_accuracy: 0.9834\n",
      "Epoch 88/1000\n",
      "343/343 [==============================] - ETA: 0s - loss: 0.0564 - accuracy: 0.9844\n",
      "Epoch 88: val_accuracy did not improve from 0.98580\n",
      "343/343 [==============================] - 48s 138ms/step - loss: 0.0564 - accuracy: 0.9844 - val_loss: 0.0682 - val_accuracy: 0.9846\n",
      "Epoch 89/1000\n",
      "343/343 [==============================] - ETA: 0s - loss: 0.0536 - accuracy: 0.9850\n",
      "Epoch 89: val_accuracy did not improve from 0.98580\n",
      "343/343 [==============================] - 49s 141ms/step - loss: 0.0536 - accuracy: 0.9850 - val_loss: 0.0643 - val_accuracy: 0.9854\n",
      "Epoch 90/1000\n",
      "343/343 [==============================] - ETA: 0s - loss: 0.0505 - accuracy: 0.9857\n",
      "Epoch 90: val_accuracy did not improve from 0.98580\n",
      "343/343 [==============================] - 49s 142ms/step - loss: 0.0505 - accuracy: 0.9857 - val_loss: 0.0698 - val_accuracy: 0.9834\n",
      "Epoch 91/1000\n",
      "343/343 [==============================] - ETA: 0s - loss: 0.0534 - accuracy: 0.9841\n",
      "Epoch 91: val_accuracy did not improve from 0.98580\n",
      "343/343 [==============================] - 49s 140ms/step - loss: 0.0534 - accuracy: 0.9841 - val_loss: 0.0670 - val_accuracy: 0.9834\n",
      "Epoch 92/1000\n",
      "343/343 [==============================] - ETA: 0s - loss: 0.0527 - accuracy: 0.9848\n",
      "Epoch 92: val_accuracy did not improve from 0.98580\n",
      "343/343 [==============================] - 49s 139ms/step - loss: 0.0527 - accuracy: 0.9848 - val_loss: 0.0670 - val_accuracy: 0.9858\n",
      "Epoch 92: early stopping\n"
     ]
    }
   ],
   "execution_count": 9
  },
  {
   "metadata": {
    "ExecuteTime": {
     "end_time": "2025-03-14T12:08:55.390157Z",
     "start_time": "2025-03-14T12:08:55.372204Z"
    }
   },
   "cell_type": "code",
   "source": "print(f\"Mô hình tốt nhất đã được lưu tại: {os.path.join(model_dir, best_model_filename)}\")",
   "id": "6a1dcff7712affe8",
   "outputs": [
    {
     "name": "stdout",
     "output_type": "stream",
     "text": [
      "Mô hình tốt nhất đã được lưu tại: ../../models/CNN\\cnn_best_model_v1.keras\n"
     ]
    }
   ],
   "execution_count": 10
  },
  {
   "metadata": {
    "ExecuteTime": {
     "end_time": "2025-03-14T12:08:56.535880Z",
     "start_time": "2025-03-14T12:08:55.452003Z"
    }
   },
   "cell_type": "code",
   "source": [
    "import matplotlib.pyplot as plt\n",
    "\n",
    "plt.figure(figsize=(12, 4))\n",
    "plt.subplot(1, 2, 1)\n",
    "plt.plot(history.history['accuracy'], label='Train Accuracy')\n",
    "plt.plot(history.history['val_accuracy'], label='Validation Accuracy')\n",
    "plt.title('Model Accuracy')\n",
    "plt.xlabel('Epoch')\n",
    "plt.ylabel('Accuracy')\n",
    "plt.legend()\n",
    "\n",
    "plt.subplot(1, 2, 2)\n",
    "plt.plot(history.history['loss'], label='Train Loss')\n",
    "plt.plot(history.history['val_loss'], label='Validation Loss')\n",
    "plt.title('Model Loss')\n",
    "plt.xlabel('Epoch')\n",
    "plt.ylabel('Loss')\n",
    "plt.legend()\n",
    "\n",
    "plt.show()"
   ],
   "id": "aab90a9332a8bff5",
   "outputs": [
    {
     "data": {
      "text/plain": [
       "<Figure size 1200x400 with 2 Axes>"
      ],
      "image/png": "[encoded data removed]"
     },
     "metadata": {},
     "output_type": "display_data"
    }
   ],
   "execution_count": 11
  },
  {
   "metadata": {
    "ExecuteTime": {
     "end_time": "2025-03-14T12:08:57.205500Z",
     "start_time": "2025-03-14T12:08:56.553346Z"
    }
   },
   "cell_type": "code",
   "source": [
    "import random\n",
    "import numpy as np\n",
    "import string\n",
    "\n",
    "val_images, val_labels = next(iter(val_ds))\n",
    "random_index = random.randint(0, BATCH_SIZE - 1)\n",
    "img = val_images[random_index]\n",
    "true_label = val_labels[random_index]\n",
    "\n",
    "pred = model.predict(tf.expand_dims(img, axis=0))\n",
    "pred_label = string.ascii_uppercase[np.argmax(pred)]\n",
    "true_label_str = string.ascii_uppercase[np.argmax(true_label)]\n",
    "\n",
    "plt.imshow(img)\n",
    "plt.title(f\"True: {true_label_str}, Pred: {pred_label}\")\n",
    "plt.axis('off')\n",
    "plt.show()"
   ],
   "id": "3b428636de8fb905",
   "outputs": [
    {
     "name": "stdout",
     "output_type": "stream",
     "text": [
      "1/1 [==============================] - 0s 228ms/step\n"
     ]
    },
    {
     "data": {
      "text/plain": [
       "<Figure size 640x480 with 1 Axes>"
      ],
      "image/png": "[encoded data removed]"
     },
     "metadata": {},
     "output_type": "display_data"
    }
   ],
   "execution_count": 12
  }
 ],
 "metadata": {
  "kernelspec": {
   "display_name": "Python 3",
   "language": "python",
   "name": "python3"
  },
  "language_info": {
   "codemirror_mode": {
    "name": "ipython",
    "version": 2
   },
   "file_extension": ".py",
   "mimetype": "text/x-python",
   "name": "python",
   "nbconvert_exporter": "python",
   "pygments_lexer": "ipython2",
   "version": "2.7.6"
  }
 },
 "nbformat": 4,
 "nbformat_minor": 5
}
